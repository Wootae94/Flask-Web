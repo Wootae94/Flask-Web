{
 "metadata": {
  "language_info": {
   "codemirror_mode": {
    "name": "ipython",
    "version": 3
   },
   "file_extension": ".py",
   "mimetype": "text/x-python",
   "name": "python",
   "nbconvert_exporter": "python",
   "pygments_lexer": "ipython3",
   "version": "3.8.3-final"
  },
  "orig_nbformat": 2,
  "kernelspec": {
   "name": "python3",
   "display_name": "Python 3",
   "language": "python"
  }
 },
 "nbformat": 4,
 "nbformat_minor": 2,
 "cells": [
  {
   "cell_type": "code",
   "execution_count": 1,
   "metadata": {},
   "outputs": [],
   "source": [
    "import pandas as pd"
   ]
  },
  {
   "cell_type": "code",
   "execution_count": 2,
   "metadata": {},
   "outputs": [],
   "source": [
    "df=pd.read_csv('./static/data/Seoul_Park.csv')"
   ]
  },
  {
   "cell_type": "code",
   "execution_count": 3,
   "metadata": {},
   "outputs": [
    {
     "output_type": "execute_result",
     "data": {
      "text/plain": [
       "                 공원명  Unnamed: 0         면적                           공원주소  \\\n",
       "0           남산도시자연공원           0  2896887.0         서울특별시 중구 삼일대로 231(예장동)   \n",
       "1             길동생태공원           1    80683.0   서울특별시 강동구 천호대로 1291(길동생태공원)    \n",
       "2                서울숲           2   480994.0     서울특별시 성동구 뚝섬로 273 (성수동1가)    \n",
       "3              월드컵공원           3  2284085.0      서울특별시 마포구 하늘공원로 84(월드컵공원)   \n",
       "4          광화문시민열린마당           4     8948.0             서울특별시 종로구 세종로 76-2   \n",
       "..               ...         ...        ...                            ...   \n",
       "126  용마도시자연공원(사가정공원)         126   109635.0            서울특별시 중랑구 면목7동 산50    \n",
       "127           문화비축기지         127   140022.0               서울특별시 마포구 증산로 87   \n",
       "128            경춘선숲길         128   211392.0          서울특별시 노원구 공릉2동 산 82-2   \n",
       "129             율현공원         129   157535.0  서울특별시 강남구 율현동 밤고개로24길(율현동 56)   \n",
       "130          서울로7017         130    22862.0       서울특별시 중구 퇴계로 33 (남대문로5가)   \n",
       "\n",
       "           lat         lng  지역구   크기  반지름  \\\n",
       "0    37.550140  126.990377   중구  초대형    4   \n",
       "1    37.540394  127.154779  강동구   중형    2   \n",
       "2    37.543072  127.041798  성동구   대형    3   \n",
       "3    37.571805  126.878907  마포구  초대형    4   \n",
       "4    37.575045  126.978023  종로구   소형    1   \n",
       "..         ...         ...  ...  ...  ...   \n",
       "126  37.579762  127.095997  중랑구   중형    2   \n",
       "127  37.571718  126.893245  마포구   중형    2   \n",
       "128  37.627077  127.076482  노원구   대형    3   \n",
       "129  37.472332  127.115594  강남구   대형    3   \n",
       "130  37.557546  126.976608   중구   소형    1   \n",
       "\n",
       "                                                  공원개요  \n",
       "0    남산공원은 도심에 위치하여 서울시민에게 맑은 공기를 제공하는 자연휴식처이며 산책 꽃...  \n",
       "1    길동생태공원은 생물의 서식처를 제공하고 종다양성을 증진시키며 자연생태계의 생물들을 ...  \n",
       "2    당초 골프장 승마장 등이 있던 뚝섬일대를 주거업무 지역으로 개발할 경우 약 4조원에...  \n",
       "3    월드컵공원은 서울의 서쪽에 위치하여 1978년부터 1993년까지 15년간 서울시민이...  \n",
       "4    광화문 옛 육조거리가 있던 자리에 새롭게 탄생한 서울시민을 위한 쉼터 '시민열린마당...  \n",
       "..                                                 ...  \n",
       "126  2005년 4월 13일 개장한 사가정공원은 면목동 산 50번지 일대의 면목약수터지구...  \n",
       "127  매봉산자락에 위치한 문화비축기지는 폐산업시설인 '마포석유비축기지'를 재생하여 역사적...  \n",
       "128  일제 강점기때 우리 민족의 자본으로 만든 최초의 철도시설로 1939년 7월 25일 ...  \n",
       "129  ? 율현공원은 보금자리주택 세곡2지구 사업의 결과물로 만들어졌다. 공원은 주택지구의...  \n",
       "130  서울로7017은 70년대 준공된 서울역 고가가 안전에 문제점이 도출되면서 철거가 될...  \n",
       "\n",
       "[131 rows x 10 columns]"
      ],
      "text/html": "<div>\n<style scoped>\n    .dataframe tbody tr th:only-of-type {\n        vertical-align: middle;\n    }\n\n    .dataframe tbody tr th {\n        vertical-align: top;\n    }\n\n    .dataframe thead th {\n        text-align: right;\n    }\n</style>\n<table border=\"1\" class=\"dataframe\">\n  <thead>\n    <tr style=\"text-align: right;\">\n      <th></th>\n      <th>공원명</th>\n      <th>Unnamed: 0</th>\n      <th>면적</th>\n      <th>공원주소</th>\n      <th>lat</th>\n      <th>lng</th>\n      <th>지역구</th>\n      <th>크기</th>\n      <th>반지름</th>\n      <th>공원개요</th>\n    </tr>\n  </thead>\n  <tbody>\n    <tr>\n      <th>0</th>\n      <td>남산도시자연공원</td>\n      <td>0</td>\n      <td>2896887.0</td>\n      <td>서울특별시 중구 삼일대로 231(예장동)</td>\n      <td>37.550140</td>\n      <td>126.990377</td>\n      <td>중구</td>\n      <td>초대형</td>\n      <td>4</td>\n      <td>남산공원은 도심에 위치하여 서울시민에게 맑은 공기를 제공하는 자연휴식처이며 산책 꽃...</td>\n    </tr>\n    <tr>\n      <th>1</th>\n      <td>길동생태공원</td>\n      <td>1</td>\n      <td>80683.0</td>\n      <td>서울특별시 강동구 천호대로 1291(길동생태공원)</td>\n      <td>37.540394</td>\n      <td>127.154779</td>\n      <td>강동구</td>\n      <td>중형</td>\n      <td>2</td>\n      <td>길동생태공원은 생물의 서식처를 제공하고 종다양성을 증진시키며 자연생태계의 생물들을 ...</td>\n    </tr>\n    <tr>\n      <th>2</th>\n      <td>서울숲</td>\n      <td>2</td>\n      <td>480994.0</td>\n      <td>서울특별시 성동구 뚝섬로 273 (성수동1가)</td>\n      <td>37.543072</td>\n      <td>127.041798</td>\n      <td>성동구</td>\n      <td>대형</td>\n      <td>3</td>\n      <td>당초 골프장 승마장 등이 있던 뚝섬일대를 주거업무 지역으로 개발할 경우 약 4조원에...</td>\n    </tr>\n    <tr>\n      <th>3</th>\n      <td>월드컵공원</td>\n      <td>3</td>\n      <td>2284085.0</td>\n      <td>서울특별시 마포구 하늘공원로 84(월드컵공원)</td>\n      <td>37.571805</td>\n      <td>126.878907</td>\n      <td>마포구</td>\n      <td>초대형</td>\n      <td>4</td>\n      <td>월드컵공원은 서울의 서쪽에 위치하여 1978년부터 1993년까지 15년간 서울시민이...</td>\n    </tr>\n    <tr>\n      <th>4</th>\n      <td>광화문시민열린마당</td>\n      <td>4</td>\n      <td>8948.0</td>\n      <td>서울특별시 종로구 세종로 76-2</td>\n      <td>37.575045</td>\n      <td>126.978023</td>\n      <td>종로구</td>\n      <td>소형</td>\n      <td>1</td>\n      <td>광화문 옛 육조거리가 있던 자리에 새롭게 탄생한 서울시민을 위한 쉼터 '시민열린마당...</td>\n    </tr>\n    <tr>\n      <th>...</th>\n      <td>...</td>\n      <td>...</td>\n      <td>...</td>\n      <td>...</td>\n      <td>...</td>\n      <td>...</td>\n      <td>...</td>\n      <td>...</td>\n      <td>...</td>\n      <td>...</td>\n    </tr>\n    <tr>\n      <th>126</th>\n      <td>용마도시자연공원(사가정공원)</td>\n      <td>126</td>\n      <td>109635.0</td>\n      <td>서울특별시 중랑구 면목7동 산50</td>\n      <td>37.579762</td>\n      <td>127.095997</td>\n      <td>중랑구</td>\n      <td>중형</td>\n      <td>2</td>\n      <td>2005년 4월 13일 개장한 사가정공원은 면목동 산 50번지 일대의 면목약수터지구...</td>\n    </tr>\n    <tr>\n      <th>127</th>\n      <td>문화비축기지</td>\n      <td>127</td>\n      <td>140022.0</td>\n      <td>서울특별시 마포구 증산로 87</td>\n      <td>37.571718</td>\n      <td>126.893245</td>\n      <td>마포구</td>\n      <td>중형</td>\n      <td>2</td>\n      <td>매봉산자락에 위치한 문화비축기지는 폐산업시설인 '마포석유비축기지'를 재생하여 역사적...</td>\n    </tr>\n    <tr>\n      <th>128</th>\n      <td>경춘선숲길</td>\n      <td>128</td>\n      <td>211392.0</td>\n      <td>서울특별시 노원구 공릉2동 산 82-2</td>\n      <td>37.627077</td>\n      <td>127.076482</td>\n      <td>노원구</td>\n      <td>대형</td>\n      <td>3</td>\n      <td>일제 강점기때 우리 민족의 자본으로 만든 최초의 철도시설로 1939년 7월 25일 ...</td>\n    </tr>\n    <tr>\n      <th>129</th>\n      <td>율현공원</td>\n      <td>129</td>\n      <td>157535.0</td>\n      <td>서울특별시 강남구 율현동 밤고개로24길(율현동 56)</td>\n      <td>37.472332</td>\n      <td>127.115594</td>\n      <td>강남구</td>\n      <td>대형</td>\n      <td>3</td>\n      <td>? 율현공원은 보금자리주택 세곡2지구 사업의 결과물로 만들어졌다. 공원은 주택지구의...</td>\n    </tr>\n    <tr>\n      <th>130</th>\n      <td>서울로7017</td>\n      <td>130</td>\n      <td>22862.0</td>\n      <td>서울특별시 중구 퇴계로 33 (남대문로5가)</td>\n      <td>37.557546</td>\n      <td>126.976608</td>\n      <td>중구</td>\n      <td>소형</td>\n      <td>1</td>\n      <td>서울로7017은 70년대 준공된 서울역 고가가 안전에 문제점이 도출되면서 철거가 될...</td>\n    </tr>\n  </tbody>\n</table>\n<p>131 rows × 10 columns</p>\n</div>"
     },
     "metadata": {},
     "execution_count": 3
    }
   ],
   "source": [
    "df"
   ]
  },
  {
   "cell_type": "code",
   "execution_count": 6,
   "metadata": {},
   "outputs": [],
   "source": [
    "del df['Unnamed: 0']"
   ]
  },
  {
   "cell_type": "code",
   "execution_count": 7,
   "metadata": {},
   "outputs": [
    {
     "output_type": "execute_result",
     "data": {
      "text/plain": [
       "                 공원명         면적                           공원주소        lat  \\\n",
       "0           남산도시자연공원  2896887.0         서울특별시 중구 삼일대로 231(예장동)  37.550140   \n",
       "1             길동생태공원    80683.0   서울특별시 강동구 천호대로 1291(길동생태공원)   37.540394   \n",
       "2                서울숲   480994.0     서울특별시 성동구 뚝섬로 273 (성수동1가)   37.543072   \n",
       "3              월드컵공원  2284085.0      서울특별시 마포구 하늘공원로 84(월드컵공원)  37.571805   \n",
       "4          광화문시민열린마당     8948.0             서울특별시 종로구 세종로 76-2  37.575045   \n",
       "..               ...        ...                            ...        ...   \n",
       "126  용마도시자연공원(사가정공원)   109635.0            서울특별시 중랑구 면목7동 산50   37.579762   \n",
       "127           문화비축기지   140022.0               서울특별시 마포구 증산로 87  37.571718   \n",
       "128            경춘선숲길   211392.0          서울특별시 노원구 공릉2동 산 82-2  37.627077   \n",
       "129             율현공원   157535.0  서울특별시 강남구 율현동 밤고개로24길(율현동 56)  37.472332   \n",
       "130          서울로7017    22862.0       서울특별시 중구 퇴계로 33 (남대문로5가)  37.557546   \n",
       "\n",
       "            lng  지역구   크기 반지름  \\\n",
       "0    126.990377   중구  초대형   7   \n",
       "1    127.154779  강동구   중형   3   \n",
       "2    127.041798  성동구   대형   5   \n",
       "3    126.878907  마포구  초대형   7   \n",
       "4    126.978023  종로구   소형   1   \n",
       "..          ...  ...  ...  ..   \n",
       "126  127.095997  중랑구   중형   3   \n",
       "127  126.893245  마포구   중형   3   \n",
       "128  127.076482  노원구   대형   5   \n",
       "129  127.115594  강남구   대형   5   \n",
       "130  126.976608   중구   소형   1   \n",
       "\n",
       "                                                  공원개요  \n",
       "0    남산공원은 도심에 위치하여 서울시민에게 맑은 공기를 제공하는 자연휴식처이며 산책 꽃...  \n",
       "1    길동생태공원은 생물의 서식처를 제공하고 종다양성을 증진시키며 자연생태계의 생물들을 ...  \n",
       "2    당초 골프장 승마장 등이 있던 뚝섬일대를 주거업무 지역으로 개발할 경우 약 4조원에...  \n",
       "3    월드컵공원은 서울의 서쪽에 위치하여 1978년부터 1993년까지 15년간 서울시민이...  \n",
       "4    광화문 옛 육조거리가 있던 자리에 새롭게 탄생한 서울시민을 위한 쉼터 '시민열린마당...  \n",
       "..                                                 ...  \n",
       "126  2005년 4월 13일 개장한 사가정공원은 면목동 산 50번지 일대의 면목약수터지구...  \n",
       "127  매봉산자락에 위치한 문화비축기지는 폐산업시설인 '마포석유비축기지'를 재생하여 역사적...  \n",
       "128  일제 강점기때 우리 민족의 자본으로 만든 최초의 철도시설로 1939년 7월 25일 ...  \n",
       "129  ? 율현공원은 보금자리주택 세곡2지구 사업의 결과물로 만들어졌다. 공원은 주택지구의...  \n",
       "130  서울로7017은 70년대 준공된 서울역 고가가 안전에 문제점이 도출되면서 철거가 될...  \n",
       "\n",
       "[131 rows x 9 columns]"
      ],
      "text/html": "<div>\n<style scoped>\n    .dataframe tbody tr th:only-of-type {\n        vertical-align: middle;\n    }\n\n    .dataframe tbody tr th {\n        vertical-align: top;\n    }\n\n    .dataframe thead th {\n        text-align: right;\n    }\n</style>\n<table border=\"1\" class=\"dataframe\">\n  <thead>\n    <tr style=\"text-align: right;\">\n      <th></th>\n      <th>공원명</th>\n      <th>면적</th>\n      <th>공원주소</th>\n      <th>lat</th>\n      <th>lng</th>\n      <th>지역구</th>\n      <th>크기</th>\n      <th>반지름</th>\n      <th>공원개요</th>\n    </tr>\n  </thead>\n  <tbody>\n    <tr>\n      <th>0</th>\n      <td>남산도시자연공원</td>\n      <td>2896887.0</td>\n      <td>서울특별시 중구 삼일대로 231(예장동)</td>\n      <td>37.550140</td>\n      <td>126.990377</td>\n      <td>중구</td>\n      <td>초대형</td>\n      <td>7</td>\n      <td>남산공원은 도심에 위치하여 서울시민에게 맑은 공기를 제공하는 자연휴식처이며 산책 꽃...</td>\n    </tr>\n    <tr>\n      <th>1</th>\n      <td>길동생태공원</td>\n      <td>80683.0</td>\n      <td>서울특별시 강동구 천호대로 1291(길동생태공원)</td>\n      <td>37.540394</td>\n      <td>127.154779</td>\n      <td>강동구</td>\n      <td>중형</td>\n      <td>3</td>\n      <td>길동생태공원은 생물의 서식처를 제공하고 종다양성을 증진시키며 자연생태계의 생물들을 ...</td>\n    </tr>\n    <tr>\n      <th>2</th>\n      <td>서울숲</td>\n      <td>480994.0</td>\n      <td>서울특별시 성동구 뚝섬로 273 (성수동1가)</td>\n      <td>37.543072</td>\n      <td>127.041798</td>\n      <td>성동구</td>\n      <td>대형</td>\n      <td>5</td>\n      <td>당초 골프장 승마장 등이 있던 뚝섬일대를 주거업무 지역으로 개발할 경우 약 4조원에...</td>\n    </tr>\n    <tr>\n      <th>3</th>\n      <td>월드컵공원</td>\n      <td>2284085.0</td>\n      <td>서울특별시 마포구 하늘공원로 84(월드컵공원)</td>\n      <td>37.571805</td>\n      <td>126.878907</td>\n      <td>마포구</td>\n      <td>초대형</td>\n      <td>7</td>\n      <td>월드컵공원은 서울의 서쪽에 위치하여 1978년부터 1993년까지 15년간 서울시민이...</td>\n    </tr>\n    <tr>\n      <th>4</th>\n      <td>광화문시민열린마당</td>\n      <td>8948.0</td>\n      <td>서울특별시 종로구 세종로 76-2</td>\n      <td>37.575045</td>\n      <td>126.978023</td>\n      <td>종로구</td>\n      <td>소형</td>\n      <td>1</td>\n      <td>광화문 옛 육조거리가 있던 자리에 새롭게 탄생한 서울시민을 위한 쉼터 '시민열린마당...</td>\n    </tr>\n    <tr>\n      <th>...</th>\n      <td>...</td>\n      <td>...</td>\n      <td>...</td>\n      <td>...</td>\n      <td>...</td>\n      <td>...</td>\n      <td>...</td>\n      <td>...</td>\n      <td>...</td>\n    </tr>\n    <tr>\n      <th>126</th>\n      <td>용마도시자연공원(사가정공원)</td>\n      <td>109635.0</td>\n      <td>서울특별시 중랑구 면목7동 산50</td>\n      <td>37.579762</td>\n      <td>127.095997</td>\n      <td>중랑구</td>\n      <td>중형</td>\n      <td>3</td>\n      <td>2005년 4월 13일 개장한 사가정공원은 면목동 산 50번지 일대의 면목약수터지구...</td>\n    </tr>\n    <tr>\n      <th>127</th>\n      <td>문화비축기지</td>\n      <td>140022.0</td>\n      <td>서울특별시 마포구 증산로 87</td>\n      <td>37.571718</td>\n      <td>126.893245</td>\n      <td>마포구</td>\n      <td>중형</td>\n      <td>3</td>\n      <td>매봉산자락에 위치한 문화비축기지는 폐산업시설인 '마포석유비축기지'를 재생하여 역사적...</td>\n    </tr>\n    <tr>\n      <th>128</th>\n      <td>경춘선숲길</td>\n      <td>211392.0</td>\n      <td>서울특별시 노원구 공릉2동 산 82-2</td>\n      <td>37.627077</td>\n      <td>127.076482</td>\n      <td>노원구</td>\n      <td>대형</td>\n      <td>5</td>\n      <td>일제 강점기때 우리 민족의 자본으로 만든 최초의 철도시설로 1939년 7월 25일 ...</td>\n    </tr>\n    <tr>\n      <th>129</th>\n      <td>율현공원</td>\n      <td>157535.0</td>\n      <td>서울특별시 강남구 율현동 밤고개로24길(율현동 56)</td>\n      <td>37.472332</td>\n      <td>127.115594</td>\n      <td>강남구</td>\n      <td>대형</td>\n      <td>5</td>\n      <td>? 율현공원은 보금자리주택 세곡2지구 사업의 결과물로 만들어졌다. 공원은 주택지구의...</td>\n    </tr>\n    <tr>\n      <th>130</th>\n      <td>서울로7017</td>\n      <td>22862.0</td>\n      <td>서울특별시 중구 퇴계로 33 (남대문로5가)</td>\n      <td>37.557546</td>\n      <td>126.976608</td>\n      <td>중구</td>\n      <td>소형</td>\n      <td>1</td>\n      <td>서울로7017은 70년대 준공된 서울역 고가가 안전에 문제점이 도출되면서 철거가 될...</td>\n    </tr>\n  </tbody>\n</table>\n<p>131 rows × 9 columns</p>\n</div>"
     },
     "metadata": {},
     "execution_count": 7
    }
   ],
   "source": [
    "radius = [1,3,5,7]\n",
    "df['반지름'] = pd.qcut(df['면적'],4,labels=radius)\n",
    "df"
   ]
  },
  {
   "cell_type": "code",
   "execution_count": 8,
   "metadata": {},
   "outputs": [],
   "source": [
    "df.to_csv('./static/data/Seoul_Park.csv',sep=',',encoding='utf-8')"
   ]
  },
  {
   "cell_type": "code",
   "execution_count": 12,
   "metadata": {},
   "outputs": [
    {
     "output_type": "execute_result",
     "data": {
      "text/plain": [
       "[130,\n",
       " '서울로7017',\n",
       " 22862.0,\n",
       " '서울특별시 중구 퇴계로 33 (남대문로5가)',\n",
       " 37.5575463434632,\n",
       " 126.976607882008,\n",
       " '중구',\n",
       " '소형',\n",
       " 1,\n",
       " '서울로7017은 70년대 준공된 서울역 고가가 안전에 문제점이 도출되면서 철거가 될 상황에 놓여지게 되었는데 이를 상징적으로는 서울의 관문이자 지역재생의 촉매제 역할을 담당하는 17개의 사람길로 재탄생된 곳입니다. 공중보행로의 기능과 녹지가 결합되어 살아있는 식물도감이 되며 1km의 도심전망대 역할까지 수행하고 있습니다.']"
      ]
     },
     "metadata": {},
     "execution_count": 12
    }
   ],
   "source": [
    "df[df['공원명']=='서울로7017'].reset_index().loc[0,:].tolist()"
   ]
  },
  {
   "cell_type": "code",
   "execution_count": 13,
   "metadata": {},
   "outputs": [
    {
     "output_type": "execute_result",
     "data": {
      "text/plain": [
       "   index      공원명       면적                      공원주소        lat         lng  \\\n",
       "0    130  서울로7017  22862.0  서울특별시 중구 퇴계로 33 (남대문로5가)  37.557546  126.976608   \n",
       "\n",
       "  지역구  크기 반지름                                               공원개요  \n",
       "0  중구  소형   1  서울로7017은 70년대 준공된 서울역 고가가 안전에 문제점이 도출되면서 철거가 될...  "
      ],
      "text/html": "<div>\n<style scoped>\n    .dataframe tbody tr th:only-of-type {\n        vertical-align: middle;\n    }\n\n    .dataframe tbody tr th {\n        vertical-align: top;\n    }\n\n    .dataframe thead th {\n        text-align: right;\n    }\n</style>\n<table border=\"1\" class=\"dataframe\">\n  <thead>\n    <tr style=\"text-align: right;\">\n      <th></th>\n      <th>index</th>\n      <th>공원명</th>\n      <th>면적</th>\n      <th>공원주소</th>\n      <th>lat</th>\n      <th>lng</th>\n      <th>지역구</th>\n      <th>크기</th>\n      <th>반지름</th>\n      <th>공원개요</th>\n    </tr>\n  </thead>\n  <tbody>\n    <tr>\n      <th>0</th>\n      <td>130</td>\n      <td>서울로7017</td>\n      <td>22862.0</td>\n      <td>서울특별시 중구 퇴계로 33 (남대문로5가)</td>\n      <td>37.557546</td>\n      <td>126.976608</td>\n      <td>중구</td>\n      <td>소형</td>\n      <td>1</td>\n      <td>서울로7017은 70년대 준공된 서울역 고가가 안전에 문제점이 도출되면서 철거가 될...</td>\n    </tr>\n  </tbody>\n</table>\n</div>"
     },
     "metadata": {},
     "execution_count": 13
    }
   ],
   "source": [
    "df[df['공원명']=='서울로7017'].reset_index()"
   ]
  },
  {
   "cell_type": "code",
   "execution_count": 61,
   "metadata": {},
   "outputs": [],
   "source": [
    "df2=pd.read_csv('./static/data/gu_park.csv')"
   ]
  },
  {
   "cell_type": "code",
   "execution_count": 62,
   "metadata": {},
   "outputs": [
    {
     "output_type": "execute_result",
     "data": {
      "text/plain": [
       "    Unnamed: 0   지역구  공원 갯수     인구수   구 면적      공원총면적       면적비     인구수당면적\n",
       "0            0   강남구      7  544085  39.50   3.626398  0.091808   6.665131\n",
       "1            1   강동구      7  462275  24.59   1.526387  0.062073   3.301903\n",
       "2            2   강북구      3  313550  23.60   2.047054  0.086740   6.528637\n",
       "3            3   강서구      9  589536  41.44   2.194152  0.052948   3.721829\n",
       "4            4   관악구      2  514555  29.57  10.431453  0.352771  20.272766\n",
       "5            5   광진구      2  361923  17.06   0.584002  0.034232   1.613608\n",
       "6            6   구로구      4  435751  20.12   1.721011  0.085537   3.949529\n",
       "7            7   금천구      4  249641  13.02   0.123251  0.009466   0.493713\n",
       "8            8   노원구      3  529532  35.44  12.235699  0.345251  23.106628\n",
       "9            9   도봉구      6  329300  20.66   1.084218  0.052479   3.292493\n",
       "10          10  동대문구      4  358679  14.22   0.458663  0.032255   1.278756\n",
       "11          11   동작구      7  404617  16.35   3.706738  0.226712   9.161103\n",
       "12          12   마포구      5  383494  23.85   2.685112  0.112583   7.001705\n",
       "13          13  서대문구      4  323860  17.63   3.321475  0.188399  10.255898\n",
       "14          14   서초구      6  429995  46.98  13.359636  0.284369  31.069282\n",
       "15          15   성동구      5  302695  16.86   0.626838  0.037179   2.070857\n",
       "16          16   성북구      3  449871  24.57   1.198327  0.048772   2.663712\n",
       "17          17   송파구      7  676673  33.87   2.838992  0.083820   4.195515\n",
       "18          18   양천구      5  460048  17.41   1.203428  0.069123   2.615875\n",
       "19          19  영등포구      5  405982  24.55   0.424446  0.017289   1.045480\n",
       "20          20   용산구      2  244953  21.87   0.247194  0.011303   1.009149\n",
       "21          21   은평구      7  485842  29.71   2.987443  0.100553   6.149001\n",
       "22          22   종로구     13  159842  23.91   5.575526  0.233188  34.881483\n",
       "23          23    중구      6  135321   9.96   3.001129  0.301318  22.177851\n",
       "24          24   중랑구      5  400989  18.50   7.046975  0.380918  17.573986"
      ],
      "text/html": "<div>\n<style scoped>\n    .dataframe tbody tr th:only-of-type {\n        vertical-align: middle;\n    }\n\n    .dataframe tbody tr th {\n        vertical-align: top;\n    }\n\n    .dataframe thead th {\n        text-align: right;\n    }\n</style>\n<table border=\"1\" class=\"dataframe\">\n  <thead>\n    <tr style=\"text-align: right;\">\n      <th></th>\n      <th>Unnamed: 0</th>\n      <th>지역구</th>\n      <th>공원 갯수</th>\n      <th>인구수</th>\n      <th>구 면적</th>\n      <th>공원총면적</th>\n      <th>면적비</th>\n      <th>인구수당면적</th>\n    </tr>\n  </thead>\n  <tbody>\n    <tr>\n      <th>0</th>\n      <td>0</td>\n      <td>강남구</td>\n      <td>7</td>\n      <td>544085</td>\n      <td>39.50</td>\n      <td>3.626398</td>\n      <td>0.091808</td>\n      <td>6.665131</td>\n    </tr>\n    <tr>\n      <th>1</th>\n      <td>1</td>\n      <td>강동구</td>\n      <td>7</td>\n      <td>462275</td>\n      <td>24.59</td>\n      <td>1.526387</td>\n      <td>0.062073</td>\n      <td>3.301903</td>\n    </tr>\n    <tr>\n      <th>2</th>\n      <td>2</td>\n      <td>강북구</td>\n      <td>3</td>\n      <td>313550</td>\n      <td>23.60</td>\n      <td>2.047054</td>\n      <td>0.086740</td>\n      <td>6.528637</td>\n    </tr>\n    <tr>\n      <th>3</th>\n      <td>3</td>\n      <td>강서구</td>\n      <td>9</td>\n      <td>589536</td>\n      <td>41.44</td>\n      <td>2.194152</td>\n      <td>0.052948</td>\n      <td>3.721829</td>\n    </tr>\n    <tr>\n      <th>4</th>\n      <td>4</td>\n      <td>관악구</td>\n      <td>2</td>\n      <td>514555</td>\n      <td>29.57</td>\n      <td>10.431453</td>\n      <td>0.352771</td>\n      <td>20.272766</td>\n    </tr>\n    <tr>\n      <th>5</th>\n      <td>5</td>\n      <td>광진구</td>\n      <td>2</td>\n      <td>361923</td>\n      <td>17.06</td>\n      <td>0.584002</td>\n      <td>0.034232</td>\n      <td>1.613608</td>\n    </tr>\n    <tr>\n      <th>6</th>\n      <td>6</td>\n      <td>구로구</td>\n      <td>4</td>\n      <td>435751</td>\n      <td>20.12</td>\n      <td>1.721011</td>\n      <td>0.085537</td>\n      <td>3.949529</td>\n    </tr>\n    <tr>\n      <th>7</th>\n      <td>7</td>\n      <td>금천구</td>\n      <td>4</td>\n      <td>249641</td>\n      <td>13.02</td>\n      <td>0.123251</td>\n      <td>0.009466</td>\n      <td>0.493713</td>\n    </tr>\n    <tr>\n      <th>8</th>\n      <td>8</td>\n      <td>노원구</td>\n      <td>3</td>\n      <td>529532</td>\n      <td>35.44</td>\n      <td>12.235699</td>\n      <td>0.345251</td>\n      <td>23.106628</td>\n    </tr>\n    <tr>\n      <th>9</th>\n      <td>9</td>\n      <td>도봉구</td>\n      <td>6</td>\n      <td>329300</td>\n      <td>20.66</td>\n      <td>1.084218</td>\n      <td>0.052479</td>\n      <td>3.292493</td>\n    </tr>\n    <tr>\n      <th>10</th>\n      <td>10</td>\n      <td>동대문구</td>\n      <td>4</td>\n      <td>358679</td>\n      <td>14.22</td>\n      <td>0.458663</td>\n      <td>0.032255</td>\n      <td>1.278756</td>\n    </tr>\n    <tr>\n      <th>11</th>\n      <td>11</td>\n      <td>동작구</td>\n      <td>7</td>\n      <td>404617</td>\n      <td>16.35</td>\n      <td>3.706738</td>\n      <td>0.226712</td>\n      <td>9.161103</td>\n    </tr>\n    <tr>\n      <th>12</th>\n      <td>12</td>\n      <td>마포구</td>\n      <td>5</td>\n      <td>383494</td>\n      <td>23.85</td>\n      <td>2.685112</td>\n      <td>0.112583</td>\n      <td>7.001705</td>\n    </tr>\n    <tr>\n      <th>13</th>\n      <td>13</td>\n      <td>서대문구</td>\n      <td>4</td>\n      <td>323860</td>\n      <td>17.63</td>\n      <td>3.321475</td>\n      <td>0.188399</td>\n      <td>10.255898</td>\n    </tr>\n    <tr>\n      <th>14</th>\n      <td>14</td>\n      <td>서초구</td>\n      <td>6</td>\n      <td>429995</td>\n      <td>46.98</td>\n      <td>13.359636</td>\n      <td>0.284369</td>\n      <td>31.069282</td>\n    </tr>\n    <tr>\n      <th>15</th>\n      <td>15</td>\n      <td>성동구</td>\n      <td>5</td>\n      <td>302695</td>\n      <td>16.86</td>\n      <td>0.626838</td>\n      <td>0.037179</td>\n      <td>2.070857</td>\n    </tr>\n    <tr>\n      <th>16</th>\n      <td>16</td>\n      <td>성북구</td>\n      <td>3</td>\n      <td>449871</td>\n      <td>24.57</td>\n      <td>1.198327</td>\n      <td>0.048772</td>\n      <td>2.663712</td>\n    </tr>\n    <tr>\n      <th>17</th>\n      <td>17</td>\n      <td>송파구</td>\n      <td>7</td>\n      <td>676673</td>\n      <td>33.87</td>\n      <td>2.838992</td>\n      <td>0.083820</td>\n      <td>4.195515</td>\n    </tr>\n    <tr>\n      <th>18</th>\n      <td>18</td>\n      <td>양천구</td>\n      <td>5</td>\n      <td>460048</td>\n      <td>17.41</td>\n      <td>1.203428</td>\n      <td>0.069123</td>\n      <td>2.615875</td>\n    </tr>\n    <tr>\n      <th>19</th>\n      <td>19</td>\n      <td>영등포구</td>\n      <td>5</td>\n      <td>405982</td>\n      <td>24.55</td>\n      <td>0.424446</td>\n      <td>0.017289</td>\n      <td>1.045480</td>\n    </tr>\n    <tr>\n      <th>20</th>\n      <td>20</td>\n      <td>용산구</td>\n      <td>2</td>\n      <td>244953</td>\n      <td>21.87</td>\n      <td>0.247194</td>\n      <td>0.011303</td>\n      <td>1.009149</td>\n    </tr>\n    <tr>\n      <th>21</th>\n      <td>21</td>\n      <td>은평구</td>\n      <td>7</td>\n      <td>485842</td>\n      <td>29.71</td>\n      <td>2.987443</td>\n      <td>0.100553</td>\n      <td>6.149001</td>\n    </tr>\n    <tr>\n      <th>22</th>\n      <td>22</td>\n      <td>종로구</td>\n      <td>13</td>\n      <td>159842</td>\n      <td>23.91</td>\n      <td>5.575526</td>\n      <td>0.233188</td>\n      <td>34.881483</td>\n    </tr>\n    <tr>\n      <th>23</th>\n      <td>23</td>\n      <td>중구</td>\n      <td>6</td>\n      <td>135321</td>\n      <td>9.96</td>\n      <td>3.001129</td>\n      <td>0.301318</td>\n      <td>22.177851</td>\n    </tr>\n    <tr>\n      <th>24</th>\n      <td>24</td>\n      <td>중랑구</td>\n      <td>5</td>\n      <td>400989</td>\n      <td>18.50</td>\n      <td>7.046975</td>\n      <td>0.380918</td>\n      <td>17.573986</td>\n    </tr>\n  </tbody>\n</table>\n</div>"
     },
     "metadata": {},
     "execution_count": 62
    }
   ],
   "source": [
    "df2"
   ]
  },
  {
   "cell_type": "code",
   "execution_count": 63,
   "metadata": {},
   "outputs": [],
   "source": [
    "del df2['Unnamed: 0']"
   ]
  },
  {
   "cell_type": "code",
   "execution_count": 67,
   "metadata": {},
   "outputs": [
    {
     "output_type": "execute_result",
     "data": {
      "text/plain": [
       "     지역구  공원 갯수     인구수   구 면적      공원총면적       면적비     인구수당면적\n",
       "0    강남구      7  544085  39.50   3.626398  0.091808   6.665131\n",
       "1    강동구      7  462275  24.59   1.526387  0.062073   3.301903\n",
       "2    강북구      3  313550  23.60   2.047054  0.086740   6.528637\n",
       "3    강서구      9  589536  41.44   2.194152  0.052948   3.721829\n",
       "4    관악구      2  514555  29.57  10.431453  0.352771  20.272766\n",
       "5    광진구      2  361923  17.06   0.584002  0.034232   1.613608\n",
       "6    구로구      4  435751  20.12   1.721011  0.085537   3.949529\n",
       "7    금천구      4  249641  13.02   0.123251  0.009466   0.493713\n",
       "8    노원구      3  529532  35.44  12.235699  0.345251  23.106628\n",
       "9    도봉구      6  329300  20.66   1.084218  0.052479   3.292493\n",
       "10  동대문구      4  358679  14.22   0.458663  0.032255   1.278756\n",
       "11   동작구      7  404617  16.35   3.706738  0.226712   9.161103\n",
       "12   마포구      5  383494  23.85   2.685112  0.112583   7.001705\n",
       "13  서대문구      4  323860  17.63   3.321475  0.188399  10.255898\n",
       "14   서초구      6  429995  46.98  13.359636  0.284369  31.069282\n",
       "15   성동구      5  302695  16.86   0.626838  0.037179   2.070857\n",
       "16   성북구      3  449871  24.57   1.198327  0.048772   2.663712\n",
       "17   송파구      7  676673  33.87   2.838992  0.083820   4.195515\n",
       "18   양천구      5  460048  17.41   1.203428  0.069123   2.615875\n",
       "19  영등포구      5  405982  24.55   0.424446  0.017289   1.045480\n",
       "20   용산구      2  244953  21.87   0.247194  0.011303   1.009149\n",
       "21   은평구      7  485842  29.71   2.987443  0.100553   6.149001\n",
       "22   종로구     13  159842  23.91   5.575526  0.233188  34.881483\n",
       "23    중구      6  135321   9.96   3.001129  0.301318  22.177851\n",
       "24   중랑구      5  400989  18.50   7.046975  0.380918  17.573986"
      ],
      "text/html": "<div>\n<style scoped>\n    .dataframe tbody tr th:only-of-type {\n        vertical-align: middle;\n    }\n\n    .dataframe tbody tr th {\n        vertical-align: top;\n    }\n\n    .dataframe thead th {\n        text-align: right;\n    }\n</style>\n<table border=\"1\" class=\"dataframe\">\n  <thead>\n    <tr style=\"text-align: right;\">\n      <th></th>\n      <th>지역구</th>\n      <th>공원 갯수</th>\n      <th>인구수</th>\n      <th>구 면적</th>\n      <th>공원총면적</th>\n      <th>면적비</th>\n      <th>인구수당면적</th>\n    </tr>\n  </thead>\n  <tbody>\n    <tr>\n      <th>0</th>\n      <td>강남구</td>\n      <td>7</td>\n      <td>544085</td>\n      <td>39.50</td>\n      <td>3.626398</td>\n      <td>0.091808</td>\n      <td>6.665131</td>\n    </tr>\n    <tr>\n      <th>1</th>\n      <td>강동구</td>\n      <td>7</td>\n      <td>462275</td>\n      <td>24.59</td>\n      <td>1.526387</td>\n      <td>0.062073</td>\n      <td>3.301903</td>\n    </tr>\n    <tr>\n      <th>2</th>\n      <td>강북구</td>\n      <td>3</td>\n      <td>313550</td>\n      <td>23.60</td>\n      <td>2.047054</td>\n      <td>0.086740</td>\n      <td>6.528637</td>\n    </tr>\n    <tr>\n      <th>3</th>\n      <td>강서구</td>\n      <td>9</td>\n      <td>589536</td>\n      <td>41.44</td>\n      <td>2.194152</td>\n      <td>0.052948</td>\n      <td>3.721829</td>\n    </tr>\n    <tr>\n      <th>4</th>\n      <td>관악구</td>\n      <td>2</td>\n      <td>514555</td>\n      <td>29.57</td>\n      <td>10.431453</td>\n      <td>0.352771</td>\n      <td>20.272766</td>\n    </tr>\n    <tr>\n      <th>5</th>\n      <td>광진구</td>\n      <td>2</td>\n      <td>361923</td>\n      <td>17.06</td>\n      <td>0.584002</td>\n      <td>0.034232</td>\n      <td>1.613608</td>\n    </tr>\n    <tr>\n      <th>6</th>\n      <td>구로구</td>\n      <td>4</td>\n      <td>435751</td>\n      <td>20.12</td>\n      <td>1.721011</td>\n      <td>0.085537</td>\n      <td>3.949529</td>\n    </tr>\n    <tr>\n      <th>7</th>\n      <td>금천구</td>\n      <td>4</td>\n      <td>249641</td>\n      <td>13.02</td>\n      <td>0.123251</td>\n      <td>0.009466</td>\n      <td>0.493713</td>\n    </tr>\n    <tr>\n      <th>8</th>\n      <td>노원구</td>\n      <td>3</td>\n      <td>529532</td>\n      <td>35.44</td>\n      <td>12.235699</td>\n      <td>0.345251</td>\n      <td>23.106628</td>\n    </tr>\n    <tr>\n      <th>9</th>\n      <td>도봉구</td>\n      <td>6</td>\n      <td>329300</td>\n      <td>20.66</td>\n      <td>1.084218</td>\n      <td>0.052479</td>\n      <td>3.292493</td>\n    </tr>\n    <tr>\n      <th>10</th>\n      <td>동대문구</td>\n      <td>4</td>\n      <td>358679</td>\n      <td>14.22</td>\n      <td>0.458663</td>\n      <td>0.032255</td>\n      <td>1.278756</td>\n    </tr>\n    <tr>\n      <th>11</th>\n      <td>동작구</td>\n      <td>7</td>\n      <td>404617</td>\n      <td>16.35</td>\n      <td>3.706738</td>\n      <td>0.226712</td>\n      <td>9.161103</td>\n    </tr>\n    <tr>\n      <th>12</th>\n      <td>마포구</td>\n      <td>5</td>\n      <td>383494</td>\n      <td>23.85</td>\n      <td>2.685112</td>\n      <td>0.112583</td>\n      <td>7.001705</td>\n    </tr>\n    <tr>\n      <th>13</th>\n      <td>서대문구</td>\n      <td>4</td>\n      <td>323860</td>\n      <td>17.63</td>\n      <td>3.321475</td>\n      <td>0.188399</td>\n      <td>10.255898</td>\n    </tr>\n    <tr>\n      <th>14</th>\n      <td>서초구</td>\n      <td>6</td>\n      <td>429995</td>\n      <td>46.98</td>\n      <td>13.359636</td>\n      <td>0.284369</td>\n      <td>31.069282</td>\n    </tr>\n    <tr>\n      <th>15</th>\n      <td>성동구</td>\n      <td>5</td>\n      <td>302695</td>\n      <td>16.86</td>\n      <td>0.626838</td>\n      <td>0.037179</td>\n      <td>2.070857</td>\n    </tr>\n    <tr>\n      <th>16</th>\n      <td>성북구</td>\n      <td>3</td>\n      <td>449871</td>\n      <td>24.57</td>\n      <td>1.198327</td>\n      <td>0.048772</td>\n      <td>2.663712</td>\n    </tr>\n    <tr>\n      <th>17</th>\n      <td>송파구</td>\n      <td>7</td>\n      <td>676673</td>\n      <td>33.87</td>\n      <td>2.838992</td>\n      <td>0.083820</td>\n      <td>4.195515</td>\n    </tr>\n    <tr>\n      <th>18</th>\n      <td>양천구</td>\n      <td>5</td>\n      <td>460048</td>\n      <td>17.41</td>\n      <td>1.203428</td>\n      <td>0.069123</td>\n      <td>2.615875</td>\n    </tr>\n    <tr>\n      <th>19</th>\n      <td>영등포구</td>\n      <td>5</td>\n      <td>405982</td>\n      <td>24.55</td>\n      <td>0.424446</td>\n      <td>0.017289</td>\n      <td>1.045480</td>\n    </tr>\n    <tr>\n      <th>20</th>\n      <td>용산구</td>\n      <td>2</td>\n      <td>244953</td>\n      <td>21.87</td>\n      <td>0.247194</td>\n      <td>0.011303</td>\n      <td>1.009149</td>\n    </tr>\n    <tr>\n      <th>21</th>\n      <td>은평구</td>\n      <td>7</td>\n      <td>485842</td>\n      <td>29.71</td>\n      <td>2.987443</td>\n      <td>0.100553</td>\n      <td>6.149001</td>\n    </tr>\n    <tr>\n      <th>22</th>\n      <td>종로구</td>\n      <td>13</td>\n      <td>159842</td>\n      <td>23.91</td>\n      <td>5.575526</td>\n      <td>0.233188</td>\n      <td>34.881483</td>\n    </tr>\n    <tr>\n      <th>23</th>\n      <td>중구</td>\n      <td>6</td>\n      <td>135321</td>\n      <td>9.96</td>\n      <td>3.001129</td>\n      <td>0.301318</td>\n      <td>22.177851</td>\n    </tr>\n    <tr>\n      <th>24</th>\n      <td>중랑구</td>\n      <td>5</td>\n      <td>400989</td>\n      <td>18.50</td>\n      <td>7.046975</td>\n      <td>0.380918</td>\n      <td>17.573986</td>\n    </tr>\n  </tbody>\n</table>\n</div>"
     },
     "metadata": {},
     "execution_count": 67
    }
   ],
   "source": [
    "df2"
   ]
  },
  {
   "cell_type": "code",
   "execution_count": 64,
   "metadata": {},
   "outputs": [],
   "source": [
    "df2['인구수당면적'] = df2['공원총면적']*1000000/df2['인구수']"
   ]
  },
  {
   "cell_type": "code",
   "execution_count": 72,
   "metadata": {},
   "outputs": [
    {
     "output_type": "execute_result",
     "data": {
      "text/plain": [
       "공원 갯수          5.24\n",
       "인구수       398120.36\n",
       "구 면적          24.21\n",
       "공원총면적          3.37\n",
       "면적비            0.13\n",
       "인구수당면적         9.04\n",
       "dtype: float64"
      ]
     },
     "metadata": {},
     "execution_count": 72
    }
   ],
   "source": [
    "df2.mean().round(2)"
   ]
  },
  {
   "cell_type": "code",
   "execution_count": 66,
   "metadata": {},
   "outputs": [
    {
     "output_type": "execute_result",
     "data": {
      "text/plain": [
       "지역구             강남구\n",
       "공원 갯수             7\n",
       "인구수          544085\n",
       "구 면적           39.5\n",
       "공원총면적        3.6264\n",
       "면적비       0.0918075\n",
       "인구수당면적      6.66513\n",
       "Name: 0, dtype: object"
      ]
     },
     "metadata": {},
     "execution_count": 66
    }
   ],
   "source": [
    "df2[df2['지역구']=='강남구'].reset_index(drop=True).loc[0,:]"
   ]
  },
  {
   "cell_type": "code",
   "execution_count": 69,
   "metadata": {},
   "outputs": [],
   "source": [
    "df2.to_csv('./static/data/gu_park.csv',sep=',',encoding='utf8',index=False)"
   ]
  },
  {
   "cell_type": "code",
   "execution_count": 74,
   "metadata": {},
   "outputs": [],
   "source": [
    "import folium\n",
    "import json"
   ]
  },
  {
   "cell_type": "code",
   "execution_count": 80,
   "metadata": {},
   "outputs": [],
   "source": [
    "df2.set_index('지역구',inplace=True)"
   ]
  },
  {
   "cell_type": "code",
   "execution_count": 81,
   "metadata": {},
   "outputs": [],
   "source": [
    "geo_path = './static/json/skorea_municipalities_geo_simple.json'\n",
    "geo_str = json.load(open(geo_path, encoding='utf8'))"
   ]
  },
  {
   "cell_type": "code",
   "execution_count": 83,
   "metadata": {},
   "outputs": [
    {
     "output_type": "execute_result",
     "data": {
      "text/plain": [
       "(37.55277229023488, 126.99057136537)"
      ]
     },
     "metadata": {},
     "execution_count": 83
    }
   ],
   "source": [
    "df.lat.mean(),df.lng.mean()"
   ]
  },
  {
   "cell_type": "code",
   "execution_count": 84,
   "metadata": {},
   "outputs": [
    {
     "output_type": "execute_result",
     "data": {
      "text/plain": [
       "<folium.folium.Map at 0x7fb57c7712e0>"
      ],
      "text/html": "<div style=\"width:100%;\"><div style=\"position:relative;width:100%;height:0;padding-bottom:60%;\"><span style=\"color:#565656\">Make this Notebook Trusted to load map: File -> Trust Notebook</span><iframe src=\"about:blank\" style=\"position:absolute;width:100%;height:100%;left:0;top:0;border:none !important;\" data-html=%3C%21DOCTYPE%20html%3E%0A%3Chead%3E%20%20%20%20%0A%20%20%20%20%3Cmeta%20http-equiv%3D%22content-type%22%20content%3D%22text/html%3B%20charset%3DUTF-8%22%20/%3E%0A%20%20%20%20%0A%20%20%20%20%20%20%20%20%3Cscript%3E%0A%20%20%20%20%20%20%20%20%20%20%20%20L_NO_TOUCH%20%3D%20false%3B%0A%20%20%20%20%20%20%20%20%20%20%20%20L_DISABLE_3D%20%3D%20false%3B%0A%20%20%20%20%20%20%20%20%3C/script%3E%0A%20%20%20%20%0A%20%20%20%20%3Cscript%20src%3D%22https%3A//cdn.jsdelivr.net/npm/leaflet%401.6.0/dist/leaflet.js%22%3E%3C/script%3E%0A%20%20%20%20%3Cscript%20src%3D%22https%3A//code.jquery.com/jquery-1.12.4.min.js%22%3E%3C/script%3E%0A%20%20%20%20%3Cscript%20src%3D%22https%3A//maxcdn.bootstrapcdn.com/bootstrap/3.2.0/js/bootstrap.min.js%22%3E%3C/script%3E%0A%20%20%20%20%3Cscript%20src%3D%22https%3A//cdnjs.cloudflare.com/ajax/libs/Leaflet.awesome-markers/2.0.2/leaflet.awesome-markers.js%22%3E%3C/script%3E%0A%20%20%20%20%3Clink%20rel%3D%22stylesheet%22%20href%3D%22https%3A//cdn.jsdelivr.net/npm/leaflet%401.6.0/dist/leaflet.css%22/%3E%0A%20%20%20%20%3Clink%20rel%3D%22stylesheet%22%20href%3D%22https%3A//maxcdn.bootstrapcdn.com/bootstrap/3.2.0/css/bootstrap.min.css%22/%3E%0A%20%20%20%20%3Clink%20rel%3D%22stylesheet%22%20href%3D%22https%3A//maxcdn.bootstrapcdn.com/bootstrap/3.2.0/css/bootstrap-theme.min.css%22/%3E%0A%20%20%20%20%3Clink%20rel%3D%22stylesheet%22%20href%3D%22https%3A//maxcdn.bootstrapcdn.com/font-awesome/4.6.3/css/font-awesome.min.css%22/%3E%0A%20%20%20%20%3Clink%20rel%3D%22stylesheet%22%20href%3D%22https%3A//cdnjs.cloudflare.com/ajax/libs/Leaflet.awesome-markers/2.0.2/leaflet.awesome-markers.css%22/%3E%0A%20%20%20%20%3Clink%20rel%3D%22stylesheet%22%20href%3D%22https%3A//rawcdn.githack.com/python-visualization/folium/master/folium/templates/leaflet.awesome.rotate.css%22/%3E%0A%20%20%20%20%3Cstyle%3Ehtml%2C%20body%20%7Bwidth%3A%20100%25%3Bheight%3A%20100%25%3Bmargin%3A%200%3Bpadding%3A%200%3B%7D%3C/style%3E%0A%20%20%20%20%3Cstyle%3E%23map%20%7Bposition%3Aabsolute%3Btop%3A0%3Bbottom%3A0%3Bright%3A0%3Bleft%3A0%3B%7D%3C/style%3E%0A%20%20%20%20%0A%20%20%20%20%20%20%20%20%20%20%20%20%3Cmeta%20name%3D%22viewport%22%20content%3D%22width%3Ddevice-width%2C%0A%20%20%20%20%20%20%20%20%20%20%20%20%20%20%20%20initial-scale%3D1.0%2C%20maximum-scale%3D1.0%2C%20user-scalable%3Dno%22%20/%3E%0A%20%20%20%20%20%20%20%20%20%20%20%20%3Cstyle%3E%0A%20%20%20%20%20%20%20%20%20%20%20%20%20%20%20%20%23map_62501da029b24159aa87ab1b706d73e3%20%7B%0A%20%20%20%20%20%20%20%20%20%20%20%20%20%20%20%20%20%20%20%20position%3A%20relative%3B%0A%20%20%20%20%20%20%20%20%20%20%20%20%20%20%20%20%20%20%20%20width%3A%20100.0%25%3B%0A%20%20%20%20%20%20%20%20%20%20%20%20%20%20%20%20%20%20%20%20height%3A%20100.0%25%3B%0A%20%20%20%20%20%20%20%20%20%20%20%20%20%20%20%20%20%20%20%20left%3A%200.0%25%3B%0A%20%20%20%20%20%20%20%20%20%20%20%20%20%20%20%20%20%20%20%20top%3A%200.0%25%3B%0A%20%20%20%20%20%20%20%20%20%20%20%20%20%20%20%20%7D%0A%20%20%20%20%20%20%20%20%20%20%20%20%3C/style%3E%0A%20%20%20%20%20%20%20%20%0A%20%20%20%20%3Cscript%20src%3D%22https%3A//cdnjs.cloudflare.com/ajax/libs/d3/3.5.5/d3.min.js%22%3E%3C/script%3E%0A%3C/head%3E%0A%3Cbody%3E%20%20%20%20%0A%20%20%20%20%0A%20%20%20%20%20%20%20%20%20%20%20%20%3Cdiv%20class%3D%22folium-map%22%20id%3D%22map_62501da029b24159aa87ab1b706d73e3%22%20%3E%3C/div%3E%0A%20%20%20%20%20%20%20%20%0A%3C/body%3E%0A%3Cscript%3E%20%20%20%20%0A%20%20%20%20%0A%20%20%20%20%20%20%20%20%20%20%20%20var%20map_62501da029b24159aa87ab1b706d73e3%20%3D%20L.map%28%0A%20%20%20%20%20%20%20%20%20%20%20%20%20%20%20%20%22map_62501da029b24159aa87ab1b706d73e3%22%2C%0A%20%20%20%20%20%20%20%20%20%20%20%20%20%20%20%20%7B%0A%20%20%20%20%20%20%20%20%20%20%20%20%20%20%20%20%20%20%20%20center%3A%20%5B37.55277229023488%2C%20126.99057136537%5D%2C%0A%20%20%20%20%20%20%20%20%20%20%20%20%20%20%20%20%20%20%20%20crs%3A%20L.CRS.EPSG3857%2C%0A%20%20%20%20%20%20%20%20%20%20%20%20%20%20%20%20%20%20%20%20zoom%3A%2011%2C%0A%20%20%20%20%20%20%20%20%20%20%20%20%20%20%20%20%20%20%20%20zoomControl%3A%20true%2C%0A%20%20%20%20%20%20%20%20%20%20%20%20%20%20%20%20%20%20%20%20preferCanvas%3A%20false%2C%0A%20%20%20%20%20%20%20%20%20%20%20%20%20%20%20%20%7D%0A%20%20%20%20%20%20%20%20%20%20%20%20%29%3B%0A%0A%20%20%20%20%20%20%20%20%20%20%20%20%0A%0A%20%20%20%20%20%20%20%20%0A%20%20%20%20%0A%20%20%20%20%20%20%20%20%20%20%20%20var%20tile_layer_593ad2b58e4b4704bf95b983db888146%20%3D%20L.tileLayer%28%0A%20%20%20%20%20%20%20%20%20%20%20%20%20%20%20%20%22https%3A//stamen-tiles-%7Bs%7D.a.ssl.fastly.net/toner/%7Bz%7D/%7Bx%7D/%7By%7D.png%22%2C%0A%20%20%20%20%20%20%20%20%20%20%20%20%20%20%20%20%7B%22attribution%22%3A%20%22Map%20tiles%20by%20%5Cu003ca%20href%3D%5C%22http%3A//stamen.com%5C%22%5Cu003eStamen%20Design%5Cu003c/a%5Cu003e%2C%20under%20%5Cu003ca%20href%3D%5C%22http%3A//creativecommons.org/licenses/by/3.0%5C%22%5Cu003eCC%20BY%203.0%5Cu003c/a%5Cu003e.%20Data%20by%20%5Cu0026copy%3B%20%5Cu003ca%20href%3D%5C%22http%3A//openstreetmap.org%5C%22%5Cu003eOpenStreetMap%5Cu003c/a%5Cu003e%2C%20under%20%5Cu003ca%20href%3D%5C%22http%3A//www.openstreetmap.org/copyright%5C%22%5Cu003eODbL%5Cu003c/a%5Cu003e.%22%2C%20%22detectRetina%22%3A%20false%2C%20%22maxNativeZoom%22%3A%2018%2C%20%22maxZoom%22%3A%2018%2C%20%22minZoom%22%3A%200%2C%20%22noWrap%22%3A%20false%2C%20%22opacity%22%3A%201%2C%20%22subdomains%22%3A%20%22abc%22%2C%20%22tms%22%3A%20false%7D%0A%20%20%20%20%20%20%20%20%20%20%20%20%29.addTo%28map_62501da029b24159aa87ab1b706d73e3%29%3B%0A%20%20%20%20%20%20%20%20%0A%20%20%20%20%0A%20%20%20%20%20%20%20%20%20%20%20%20var%20choropleth_d30ac19eaed84e49a1d81794bb8cc24e%20%3D%20L.featureGroup%28%0A%20%20%20%20%20%20%20%20%20%20%20%20%20%20%20%20%7B%7D%0A%20%20%20%20%20%20%20%20%20%20%20%20%29.addTo%28map_62501da029b24159aa87ab1b706d73e3%29%3B%0A%20%20%20%20%20%20%20%20%0A%20%20%20%20%0A%20%20%20%20%20%20%20%20function%20geo_json_66ed040a73a8453897b4c6ffa2cbe04d_styler%28feature%29%20%7B%0A%20%20%20%20%20%20%20%20%20%20%20%20switch%28feature.id%29%20%7B%0A%20%20%20%20%20%20%20%20%20%20%20%20%20%20%20%20case%20%22%5Cuc1a1%5Cud30c%5Cuad6c%22%3A%20case%20%22%5Cuac15%5Cub0a8%5Cuad6c%22%3A%20case%20%22%5Cub3d9%5Cuc791%5Cuad6c%22%3A%20case%20%22%5Cub9c8%5Cud3ec%5Cuad6c%22%3A%20case%20%22%5Cuc11c%5Cub300%5Cubb38%5Cuad6c%22%3A%20case%20%22%5Cuc740%5Cud3c9%5Cuad6c%22%3A%20case%20%22%5Cuc911%5Cuad6c%22%3A%20%0A%20%20%20%20%20%20%20%20%20%20%20%20%20%20%20%20%20%20%20%20return%20%7B%22color%22%3A%20%22black%22%2C%20%22fillColor%22%3A%20%22%23d4b9da%22%2C%20%22fillOpacity%22%3A%200.6%2C%20%22opacity%22%3A%201%2C%20%22weight%22%3A%201%7D%3B%0A%20%20%20%20%20%20%20%20%20%20%20%20%20%20%20%20case%20%22%5Cuc11c%5Cucd08%5Cuad6c%22%3A%20case%20%22%5Cub178%5Cuc6d0%5Cuad6c%22%3A%20%0A%20%20%20%20%20%20%20%20%20%20%20%20%20%20%20%20%20%20%20%20return%20%7B%22color%22%3A%20%22black%22%2C%20%22fillColor%22%3A%20%22%23980043%22%2C%20%22fillOpacity%22%3A%200.6%2C%20%22opacity%22%3A%201%2C%20%22weight%22%3A%201%7D%3B%0A%20%20%20%20%20%20%20%20%20%20%20%20%20%20%20%20case%20%22%5Cuad00%5Cuc545%5Cuad6c%22%3A%20%0A%20%20%20%20%20%20%20%20%20%20%20%20%20%20%20%20%20%20%20%20return%20%7B%22color%22%3A%20%22black%22%2C%20%22fillColor%22%3A%20%22%23dd1c77%22%2C%20%22fillOpacity%22%3A%200.6%2C%20%22opacity%22%3A%201%2C%20%22weight%22%3A%201%7D%3B%0A%20%20%20%20%20%20%20%20%20%20%20%20%20%20%20%20case%20%22%5Cuc911%5Cub791%5Cuad6c%22%3A%20%0A%20%20%20%20%20%20%20%20%20%20%20%20%20%20%20%20%20%20%20%20return%20%7B%22color%22%3A%20%22black%22%2C%20%22fillColor%22%3A%20%22%23df65b0%22%2C%20%22fillOpacity%22%3A%200.6%2C%20%22opacity%22%3A%201%2C%20%22weight%22%3A%201%7D%3B%0A%20%20%20%20%20%20%20%20%20%20%20%20%20%20%20%20case%20%22%5Cuc885%5Cub85c%5Cuad6c%22%3A%20%0A%20%20%20%20%20%20%20%20%20%20%20%20%20%20%20%20%20%20%20%20return%20%7B%22color%22%3A%20%22black%22%2C%20%22fillColor%22%3A%20%22%23c994c7%22%2C%20%22fillOpacity%22%3A%200.6%2C%20%22opacity%22%3A%201%2C%20%22weight%22%3A%201%7D%3B%0A%20%20%20%20%20%20%20%20%20%20%20%20%20%20%20%20default%3A%0A%20%20%20%20%20%20%20%20%20%20%20%20%20%20%20%20%20%20%20%20return%20%7B%22color%22%3A%20%22black%22%2C%20%22fillColor%22%3A%20%22%23f1eef6%22%2C%20%22fillOpacity%22%3A%200.6%2C%20%22opacity%22%3A%201%2C%20%22weight%22%3A%201%7D%3B%0A%20%20%20%20%20%20%20%20%20%20%20%20%7D%0A%20%20%20%20%20%20%20%20%7D%0A%20%20%20%20%20%20%20%20function%20geo_json_66ed040a73a8453897b4c6ffa2cbe04d_onEachFeature%28feature%2C%20layer%29%20%7B%0A%20%20%20%20%20%20%20%20%20%20%20%20layer.on%28%7B%0A%20%20%20%20%20%20%20%20%20%20%20%20%20%20%20%20click%3A%20function%28e%29%20%7B%0A%20%20%20%20%20%20%20%20%20%20%20%20%20%20%20%20%20%20%20%20map_62501da029b24159aa87ab1b706d73e3.fitBounds%28e.target.getBounds%28%29%29%3B%0A%20%20%20%20%20%20%20%20%20%20%20%20%20%20%20%20%7D%0A%20%20%20%20%20%20%20%20%20%20%20%20%7D%29%3B%0A%20%20%20%20%20%20%20%20%7D%3B%0A%20%20%20%20%20%20%20%20var%20geo_json_66ed040a73a8453897b4c6ffa2cbe04d%20%3D%20L.geoJson%28null%2C%20%7B%0A%20%20%20%20%20%20%20%20%20%20%20%20%20%20%20%20onEachFeature%3A%20geo_json_66ed040a73a8453897b4c6ffa2cbe04d_onEachFeature%2C%0A%20%20%20%20%20%20%20%20%20%20%20%20%0A%20%20%20%20%20%20%20%20%20%20%20%20%20%20%20%20style%3A%20geo_json_66ed040a73a8453897b4c6ffa2cbe04d_styler%2C%0A%20%20%20%20%20%20%20%20%7D%29.addTo%28choropleth_d30ac19eaed84e49a1d81794bb8cc24e%29%3B%0A%0A%20%20%20%20%20%20%20%20function%20geo_json_66ed040a73a8453897b4c6ffa2cbe04d_add%20%28data%29%20%7B%0A%20%20%20%20%20%20%20%20%20%20%20%20geo_json_66ed040a73a8453897b4c6ffa2cbe04d.addData%28data%29%3B%0A%20%20%20%20%20%20%20%20%7D%0A%20%20%20%20%20%20%20%20%20%20%20%20geo_json_66ed040a73a8453897b4c6ffa2cbe04d_add%28%7B%22features%22%3A%20%5B%7B%22geometry%22%3A%20%7B%22coordinates%22%3A%20%5B%5B%5B127.11519584981606%2C%2037.557533180704915%5D%2C%20%5B127.16683184366129%2C%2037.57672487388627%5D%2C%20%5B127.18408792330152%2C%2037.55814280369575%5D%2C%20%5B127.16530984307447%2C%2037.54221851258693%5D%2C%20%5B127.14672806823502%2C%2037.51415680680291%5D%2C%20%5B127.12123165719615%2C%2037.52528270089%5D%2C%20%5B127.1116764203608%2C%2037.540669955324965%5D%2C%20%5B127.11519584981606%2C%2037.557533180704915%5D%5D%5D%2C%20%22type%22%3A%20%22Polygon%22%7D%2C%20%22id%22%3A%20%22%5Cuac15%5Cub3d9%5Cuad6c%22%2C%20%22properties%22%3A%20%7B%22base_year%22%3A%20%222013%22%2C%20%22code%22%3A%20%2211250%22%2C%20%22name%22%3A%20%22%5Cuac15%5Cub3d9%5Cuad6c%22%2C%20%22name_eng%22%3A%20%22Gangdong-gu%22%7D%2C%20%22type%22%3A%20%22Feature%22%7D%2C%20%7B%22geometry%22%3A%20%7B%22coordinates%22%3A%20%5B%5B%5B127.0690698130372%2C%2037.522279423505026%5D%2C%20%5B127.10087519791962%2C%2037.524841220167055%5D%2C%20%5B127.1116764203608%2C%2037.540669955324965%5D%2C%20%5B127.12123165719615%2C%2037.52528270089%5D%2C%20%5B127.14672806823502%2C%2037.51415680680291%5D%2C%20%5B127.1634944215765%2C%2037.497445406097484%5D%2C%20%5B127.14206058413274%2C%2037.47089819098501%5D%2C%20%5B127.12440571080893%2C%2037.46240445587048%5D%2C%20%5B127.11117085201238%2C%2037.485708381512445%5D%2C%20%5B127.0719146000724%2C%2037.50224013587669%5D%2C%20%5B127.0690698130372%2C%2037.522279423505026%5D%5D%5D%2C%20%22type%22%3A%20%22Polygon%22%7D%2C%20%22id%22%3A%20%22%5Cuc1a1%5Cud30c%5Cuad6c%22%2C%20%22properties%22%3A%20%7B%22base_year%22%3A%20%222013%22%2C%20%22code%22%3A%20%2211240%22%2C%20%22name%22%3A%20%22%5Cuc1a1%5Cud30c%5Cuad6c%22%2C%20%22name_eng%22%3A%20%22Songpa-gu%22%7D%2C%20%22type%22%3A%20%22Feature%22%7D%2C%20%7B%22geometry%22%3A%20%7B%22coordinates%22%3A%20%5B%5B%5B127.05867359288398%2C%2037.52629974922568%5D%2C%20%5B127.0690698130372%2C%2037.522279423505026%5D%2C%20%5B127.0719146000724%2C%2037.50224013587669%5D%2C%20%5B127.11117085201238%2C%2037.485708381512445%5D%2C%20%5B127.12440571080893%2C%2037.46240445587048%5D%2C%20%5B127.09842759318751%2C%2037.45862253857461%5D%2C%20%5B127.08640440578156%2C%2037.472697935184655%5D%2C%20%5B127.0559170481904%2C%2037.4659228914077%5D%2C%20%5B127.03621915098798%2C%2037.48175802427603%5D%2C%20%5B127.01397119667513%2C%2037.52503988289669%5D%2C%20%5B127.02302831890559%2C%2037.53231899582663%5D%2C%20%5B127.05867359288398%2C%2037.52629974922568%5D%5D%5D%2C%20%22type%22%3A%20%22Polygon%22%7D%2C%20%22id%22%3A%20%22%5Cuac15%5Cub0a8%5Cuad6c%22%2C%20%22properties%22%3A%20%7B%22base_year%22%3A%20%222013%22%2C%20%22code%22%3A%20%2211230%22%2C%20%22name%22%3A%20%22%5Cuac15%5Cub0a8%5Cuad6c%22%2C%20%22name_eng%22%3A%20%22Gangnam-gu%22%7D%2C%20%22type%22%3A%20%22Feature%22%7D%2C%20%7B%22geometry%22%3A%20%7B%22coordinates%22%3A%20%5B%5B%5B127.01397119667513%2C%2037.52503988289669%5D%2C%20%5B127.03621915098798%2C%2037.48175802427603%5D%2C%20%5B127.0559170481904%2C%2037.4659228914077%5D%2C%20%5B127.08640440578156%2C%2037.472697935184655%5D%2C%20%5B127.09842759318751%2C%2037.45862253857461%5D%2C%20%5B127.09046928565951%2C%2037.44296826114185%5D%2C%20%5B127.06778107605433%2C%2037.426197424057314%5D%2C%20%5B127.04957232987142%2C%2037.42805836845694%5D%2C%20%5B127.03881782597922%2C%2037.45382039851715%5D%2C%20%5B126.99072073195462%2C%2037.455326143310025%5D%2C%20%5B126.98367668291802%2C%2037.473856492692086%5D%2C%20%5B126.98223807916081%2C%2037.509314966770326%5D%2C%20%5B127.01397119667513%2C%2037.52503988289669%5D%5D%5D%2C%20%22type%22%3A%20%22Polygon%22%7D%2C%20%22id%22%3A%20%22%5Cuc11c%5Cucd08%5Cuad6c%22%2C%20%22properties%22%3A%20%7B%22base_year%22%3A%20%222013%22%2C%20%22code%22%3A%20%2211220%22%2C%20%22name%22%3A%20%22%5Cuc11c%5Cucd08%5Cuad6c%22%2C%20%22name_eng%22%3A%20%22Seocho-gu%22%7D%2C%20%22type%22%3A%20%22Feature%22%7D%2C%20%7B%22geometry%22%3A%20%7B%22coordinates%22%3A%20%5B%5B%5B126.98367668291802%2C%2037.473856492692086%5D%2C%20%5B126.99072073195462%2C%2037.455326143310025%5D%2C%20%5B126.96520439085143%2C%2037.438249784006246%5D%2C%20%5B126.95000001010182%2C%2037.43613451165719%5D%2C%20%5B126.93084408056525%2C%2037.447382928333994%5D%2C%20%5B126.9167728146601%2C%2037.45490566423789%5D%2C%20%5B126.90156094129895%2C%2037.47753842789901%5D%2C%20%5B126.90531975801812%2C%2037.48218087575429%5D%2C%20%5B126.94922661389508%2C%2037.49125437495649%5D%2C%20%5B126.9725891850662%2C%2037.472561363278125%5D%2C%20%5B126.98367668291802%2C%2037.473856492692086%5D%5D%5D%2C%20%22type%22%3A%20%22Polygon%22%7D%2C%20%22id%22%3A%20%22%5Cuad00%5Cuc545%5Cuad6c%22%2C%20%22properties%22%3A%20%7B%22base_year%22%3A%20%222013%22%2C%20%22code%22%3A%20%2211210%22%2C%20%22name%22%3A%20%22%5Cuad00%5Cuc545%5Cuad6c%22%2C%20%22name_eng%22%3A%20%22Gwanak-gu%22%7D%2C%20%22type%22%3A%20%22Feature%22%7D%2C%20%7B%22geometry%22%3A%20%7B%22coordinates%22%3A%20%5B%5B%5B126.98223807916081%2C%2037.509314966770326%5D%2C%20%5B126.98367668291802%2C%2037.473856492692086%5D%2C%20%5B126.9725891850662%2C%2037.472561363278125%5D%2C%20%5B126.94922661389508%2C%2037.49125437495649%5D%2C%20%5B126.90531975801812%2C%2037.48218087575429%5D%2C%20%5B126.92177893174825%2C%2037.494889877415176%5D%2C%20%5B126.92810628828279%2C%2037.51329595732015%5D%2C%20%5B126.95249990298159%2C%2037.51722500741813%5D%2C%20%5B126.98223807916081%2C%2037.509314966770326%5D%5D%5D%2C%20%22type%22%3A%20%22Polygon%22%7D%2C%20%22id%22%3A%20%22%5Cub3d9%5Cuc791%5Cuad6c%22%2C%20%22properties%22%3A%20%7B%22base_year%22%3A%20%222013%22%2C%20%22code%22%3A%20%2211200%22%2C%20%22name%22%3A%20%22%5Cub3d9%5Cuc791%5Cuad6c%22%2C%20%22name_eng%22%3A%20%22Dongjak-gu%22%7D%2C%20%22type%22%3A%20%22Feature%22%7D%2C%20%7B%22geometry%22%3A%20%7B%22coordinates%22%3A%20%5B%5B%5B126.89184663862764%2C%2037.547373974997114%5D%2C%20%5B126.94566733083212%2C%2037.526617542453366%5D%2C%20%5B126.95249990298159%2C%2037.51722500741813%5D%2C%20%5B126.92810628828279%2C%2037.51329595732015%5D%2C%20%5B126.92177893174825%2C%2037.494889877415176%5D%2C%20%5B126.90531975801812%2C%2037.48218087575429%5D%2C%20%5B126.89594776782485%2C%2037.504675281309176%5D%2C%20%5B126.88156402353862%2C%2037.513970034765684%5D%2C%20%5B126.88825757860099%2C%2037.54079733630232%5D%2C%20%5B126.89184663862764%2C%2037.547373974997114%5D%5D%5D%2C%20%22type%22%3A%20%22Polygon%22%7D%2C%20%22id%22%3A%20%22%5Cuc601%5Cub4f1%5Cud3ec%5Cuad6c%22%2C%20%22properties%22%3A%20%7B%22base_year%22%3A%20%222013%22%2C%20%22code%22%3A%20%2211190%22%2C%20%22name%22%3A%20%22%5Cuc601%5Cub4f1%5Cud3ec%5Cuad6c%22%2C%20%22name_eng%22%3A%20%22Yeongdeungpo-gu%22%7D%2C%20%22type%22%3A%20%22Feature%22%7D%2C%20%7B%22geometry%22%3A%20%7B%22coordinates%22%3A%20%5B%5B%5B126.90156094129895%2C%2037.47753842789901%5D%2C%20%5B126.9167728146601%2C%2037.45490566423789%5D%2C%20%5B126.93084408056525%2C%2037.447382928333994%5D%2C%20%5B126.9025831711697%2C%2037.434549366349124%5D%2C%20%5B126.87683271502428%2C%2037.482576591607305%5D%2C%20%5B126.90156094129895%2C%2037.47753842789901%5D%5D%5D%2C%20%22type%22%3A%20%22Polygon%22%7D%2C%20%22id%22%3A%20%22%5Cuae08%5Cucc9c%5Cuad6c%22%2C%20%22properties%22%3A%20%7B%22base_year%22%3A%20%222013%22%2C%20%22code%22%3A%20%2211180%22%2C%20%22name%22%3A%20%22%5Cuae08%5Cucc9c%5Cuad6c%22%2C%20%22name_eng%22%3A%20%22Geumcheon-gu%22%7D%2C%20%22type%22%3A%20%22Feature%22%7D%2C%20%7B%22geometry%22%3A%20%7B%22coordinates%22%3A%20%5B%5B%5B126.82688081517314%2C%2037.50548972232896%5D%2C%20%5B126.88156402353862%2C%2037.513970034765684%5D%2C%20%5B126.89594776782485%2C%2037.504675281309176%5D%2C%20%5B126.90531975801812%2C%2037.48218087575429%5D%2C%20%5B126.90156094129895%2C%2037.47753842789901%5D%2C%20%5B126.87683271502428%2C%2037.482576591607305%5D%2C%20%5B126.84762676054953%2C%2037.47146723936323%5D%2C%20%5B126.83549485076196%2C%2037.474098236975095%5D%2C%20%5B126.82264796791348%2C%2037.4878476492147%5D%2C%20%5B126.82504736331406%2C%2037.50302612640443%5D%2C%20%5B126.82688081517314%2C%2037.50548972232896%5D%5D%5D%2C%20%22type%22%3A%20%22Polygon%22%7D%2C%20%22id%22%3A%20%22%5Cuad6c%5Cub85c%5Cuad6c%22%2C%20%22properties%22%3A%20%7B%22base_year%22%3A%20%222013%22%2C%20%22code%22%3A%20%2211170%22%2C%20%22name%22%3A%20%22%5Cuad6c%5Cub85c%5Cuad6c%22%2C%20%22name_eng%22%3A%20%22Guro-gu%22%7D%2C%20%22type%22%3A%20%22Feature%22%7D%2C%20%7B%22geometry%22%3A%20%7B%22coordinates%22%3A%20%5B%5B%5B126.79575768552907%2C%2037.57881087633202%5D%2C%20%5B126.80702115023597%2C%2037.60123001013228%5D%2C%20%5B126.82251438477105%2C%2037.5880430810082%5D%2C%20%5B126.85984199399667%2C%2037.571847855292745%5D%2C%20%5B126.89184663862764%2C%2037.547373974997114%5D%2C%20%5B126.88825757860099%2C%2037.54079733630232%5D%2C%20%5B126.86637464321238%2C%2037.54859191094823%5D%2C%20%5B126.86610073476395%2C%2037.52699964144669%5D%2C%20%5B126.84257291943153%2C%2037.52373707805596%5D%2C%20%5B126.8242331426722%2C%2037.53788078753248%5D%2C%20%5B126.77324417717703%2C%2037.5459123450554%5D%2C%20%5B126.76979180579352%2C%2037.55139183008809%5D%2C%20%5B126.79575768552907%2C%2037.57881087633202%5D%5D%5D%2C%20%22type%22%3A%20%22Polygon%22%7D%2C%20%22id%22%3A%20%22%5Cuac15%5Cuc11c%5Cuad6c%22%2C%20%22properties%22%3A%20%7B%22base_year%22%3A%20%222013%22%2C%20%22code%22%3A%20%2211160%22%2C%20%22name%22%3A%20%22%5Cuac15%5Cuc11c%5Cuad6c%22%2C%20%22name_eng%22%3A%20%22Gangseo-gu%22%7D%2C%20%22type%22%3A%20%22Feature%22%7D%2C%20%7B%22geometry%22%3A%20%7B%22coordinates%22%3A%20%5B%5B%5B126.8242331426722%2C%2037.53788078753248%5D%2C%20%5B126.84257291943153%2C%2037.52373707805596%5D%2C%20%5B126.86610073476395%2C%2037.52699964144669%5D%2C%20%5B126.86637464321238%2C%2037.54859191094823%5D%2C%20%5B126.88825757860099%2C%2037.54079733630232%5D%2C%20%5B126.88156402353862%2C%2037.513970034765684%5D%2C%20%5B126.82688081517314%2C%2037.50548972232896%5D%2C%20%5B126.8242331426722%2C%2037.53788078753248%5D%5D%5D%2C%20%22type%22%3A%20%22Polygon%22%7D%2C%20%22id%22%3A%20%22%5Cuc591%5Cucc9c%5Cuad6c%22%2C%20%22properties%22%3A%20%7B%22base_year%22%3A%20%222013%22%2C%20%22code%22%3A%20%2211150%22%2C%20%22name%22%3A%20%22%5Cuc591%5Cucc9c%5Cuad6c%22%2C%20%22name_eng%22%3A%20%22Yangcheon-gu%22%7D%2C%20%22type%22%3A%20%22Feature%22%7D%2C%20%7B%22geometry%22%3A%20%7B%22coordinates%22%3A%20%5B%5B%5B126.90522065831053%2C%2037.57409700522574%5D%2C%20%5B126.93898161798973%2C%2037.552310003728124%5D%2C%20%5B126.96358226710812%2C%2037.55605635475154%5D%2C%20%5B126.96448570553055%2C%2037.548705692021635%5D%2C%20%5B126.94566733083212%2C%2037.526617542453366%5D%2C%20%5B126.89184663862764%2C%2037.547373974997114%5D%2C%20%5B126.85984199399667%2C%2037.571847855292745%5D%2C%20%5B126.88433284773288%2C%2037.588143322880526%5D%2C%20%5B126.90522065831053%2C%2037.57409700522574%5D%5D%5D%2C%20%22type%22%3A%20%22Polygon%22%7D%2C%20%22id%22%3A%20%22%5Cub9c8%5Cud3ec%5Cuad6c%22%2C%20%22properties%22%3A%20%7B%22base_year%22%3A%20%222013%22%2C%20%22code%22%3A%20%2211140%22%2C%20%22name%22%3A%20%22%5Cub9c8%5Cud3ec%5Cuad6c%22%2C%20%22name_eng%22%3A%20%22Mapo-gu%22%7D%2C%20%22type%22%3A%20%22Feature%22%7D%2C%20%7B%22geometry%22%3A%20%7B%22coordinates%22%3A%20%5B%5B%5B126.9524752030572%2C%2037.60508692737045%5D%2C%20%5B126.95565425846463%2C%2037.576080790881456%5D%2C%20%5B126.96873633279075%2C%2037.56313604690827%5D%2C%20%5B126.96358226710812%2C%2037.55605635475154%5D%2C%20%5B126.93898161798973%2C%2037.552310003728124%5D%2C%20%5B126.90522065831053%2C%2037.57409700522574%5D%2C%20%5B126.9524752030572%2C%2037.60508692737045%5D%5D%5D%2C%20%22type%22%3A%20%22Polygon%22%7D%2C%20%22id%22%3A%20%22%5Cuc11c%5Cub300%5Cubb38%5Cuad6c%22%2C%20%22properties%22%3A%20%7B%22base_year%22%3A%20%222013%22%2C%20%22code%22%3A%20%2211130%22%2C%20%22name%22%3A%20%22%5Cuc11c%5Cub300%5Cubb38%5Cuad6c%22%2C%20%22name_eng%22%3A%20%22Seodaemun-gu%22%7D%2C%20%22type%22%3A%20%22Feature%22%7D%2C%20%7B%22geometry%22%3A%20%7B%22coordinates%22%3A%20%5B%5B%5B126.9738864128702%2C%2037.62949634786888%5D%2C%20%5B126.95427017006129%2C%2037.622033431339425%5D%2C%20%5B126.9524752030572%2C%2037.60508692737045%5D%2C%20%5B126.90522065831053%2C%2037.57409700522574%5D%2C%20%5B126.88433284773288%2C%2037.588143322880526%5D%2C%20%5B126.90396681003595%2C%2037.59227403419942%5D%2C%20%5B126.90303066177668%2C%2037.609977911401344%5D%2C%20%5B126.91455481429648%2C%2037.64150050996935%5D%2C%20%5B126.956473797387%2C%2037.652480737339445%5D%2C%20%5B126.9738864128702%2C%2037.62949634786888%5D%5D%5D%2C%20%22type%22%3A%20%22Polygon%22%7D%2C%20%22id%22%3A%20%22%5Cuc740%5Cud3c9%5Cuad6c%22%2C%20%22properties%22%3A%20%7B%22base_year%22%3A%20%222013%22%2C%20%22code%22%3A%20%2211120%22%2C%20%22name%22%3A%20%22%5Cuc740%5Cud3c9%5Cuad6c%22%2C%20%22name_eng%22%3A%20%22Eunpyeong-gu%22%7D%2C%20%22type%22%3A%20%22Feature%22%7D%2C%20%7B%22geometry%22%3A%20%7B%22coordinates%22%3A%20%5B%5B%5B127.0838752703195%2C%2037.69359534202034%5D%2C%20%5B127.09706391309695%2C%2037.686383719372294%5D%2C%20%5B127.09440766298717%2C%2037.64713490473045%5D%2C%20%5B127.11326795855199%2C%2037.639622905315925%5D%2C%20%5B127.10782277688129%2C%2037.61804244241069%5D%2C%20%5B127.07351243825278%2C%2037.61283660342313%5D%2C%20%5B127.05209373568619%2C%2037.62164065487782%5D%2C%20%5B127.04358800895609%2C%2037.62848931298715%5D%2C%20%5B127.05800075220091%2C%2037.64318263878276%5D%2C%20%5B127.05288479710485%2C%2037.68423857084347%5D%2C%20%5B127.0838752703195%2C%2037.69359534202034%5D%5D%5D%2C%20%22type%22%3A%20%22Polygon%22%7D%2C%20%22id%22%3A%20%22%5Cub178%5Cuc6d0%5Cuad6c%22%2C%20%22properties%22%3A%20%7B%22base_year%22%3A%20%222013%22%2C%20%22code%22%3A%20%2211110%22%2C%20%22name%22%3A%20%22%5Cub178%5Cuc6d0%5Cuad6c%22%2C%20%22name_eng%22%3A%20%22Nowon-gu%22%7D%2C%20%22type%22%3A%20%22Feature%22%7D%2C%20%7B%22geometry%22%3A%20%7B%22coordinates%22%3A%20%5B%5B%5B127.05288479710485%2C%2037.68423857084347%5D%2C%20%5B127.05800075220091%2C%2037.64318263878276%5D%2C%20%5B127.04358800895609%2C%2037.62848931298715%5D%2C%20%5B127.01465935892466%2C%2037.64943687496812%5D%2C%20%5B127.02062116141389%2C%2037.667173575971205%5D%2C%20%5B127.01039666042071%2C%2037.681894589603594%5D%2C%20%5B127.01795099203432%2C%2037.69824412775662%5D%2C%20%5B127.05288479710485%2C%2037.68423857084347%5D%5D%5D%2C%20%22type%22%3A%20%22Polygon%22%7D%2C%20%22id%22%3A%20%22%5Cub3c4%5Cubd09%5Cuad6c%22%2C%20%22properties%22%3A%20%7B%22base_year%22%3A%20%222013%22%2C%20%22code%22%3A%20%2211100%22%2C%20%22name%22%3A%20%22%5Cub3c4%5Cubd09%5Cuad6c%22%2C%20%22name_eng%22%3A%20%22Dobong-gu%22%7D%2C%20%22type%22%3A%20%22Feature%22%7D%2C%20%7B%22geometry%22%3A%20%7B%22coordinates%22%3A%20%5B%5B%5B126.99383903424%2C%2037.676681761199085%5D%2C%20%5B127.01039666042071%2C%2037.681894589603594%5D%2C%20%5B127.02062116141389%2C%2037.667173575971205%5D%2C%20%5B127.01465935892466%2C%2037.64943687496812%5D%2C%20%5B127.04358800895609%2C%2037.62848931298715%5D%2C%20%5B127.05209373568619%2C%2037.62164065487782%5D%2C%20%5B127.03892400992301%2C%2037.609715611023816%5D%2C%20%5B127.0128154749523%2C%2037.613652243470256%5D%2C%20%5B126.98672705513869%2C%2037.63377641288196%5D%2C%20%5B126.9817452676551%2C%2037.65209769387776%5D%2C%20%5B126.99383903424%2C%2037.676681761199085%5D%5D%5D%2C%20%22type%22%3A%20%22Polygon%22%7D%2C%20%22id%22%3A%20%22%5Cuac15%5Cubd81%5Cuad6c%22%2C%20%22properties%22%3A%20%7B%22base_year%22%3A%20%222013%22%2C%20%22code%22%3A%20%2211090%22%2C%20%22name%22%3A%20%22%5Cuac15%5Cubd81%5Cuad6c%22%2C%20%22name_eng%22%3A%20%22Gangbuk-gu%22%7D%2C%20%22type%22%3A%20%22Feature%22%7D%2C%20%7B%22geometry%22%3A%20%7B%22coordinates%22%3A%20%5B%5B%5B126.977175406416%2C%2037.62859715400388%5D%2C%20%5B126.98672705513869%2C%2037.63377641288196%5D%2C%20%5B127.0128154749523%2C%2037.613652243470256%5D%2C%20%5B127.03892400992301%2C%2037.609715611023816%5D%2C%20%5B127.05209373568619%2C%2037.62164065487782%5D%2C%20%5B127.07351243825278%2C%2037.61283660342313%5D%2C%20%5B127.07382707099227%2C%2037.60401928986419%5D%2C%20%5B127.042705222094%2C%2037.59239437593391%5D%2C%20%5B127.02527254528003%2C%2037.57524616245249%5D%2C%20%5B126.99348293358314%2C%2037.588565457216156%5D%2C%20%5B126.98879865992384%2C%2037.6118927319756%5D%2C%20%5B126.977175406416%2C%2037.62859715400388%5D%5D%5D%2C%20%22type%22%3A%20%22Polygon%22%7D%2C%20%22id%22%3A%20%22%5Cuc131%5Cubd81%5Cuad6c%22%2C%20%22properties%22%3A%20%7B%22base_year%22%3A%20%222013%22%2C%20%22code%22%3A%20%2211080%22%2C%20%22name%22%3A%20%22%5Cuc131%5Cubd81%5Cuad6c%22%2C%20%22name_eng%22%3A%20%22Seongbuk-gu%22%7D%2C%20%22type%22%3A%20%22Feature%22%7D%2C%20%7B%22geometry%22%3A%20%7B%22coordinates%22%3A%20%5B%5B%5B127.07351243825278%2C%2037.61283660342313%5D%2C%20%5B127.10782277688129%2C%2037.61804244241069%5D%2C%20%5B127.1201246020114%2C%2037.60178457598188%5D%2C%20%5B127.10304174249214%2C%2037.57076342290955%5D%2C%20%5B127.08068541280403%2C%2037.56906425519017%5D%2C%20%5B127.07382707099227%2C%2037.60401928986419%5D%2C%20%5B127.07351243825278%2C%2037.61283660342313%5D%5D%5D%2C%20%22type%22%3A%20%22Polygon%22%7D%2C%20%22id%22%3A%20%22%5Cuc911%5Cub791%5Cuad6c%22%2C%20%22properties%22%3A%20%7B%22base_year%22%3A%20%222013%22%2C%20%22code%22%3A%20%2211070%22%2C%20%22name%22%3A%20%22%5Cuc911%5Cub791%5Cuad6c%22%2C%20%22name_eng%22%3A%20%22Jungnang-gu%22%7D%2C%20%22type%22%3A%20%22Feature%22%7D%2C%20%7B%22geometry%22%3A%20%7B%22coordinates%22%3A%20%5B%5B%5B127.02527254528003%2C%2037.57524616245249%5D%2C%20%5B127.042705222094%2C%2037.59239437593391%5D%2C%20%5B127.07382707099227%2C%2037.60401928986419%5D%2C%20%5B127.08068541280403%2C%2037.56906425519017%5D%2C%20%5B127.07421053024362%2C%2037.55724769712085%5D%2C%20%5B127.05005601081567%2C%2037.567577612590846%5D%2C%20%5B127.02547266349976%2C%2037.568943552237734%5D%2C%20%5B127.02527254528003%2C%2037.57524616245249%5D%5D%5D%2C%20%22type%22%3A%20%22Polygon%22%7D%2C%20%22id%22%3A%20%22%5Cub3d9%5Cub300%5Cubb38%5Cuad6c%22%2C%20%22properties%22%3A%20%7B%22base_year%22%3A%20%222013%22%2C%20%22code%22%3A%20%2211060%22%2C%20%22name%22%3A%20%22%5Cub3d9%5Cub300%5Cubb38%5Cuad6c%22%2C%20%22name_eng%22%3A%20%22Dongdaemun-gu%22%7D%2C%20%22type%22%3A%20%22Feature%22%7D%2C%20%7B%22geometry%22%3A%20%7B%22coordinates%22%3A%20%5B%5B%5B127.08068541280403%2C%2037.56906425519017%5D%2C%20%5B127.10304174249214%2C%2037.57076342290955%5D%2C%20%5B127.11519584981606%2C%2037.557533180704915%5D%2C%20%5B127.1116764203608%2C%2037.540669955324965%5D%2C%20%5B127.10087519791962%2C%2037.524841220167055%5D%2C%20%5B127.0690698130372%2C%2037.522279423505026%5D%2C%20%5B127.05867359288398%2C%2037.52629974922568%5D%2C%20%5B127.07421053024362%2C%2037.55724769712085%5D%2C%20%5B127.08068541280403%2C%2037.56906425519017%5D%5D%5D%2C%20%22type%22%3A%20%22Polygon%22%7D%2C%20%22id%22%3A%20%22%5Cuad11%5Cuc9c4%5Cuad6c%22%2C%20%22properties%22%3A%20%7B%22base_year%22%3A%20%222013%22%2C%20%22code%22%3A%20%2211050%22%2C%20%22name%22%3A%20%22%5Cuad11%5Cuc9c4%5Cuad6c%22%2C%20%22name_eng%22%3A%20%22Gwangjin-gu%22%7D%2C%20%22type%22%3A%20%22Feature%22%7D%2C%20%7B%22geometry%22%3A%20%7B%22coordinates%22%3A%20%5B%5B%5B127.02547266349976%2C%2037.568943552237734%5D%2C%20%5B127.05005601081567%2C%2037.567577612590846%5D%2C%20%5B127.07421053024362%2C%2037.55724769712085%5D%2C%20%5B127.05867359288398%2C%2037.52629974922568%5D%2C%20%5B127.02302831890559%2C%2037.53231899582663%5D%2C%20%5B127.01070894177482%2C%2037.54118048964762%5D%2C%20%5B127.02547266349976%2C%2037.568943552237734%5D%5D%5D%2C%20%22type%22%3A%20%22Polygon%22%7D%2C%20%22id%22%3A%20%22%5Cuc131%5Cub3d9%5Cuad6c%22%2C%20%22properties%22%3A%20%7B%22base_year%22%3A%20%222013%22%2C%20%22code%22%3A%20%2211040%22%2C%20%22name%22%3A%20%22%5Cuc131%5Cub3d9%5Cuad6c%22%2C%20%22name_eng%22%3A%20%22Seongdong-gu%22%7D%2C%20%22type%22%3A%20%22Feature%22%7D%2C%20%7B%22geometry%22%3A%20%7B%22coordinates%22%3A%20%5B%5B%5B127.01070894177482%2C%2037.54118048964762%5D%2C%20%5B127.02302831890559%2C%2037.53231899582663%5D%2C%20%5B127.01397119667513%2C%2037.52503988289669%5D%2C%20%5B126.98223807916081%2C%2037.509314966770326%5D%2C%20%5B126.95249990298159%2C%2037.51722500741813%5D%2C%20%5B126.94566733083212%2C%2037.526617542453366%5D%2C%20%5B126.96448570553055%2C%2037.548705692021635%5D%2C%20%5B126.98752996903328%2C%2037.55094818807139%5D%2C%20%5B127.01070894177482%2C%2037.54118048964762%5D%5D%5D%2C%20%22type%22%3A%20%22Polygon%22%7D%2C%20%22id%22%3A%20%22%5Cuc6a9%5Cuc0b0%5Cuad6c%22%2C%20%22properties%22%3A%20%7B%22base_year%22%3A%20%222013%22%2C%20%22code%22%3A%20%2211030%22%2C%20%22name%22%3A%20%22%5Cuc6a9%5Cuc0b0%5Cuad6c%22%2C%20%22name_eng%22%3A%20%22Yongsan-gu%22%7D%2C%20%22type%22%3A%20%22Feature%22%7D%2C%20%7B%22geometry%22%3A%20%7B%22coordinates%22%3A%20%5B%5B%5B127.02547266349976%2C%2037.568943552237734%5D%2C%20%5B127.01070894177482%2C%2037.54118048964762%5D%2C%20%5B126.98752996903328%2C%2037.55094818807139%5D%2C%20%5B126.96448570553055%2C%2037.548705692021635%5D%2C%20%5B126.96358226710812%2C%2037.55605635475154%5D%2C%20%5B126.96873633279075%2C%2037.56313604690827%5D%2C%20%5B127.02547266349976%2C%2037.568943552237734%5D%5D%5D%2C%20%22type%22%3A%20%22Polygon%22%7D%2C%20%22id%22%3A%20%22%5Cuc911%5Cuad6c%22%2C%20%22properties%22%3A%20%7B%22base_year%22%3A%20%222013%22%2C%20%22code%22%3A%20%2211020%22%2C%20%22name%22%3A%20%22%5Cuc911%5Cuad6c%22%2C%20%22name_eng%22%3A%20%22Jung-gu%22%7D%2C%20%22type%22%3A%20%22Feature%22%7D%2C%20%7B%22geometry%22%3A%20%7B%22coordinates%22%3A%20%5B%5B%5B126.9738864128702%2C%2037.62949634786888%5D%2C%20%5B126.977175406416%2C%2037.62859715400388%5D%2C%20%5B126.98879865992384%2C%2037.6118927319756%5D%2C%20%5B126.99348293358314%2C%2037.588565457216156%5D%2C%20%5B127.02527254528003%2C%2037.57524616245249%5D%2C%20%5B127.02547266349976%2C%2037.568943552237734%5D%2C%20%5B126.96873633279075%2C%2037.56313604690827%5D%2C%20%5B126.95565425846463%2C%2037.576080790881456%5D%2C%20%5B126.9524752030572%2C%2037.60508692737045%5D%2C%20%5B126.95427017006129%2C%2037.622033431339425%5D%2C%20%5B126.9738864128702%2C%2037.62949634786888%5D%5D%5D%2C%20%22type%22%3A%20%22Polygon%22%7D%2C%20%22id%22%3A%20%22%5Cuc885%5Cub85c%5Cuad6c%22%2C%20%22properties%22%3A%20%7B%22base_year%22%3A%20%222013%22%2C%20%22code%22%3A%20%2211010%22%2C%20%22name%22%3A%20%22%5Cuc885%5Cub85c%5Cuad6c%22%2C%20%22name_eng%22%3A%20%22Jongno-gu%22%7D%2C%20%22type%22%3A%20%22Feature%22%7D%5D%2C%20%22type%22%3A%20%22FeatureCollection%22%7D%29%3B%0A%20%20%20%20%20%20%20%20%0A%20%20%20%20%0A%20%20%20%20var%20color_map_0f58268540d6405dace53a755909dc29%20%3D%20%7B%7D%3B%0A%0A%20%20%20%20%0A%20%20%20%20color_map_0f58268540d6405dace53a755909dc29.color%20%3D%20d3.scale.threshold%28%29%0A%20%20%20%20%20%20%20%20%20%20%20%20%20%20.domain%28%5B0.123251%2C%200.14977682164328657%2C%200.17630264328657314%2C%200.2028284649298597%2C%200.22935428657314627%2C%200.2558801082164328%2C%200.2824059298597194%2C%200.308931751503006%2C%200.33545757314629254%2C%200.36198339478957914%2C%200.3885092164328657%2C%200.4150350380761523%2C%200.4415608597194388%2C%200.4680866813627254%2C%200.494612503006012%2C%200.5211383246492987%2C%200.5476641462925851%2C%200.5741899679358717%2C%200.6007157895791583%2C%200.6272416112224448%2C%200.6537674328657314%2C%200.6802932545090179%2C%200.7068190761523045%2C%200.7333448977955911%2C%200.7598707194388776%2C%200.7863965410821643%2C%200.8129223627254508%2C%200.8394481843687375%2C%200.865974006012024%2C%200.8924998276553106%2C%200.9190256492985972%2C%200.9455514709418837%2C%200.9720772925851703%2C%200.9986031142284568%2C%201.0251289358717433%2C%201.05165475751503%2C%201.0781805791583166%2C%201.1047064008016032%2C%201.1312322224448896%2C%201.157758044088176%2C%201.1842838657314627%2C%201.2108096873747494%2C%201.2373355090180358%2C%201.2638613306613224%2C%201.290387152304609%2C%201.3169129739478955%2C%201.3434387955911822%2C%201.3699646172344686%2C%201.3964904388777553%2C%201.4230162605210421%2C%201.4495420821643286%2C%201.4760679038076152%2C%201.5025937254509016%2C%201.5291195470941883%2C%201.555645368737475%2C%201.5821711903807614%2C%201.608697012024048%2C%201.6352228336673347%2C%201.661748655310621%2C%201.6882744769539078%2C%201.7148002985971944%2C%201.7413261202404808%2C%201.7678519418837675%2C%201.794377763527054%2C%201.8209035851703406%2C%201.8474294068136272%2C%201.8739552284569136%2C%201.9004810501002003%2C%201.9270068717434867%2C%201.9535326933867734%2C%201.98005851503006%2C%202.0065843366733462%2C%202.0331101583166333%2C%202.0596359799599195%2C%202.086161801603206%2C%202.112687623246493%2C%202.139213444889779%2C%202.165739266533066%2C%202.1922650881763524%2C%202.2187909098196394%2C%202.2453167314629257%2C%202.271842553106212%2C%202.298368374749499%2C%202.324894196392785%2C%202.3514200180360714%2C%202.3779458396793585%2C%202.4044716613226447%2C%202.4309974829659318%2C%202.457523304609218%2C%202.484049126252505%2C%202.5105749478957913%2C%202.5371007695390775%2C%202.5636265911823646%2C%202.590152412825651%2C%202.616678234468937%2C%202.643204056112224%2C%202.6697298777555103%2C%202.6962556993987974%2C%202.7227815210420845%2C%202.7493073426853707%2C%202.775833164328657%2C%202.802358985971944%2C%202.82888480761523%2C%202.8554106292585164%2C%202.8819364509018035%2C%202.9084622725450897%2C%202.934988094188377%2C%202.961513915831663%2C%202.98803973747495%2C%203.0145655591182363%2C%203.0410913807615225%2C%203.0676172024048096%2C%203.094143024048096%2C%203.120668845691382%2C%203.147194667334669%2C%203.1737204889779553%2C%203.2002463106212424%2C%203.2267721322645286%2C%203.2532979539078157%2C%203.279823775551102%2C%203.306349597194389%2C%203.3328754188376752%2C%203.3594012404809614%2C%203.3859270621242477%2C%203.4124528837675348%2C%203.438978705410821%2C%203.465504527054108%2C%203.4920303486973943%2C%203.5185561703406814%2C%203.5450819919839676%2C%203.5716078136272547%2C%203.598133635270541%2C%203.624659456913827%2C%203.651185278557114%2C%203.6777111002004004%2C%203.7042369218436866%2C%203.7307627434869737%2C%203.75728856513026%2C%203.783814386773547%2C%203.810340208416833%2C%203.8368660300601203%2C%203.8633918517034065%2C%203.8899176733466927%2C%203.91644349498998%2C%203.942969316633266%2C%203.969495138276552%2C%203.9960209599198393%2C%204.0225467815631255%2C%204.049072603206413%2C%204.075598424849699%2C%204.102124246492986%2C%204.128650068136272%2C%204.155175889779558%2C%204.181701711422845%2C%204.208227533066132%2C%204.234753354709419%2C%204.261279176352704%2C%204.287804997995991%2C%204.314330819639278%2C%204.340856641282564%2C%204.367382462925851%2C%204.393908284569138%2C%204.420434106212424%2C%204.446959927855711%2C%204.473485749498997%2C%204.5000115711422835%2C%204.5265373927855705%2C%204.553063214428858%2C%204.579589036072143%2C%204.60611485771543%2C%204.632640679358717%2C%204.659166501002003%2C%204.68569232264529%2C%204.712218144288577%2C%204.738743965931863%2C%204.76526978757515%2C%204.791795609218436%2C%204.818321430861722%2C%204.8448472525050095%2C%204.871373074148296%2C%204.897898895791582%2C%204.924424717434869%2C%204.950950539078155%2C%204.977476360721442%2C%205.0040021823647285%2C%205.030528004008015%2C%205.057053825651302%2C%205.083579647294589%2C%205.110105468937874%2C%205.136631290581161%2C%205.163157112224448%2C%205.189682933867735%2C%205.216208755511021%2C%205.242734577154308%2C%205.269260398797594%2C%205.295786220440881%2C%205.322312042084168%2C%205.348837863727454%2C%205.375363685370741%2C%205.401889507014028%2C%205.428415328657314%2C%205.4549411503006%2C%205.481466971943887%2C%205.5079927935871735%2C%205.534518615230461%2C%205.561044436873747%2C%205.587570258517033%2C%205.61409608016032%2C%205.640621901803606%2C%205.6671477234468925%2C%205.69367354509018%2C%205.720199366733466%2C%205.746725188376753%2C%205.773251010020039%2C%205.799776831663325%2C%205.8263026533066125%2C%205.8528284749498996%2C%205.879354296593185%2C%205.905880118236472%2C%205.932405939879759%2C%205.958931761523045%2C%205.9854575831663315%2C%206.011983404809619%2C%206.038509226452905%2C%206.065035048096192%2C%206.091560869739478%2C%206.118086691382764%2C%206.144612513026051%2C%206.1711383346693385%2C%206.197664156312624%2C%206.224189977955911%2C%206.250715799599198%2C%206.277241621242484%2C%206.30376744288577%2C%206.3302932645290575%2C%206.356819086172344%2C%206.383344907815631%2C%206.409870729458917%2C%206.436396551102203%2C%206.46292237274549%2C%206.489448194388777%2C%206.515974016032063%2C%206.54249983767535%2C%206.569025659318636%2C%206.595551480961923%2C%206.622077302605209%2C%206.6486031242484955%2C%206.675128945891783%2C%206.70165476753507%2C%206.728180589178355%2C%206.754706410821642%2C%206.781232232464929%2C%206.807758054108215%2C%206.834283875751502%2C%206.860809697394789%2C%206.887335519038075%2C%206.913861340681362%2C%206.940387162324648%2C%206.9669129839679345%2C%206.9934388056112216%2C%207.019964627254509%2C%207.046490448897794%2C%207.073016270541081%2C%207.099542092184368%2C%207.126067913827654%2C%207.152593735470941%2C%207.179119557114228%2C%207.205645378757514%2C%207.232171200400801%2C%207.258697022044087%2C%207.285222843687373%2C%207.3117486653306605%2C%207.338274486973947%2C%207.364800308617233%2C%207.39132613026052%2C%207.417851951903806%2C%207.444377773547093%2C%207.4709035951903795%2C%207.497429416833666%2C%207.523955238476953%2C%207.55048106012024%2C%207.577006881763525%2C%207.603532703406812%2C%207.630058525050099%2C%207.656584346693386%2C%207.683110168336672%2C%207.709635989979959%2C%207.736161811623245%2C%207.762687633266532%2C%207.789213454909819%2C%207.815739276553105%2C%207.842265098196392%2C%207.868790919839679%2C%207.895316741482964%2C%207.921842563126251%2C%207.948368384769538%2C%207.9748942064128245%2C%208.001420028056112%2C%208.027945849699398%2C%208.054471671342684%2C%208.080997492985972%2C%208.107523314629258%2C%208.134049136272544%2C%208.16057495791583%2C%208.187100779559117%2C%208.213626601202403%2C%208.240152422845691%2C%208.266678244488977%2C%208.293204066132263%2C%208.31972988777555%2C%208.346255709418838%2C%208.372781531062124%2C%208.399307352705408%2C%208.425833174348696%2C%208.452358995991982%2C%208.47888481763527%2C%208.505410639278557%2C%208.531936460921843%2C%208.558462282565129%2C%208.584988104208415%2C%208.611513925851702%2C%208.63803974749499%2C%208.664565569138276%2C%208.691091390781562%2C%208.717617212424848%2C%208.744143034068134%2C%208.770668855711422%2C%208.797194677354709%2C%208.823720498997995%2C%208.850246320641281%2C%208.876772142284567%2C%208.903297963927855%2C%208.929823785571141%2C%208.956349607214428%2C%208.982875428857716%2C%209.009401250501%2C%209.035927072144286%2C%209.062452893787574%2C%209.08897871543086%2C%209.115504537074148%2C%209.142030358717435%2C%209.168556180360719%2C%209.195082002004007%2C%209.221607823647293%2C%209.24813364529058%2C%209.274659466933867%2C%209.301185288577154%2C%209.32771111022044%2C%209.354236931863726%2C%209.380762753507012%2C%209.4072885751503%2C%209.433814396793586%2C%209.460340218436873%2C%209.486866040080159%2C%209.513391861723445%2C%209.539917683366733%2C%209.56644350501002%2C%209.592969326653305%2C%209.619495148296592%2C%209.646020969939878%2C%209.672546791583164%2C%209.699072613226452%2C%209.725598434869738%2C%209.752124256513026%2C%209.77865007815631%2C%209.805175899799597%2C%209.831701721442885%2C%209.858227543086171%2C%209.884753364729457%2C%209.911279186372745%2C%209.93780500801603%2C%209.964330829659318%2C%209.990856651302604%2C%2010.01738247294589%2C%2010.043908294589178%2C%2010.070434116232464%2C%2010.096959937875749%2C%2010.123485759519037%2C%2010.150011581162323%2C%2010.17653740280561%2C%2010.203063224448897%2C%2010.229589046092183%2C%2010.25611486773547%2C%2010.282640689378756%2C%2010.309166511022042%2C%2010.33569233266533%2C%2010.362218154308616%2C%2010.388743975951902%2C%2010.415269797595188%2C%2010.441795619238475%2C%2010.468321440881763%2C%2010.494847262525049%2C%2010.521373084168337%2C%2010.547898905811621%2C%2010.574424727454907%2C%2010.600950549098195%2C%2010.627476370741482%2C%2010.654002192384768%2C%2010.680528014028056%2C%2010.70705383567134%2C%2010.733579657314628%2C%2010.760105478957914%2C%2010.7866313006012%2C%2010.813157122244489%2C%2010.839682943887775%2C%2010.86620876553106%2C%2010.892734587174347%2C%2010.919260408817633%2C%2010.945786230460921%2C%2010.972312052104208%2C%2010.998837873747494%2C%2011.02536369539078%2C%2011.051889517034066%2C%2011.078415338677353%2C%2011.10494116032064%2C%2011.131466981963927%2C%2011.157992803607213%2C%2011.1845186252505%2C%2011.211044446893785%2C%2011.237570268537073%2C%2011.26409609018036%2C%2011.290621911823646%2C%2011.317147733466932%2C%2011.343673555110218%2C%2011.370199376753506%2C%2011.396725198396792%2C%2011.423251020040079%2C%2011.449776841683367%2C%2011.476302663326651%2C%2011.502828484969937%2C%2011.529354306613225%2C%2011.555880128256511%2C%2011.5824059498998%2C%2011.608931771543086%2C%2011.63545759318637%2C%2011.661983414829658%2C%2011.688509236472944%2C%2011.71503505811623%2C%2011.741560879759518%2C%2011.768086701402805%2C%2011.79461252304609%2C%2011.821138344689377%2C%2011.847664166332663%2C%2011.874189987975951%2C%2011.900715809619237%2C%2011.927241631262524%2C%2011.95376745290581%2C%2011.980293274549096%2C%2012.006819096192384%2C%2012.03334491783567%2C%2012.059870739478956%2C%2012.086396561122243%2C%2012.112922382765529%2C%2012.139448204408815%2C%2012.165974026052103%2C%2012.19249984769539%2C%2012.219025669338677%2C%2012.245551490981962%2C%2012.272077312625248%2C%2012.298603134268536%2C%2012.325128955911822%2C%2012.351654777555108%2C%2012.378180599198396%2C%2012.40470642084168%2C%2012.431232242484969%2C%2012.457758064128255%2C%2012.484283885771541%2C%2012.510809707414829%2C%2012.537335529058115%2C%2012.5638613507014%2C%2012.590387172344688%2C%2012.616912993987974%2C%2012.643438815631262%2C%2012.669964637274548%2C%2012.696490458917834%2C%2012.72301628056112%2C%2012.749542102204407%2C%2012.776067923847693%2C%2012.80259374549098%2C%2012.829119567134267%2C%2012.855645388777555%2C%2012.88217121042084%2C%2012.908697032064126%2C%2012.935222853707414%2C%2012.9617486753507%2C%2012.988274496993988%2C%2013.014800318637272%2C%2013.041326140280558%2C%2013.067851961923846%2C%2013.094377783567133%2C%2013.120903605210419%2C%2013.147429426853707%2C%2013.173955248496991%2C%2013.20048107014028%2C%2013.227006891783565%2C%2013.253532713426852%2C%2013.28005853507014%2C%2013.306584356713426%2C%2013.33311017835671%2C%2013.359635999999998%5D%29%0A%20%20%20%20%20%20%20%20%20%20%20%20%20%20.range%28%5B%27%23f1eef6ff%27%2C%20%27%23f1eef6ff%27%2C%20%27%23f1eef6ff%27%2C%20%27%23f1eef6ff%27%2C%20%27%23f1eef6ff%27%2C%20%27%23f1eef6ff%27%2C%20%27%23f1eef6ff%27%2C%20%27%23f1eef6ff%27%2C%20%27%23f1eef6ff%27%2C%20%27%23f1eef6ff%27%2C%20%27%23f1eef6ff%27%2C%20%27%23f1eef6ff%27%2C%20%27%23f1eef6ff%27%2C%20%27%23f1eef6ff%27%2C%20%27%23f1eef6ff%27%2C%20%27%23f1eef6ff%27%2C%20%27%23f1eef6ff%27%2C%20%27%23f1eef6ff%27%2C%20%27%23f1eef6ff%27%2C%20%27%23f1eef6ff%27%2C%20%27%23f1eef6ff%27%2C%20%27%23f1eef6ff%27%2C%20%27%23f1eef6ff%27%2C%20%27%23f1eef6ff%27%2C%20%27%23f1eef6ff%27%2C%20%27%23f1eef6ff%27%2C%20%27%23f1eef6ff%27%2C%20%27%23f1eef6ff%27%2C%20%27%23f1eef6ff%27%2C%20%27%23f1eef6ff%27%2C%20%27%23f1eef6ff%27%2C%20%27%23f1eef6ff%27%2C%20%27%23f1eef6ff%27%2C%20%27%23f1eef6ff%27%2C%20%27%23f1eef6ff%27%2C%20%27%23f1eef6ff%27%2C%20%27%23f1eef6ff%27%2C%20%27%23f1eef6ff%27%2C%20%27%23f1eef6ff%27%2C%20%27%23f1eef6ff%27%2C%20%27%23f1eef6ff%27%2C%20%27%23f1eef6ff%27%2C%20%27%23f1eef6ff%27%2C%20%27%23f1eef6ff%27%2C%20%27%23f1eef6ff%27%2C%20%27%23f1eef6ff%27%2C%20%27%23f1eef6ff%27%2C%20%27%23f1eef6ff%27%2C%20%27%23f1eef6ff%27%2C%20%27%23f1eef6ff%27%2C%20%27%23f1eef6ff%27%2C%20%27%23f1eef6ff%27%2C%20%27%23f1eef6ff%27%2C%20%27%23f1eef6ff%27%2C%20%27%23f1eef6ff%27%2C%20%27%23f1eef6ff%27%2C%20%27%23f1eef6ff%27%2C%20%27%23f1eef6ff%27%2C%20%27%23f1eef6ff%27%2C%20%27%23f1eef6ff%27%2C%20%27%23f1eef6ff%27%2C%20%27%23f1eef6ff%27%2C%20%27%23f1eef6ff%27%2C%20%27%23f1eef6ff%27%2C%20%27%23f1eef6ff%27%2C%20%27%23f1eef6ff%27%2C%20%27%23f1eef6ff%27%2C%20%27%23f1eef6ff%27%2C%20%27%23f1eef6ff%27%2C%20%27%23f1eef6ff%27%2C%20%27%23f1eef6ff%27%2C%20%27%23f1eef6ff%27%2C%20%27%23f1eef6ff%27%2C%20%27%23f1eef6ff%27%2C%20%27%23f1eef6ff%27%2C%20%27%23f1eef6ff%27%2C%20%27%23f1eef6ff%27%2C%20%27%23f1eef6ff%27%2C%20%27%23f1eef6ff%27%2C%20%27%23f1eef6ff%27%2C%20%27%23f1eef6ff%27%2C%20%27%23f1eef6ff%27%2C%20%27%23f1eef6ff%27%2C%20%27%23f1eef6ff%27%2C%20%27%23d4b9daff%27%2C%20%27%23d4b9daff%27%2C%20%27%23d4b9daff%27%2C%20%27%23d4b9daff%27%2C%20%27%23d4b9daff%27%2C%20%27%23d4b9daff%27%2C%20%27%23d4b9daff%27%2C%20%27%23d4b9daff%27%2C%20%27%23d4b9daff%27%2C%20%27%23d4b9daff%27%2C%20%27%23d4b9daff%27%2C%20%27%23d4b9daff%27%2C%20%27%23d4b9daff%27%2C%20%27%23d4b9daff%27%2C%20%27%23d4b9daff%27%2C%20%27%23d4b9daff%27%2C%20%27%23d4b9daff%27%2C%20%27%23d4b9daff%27%2C%20%27%23d4b9daff%27%2C%20%27%23d4b9daff%27%2C%20%27%23d4b9daff%27%2C%20%27%23d4b9daff%27%2C%20%27%23d4b9daff%27%2C%20%27%23d4b9daff%27%2C%20%27%23d4b9daff%27%2C%20%27%23d4b9daff%27%2C%20%27%23d4b9daff%27%2C%20%27%23d4b9daff%27%2C%20%27%23d4b9daff%27%2C%20%27%23d4b9daff%27%2C%20%27%23d4b9daff%27%2C%20%27%23d4b9daff%27%2C%20%27%23d4b9daff%27%2C%20%27%23d4b9daff%27%2C%20%27%23d4b9daff%27%2C%20%27%23d4b9daff%27%2C%20%27%23d4b9daff%27%2C%20%27%23d4b9daff%27%2C%20%27%23d4b9daff%27%2C%20%27%23d4b9daff%27%2C%20%27%23d4b9daff%27%2C%20%27%23d4b9daff%27%2C%20%27%23d4b9daff%27%2C%20%27%23d4b9daff%27%2C%20%27%23d4b9daff%27%2C%20%27%23d4b9daff%27%2C%20%27%23d4b9daff%27%2C%20%27%23d4b9daff%27%2C%20%27%23d4b9daff%27%2C%20%27%23d4b9daff%27%2C%20%27%23d4b9daff%27%2C%20%27%23d4b9daff%27%2C%20%27%23d4b9daff%27%2C%20%27%23d4b9daff%27%2C%20%27%23d4b9daff%27%2C%20%27%23d4b9daff%27%2C%20%27%23d4b9daff%27%2C%20%27%23d4b9daff%27%2C%20%27%23d4b9daff%27%2C%20%27%23d4b9daff%27%2C%20%27%23d4b9daff%27%2C%20%27%23d4b9daff%27%2C%20%27%23d4b9daff%27%2C%20%27%23d4b9daff%27%2C%20%27%23d4b9daff%27%2C%20%27%23d4b9daff%27%2C%20%27%23d4b9daff%27%2C%20%27%23d4b9daff%27%2C%20%27%23d4b9daff%27%2C%20%27%23d4b9daff%27%2C%20%27%23d4b9daff%27%2C%20%27%23d4b9daff%27%2C%20%27%23d4b9daff%27%2C%20%27%23d4b9daff%27%2C%20%27%23d4b9daff%27%2C%20%27%23d4b9daff%27%2C%20%27%23d4b9daff%27%2C%20%27%23d4b9daff%27%2C%20%27%23d4b9daff%27%2C%20%27%23d4b9daff%27%2C%20%27%23d4b9daff%27%2C%20%27%23d4b9daff%27%2C%20%27%23d4b9daff%27%2C%20%27%23c994c7ff%27%2C%20%27%23c994c7ff%27%2C%20%27%23c994c7ff%27%2C%20%27%23c994c7ff%27%2C%20%27%23c994c7ff%27%2C%20%27%23c994c7ff%27%2C%20%27%23c994c7ff%27%2C%20%27%23c994c7ff%27%2C%20%27%23c994c7ff%27%2C%20%27%23c994c7ff%27%2C%20%27%23c994c7ff%27%2C%20%27%23c994c7ff%27%2C%20%27%23c994c7ff%27%2C%20%27%23c994c7ff%27%2C%20%27%23c994c7ff%27%2C%20%27%23c994c7ff%27%2C%20%27%23c994c7ff%27%2C%20%27%23c994c7ff%27%2C%20%27%23c994c7ff%27%2C%20%27%23c994c7ff%27%2C%20%27%23c994c7ff%27%2C%20%27%23c994c7ff%27%2C%20%27%23c994c7ff%27%2C%20%27%23c994c7ff%27%2C%20%27%23c994c7ff%27%2C%20%27%23c994c7ff%27%2C%20%27%23c994c7ff%27%2C%20%27%23c994c7ff%27%2C%20%27%23c994c7ff%27%2C%20%27%23c994c7ff%27%2C%20%27%23c994c7ff%27%2C%20%27%23c994c7ff%27%2C%20%27%23c994c7ff%27%2C%20%27%23c994c7ff%27%2C%20%27%23c994c7ff%27%2C%20%27%23c994c7ff%27%2C%20%27%23c994c7ff%27%2C%20%27%23c994c7ff%27%2C%20%27%23c994c7ff%27%2C%20%27%23c994c7ff%27%2C%20%27%23c994c7ff%27%2C%20%27%23c994c7ff%27%2C%20%27%23c994c7ff%27%2C%20%27%23c994c7ff%27%2C%20%27%23c994c7ff%27%2C%20%27%23c994c7ff%27%2C%20%27%23c994c7ff%27%2C%20%27%23c994c7ff%27%2C%20%27%23c994c7ff%27%2C%20%27%23c994c7ff%27%2C%20%27%23c994c7ff%27%2C%20%27%23c994c7ff%27%2C%20%27%23c994c7ff%27%2C%20%27%23c994c7ff%27%2C%20%27%23c994c7ff%27%2C%20%27%23c994c7ff%27%2C%20%27%23c994c7ff%27%2C%20%27%23c994c7ff%27%2C%20%27%23c994c7ff%27%2C%20%27%23c994c7ff%27%2C%20%27%23c994c7ff%27%2C%20%27%23c994c7ff%27%2C%20%27%23c994c7ff%27%2C%20%27%23c994c7ff%27%2C%20%27%23c994c7ff%27%2C%20%27%23c994c7ff%27%2C%20%27%23c994c7ff%27%2C%20%27%23c994c7ff%27%2C%20%27%23c994c7ff%27%2C%20%27%23c994c7ff%27%2C%20%27%23c994c7ff%27%2C%20%27%23c994c7ff%27%2C%20%27%23c994c7ff%27%2C%20%27%23c994c7ff%27%2C%20%27%23c994c7ff%27%2C%20%27%23c994c7ff%27%2C%20%27%23c994c7ff%27%2C%20%27%23c994c7ff%27%2C%20%27%23c994c7ff%27%2C%20%27%23c994c7ff%27%2C%20%27%23c994c7ff%27%2C%20%27%23c994c7ff%27%2C%20%27%23c994c7ff%27%2C%20%27%23df65b0ff%27%2C%20%27%23df65b0ff%27%2C%20%27%23df65b0ff%27%2C%20%27%23df65b0ff%27%2C%20%27%23df65b0ff%27%2C%20%27%23df65b0ff%27%2C%20%27%23df65b0ff%27%2C%20%27%23df65b0ff%27%2C%20%27%23df65b0ff%27%2C%20%27%23df65b0ff%27%2C%20%27%23df65b0ff%27%2C%20%27%23df65b0ff%27%2C%20%27%23df65b0ff%27%2C%20%27%23df65b0ff%27%2C%20%27%23df65b0ff%27%2C%20%27%23df65b0ff%27%2C%20%27%23df65b0ff%27%2C%20%27%23df65b0ff%27%2C%20%27%23df65b0ff%27%2C%20%27%23df65b0ff%27%2C%20%27%23df65b0ff%27%2C%20%27%23df65b0ff%27%2C%20%27%23df65b0ff%27%2C%20%27%23df65b0ff%27%2C%20%27%23df65b0ff%27%2C%20%27%23df65b0ff%27%2C%20%27%23df65b0ff%27%2C%20%27%23df65b0ff%27%2C%20%27%23df65b0ff%27%2C%20%27%23df65b0ff%27%2C%20%27%23df65b0ff%27%2C%20%27%23df65b0ff%27%2C%20%27%23df65b0ff%27%2C%20%27%23df65b0ff%27%2C%20%27%23df65b0ff%27%2C%20%27%23df65b0ff%27%2C%20%27%23df65b0ff%27%2C%20%27%23df65b0ff%27%2C%20%27%23df65b0ff%27%2C%20%27%23df65b0ff%27%2C%20%27%23df65b0ff%27%2C%20%27%23df65b0ff%27%2C%20%27%23df65b0ff%27%2C%20%27%23df65b0ff%27%2C%20%27%23df65b0ff%27%2C%20%27%23df65b0ff%27%2C%20%27%23df65b0ff%27%2C%20%27%23df65b0ff%27%2C%20%27%23df65b0ff%27%2C%20%27%23df65b0ff%27%2C%20%27%23df65b0ff%27%2C%20%27%23df65b0ff%27%2C%20%27%23df65b0ff%27%2C%20%27%23df65b0ff%27%2C%20%27%23df65b0ff%27%2C%20%27%23df65b0ff%27%2C%20%27%23df65b0ff%27%2C%20%27%23df65b0ff%27%2C%20%27%23df65b0ff%27%2C%20%27%23df65b0ff%27%2C%20%27%23df65b0ff%27%2C%20%27%23df65b0ff%27%2C%20%27%23df65b0ff%27%2C%20%27%23df65b0ff%27%2C%20%27%23df65b0ff%27%2C%20%27%23df65b0ff%27%2C%20%27%23df65b0ff%27%2C%20%27%23df65b0ff%27%2C%20%27%23df65b0ff%27%2C%20%27%23df65b0ff%27%2C%20%27%23df65b0ff%27%2C%20%27%23df65b0ff%27%2C%20%27%23df65b0ff%27%2C%20%27%23df65b0ff%27%2C%20%27%23df65b0ff%27%2C%20%27%23df65b0ff%27%2C%20%27%23df65b0ff%27%2C%20%27%23df65b0ff%27%2C%20%27%23df65b0ff%27%2C%20%27%23df65b0ff%27%2C%20%27%23df65b0ff%27%2C%20%27%23df65b0ff%27%2C%20%27%23df65b0ff%27%2C%20%27%23dd1c77ff%27%2C%20%27%23dd1c77ff%27%2C%20%27%23dd1c77ff%27%2C%20%27%23dd1c77ff%27%2C%20%27%23dd1c77ff%27%2C%20%27%23dd1c77ff%27%2C%20%27%23dd1c77ff%27%2C%20%27%23dd1c77ff%27%2C%20%27%23dd1c77ff%27%2C%20%27%23dd1c77ff%27%2C%20%27%23dd1c77ff%27%2C%20%27%23dd1c77ff%27%2C%20%27%23dd1c77ff%27%2C%20%27%23dd1c77ff%27%2C%20%27%23dd1c77ff%27%2C%20%27%23dd1c77ff%27%2C%20%27%23dd1c77ff%27%2C%20%27%23dd1c77ff%27%2C%20%27%23dd1c77ff%27%2C%20%27%23dd1c77ff%27%2C%20%27%23dd1c77ff%27%2C%20%27%23dd1c77ff%27%2C%20%27%23dd1c77ff%27%2C%20%27%23dd1c77ff%27%2C%20%27%23dd1c77ff%27%2C%20%27%23dd1c77ff%27%2C%20%27%23dd1c77ff%27%2C%20%27%23dd1c77ff%27%2C%20%27%23dd1c77ff%27%2C%20%27%23dd1c77ff%27%2C%20%27%23dd1c77ff%27%2C%20%27%23dd1c77ff%27%2C%20%27%23dd1c77ff%27%2C%20%27%23dd1c77ff%27%2C%20%27%23dd1c77ff%27%2C%20%27%23dd1c77ff%27%2C%20%27%23dd1c77ff%27%2C%20%27%23dd1c77ff%27%2C%20%27%23dd1c77ff%27%2C%20%27%23dd1c77ff%27%2C%20%27%23dd1c77ff%27%2C%20%27%23dd1c77ff%27%2C%20%27%23dd1c77ff%27%2C%20%27%23dd1c77ff%27%2C%20%27%23dd1c77ff%27%2C%20%27%23dd1c77ff%27%2C%20%27%23dd1c77ff%27%2C%20%27%23dd1c77ff%27%2C%20%27%23dd1c77ff%27%2C%20%27%23dd1c77ff%27%2C%20%27%23dd1c77ff%27%2C%20%27%23dd1c77ff%27%2C%20%27%23dd1c77ff%27%2C%20%27%23dd1c77ff%27%2C%20%27%23dd1c77ff%27%2C%20%27%23dd1c77ff%27%2C%20%27%23dd1c77ff%27%2C%20%27%23dd1c77ff%27%2C%20%27%23dd1c77ff%27%2C%20%27%23dd1c77ff%27%2C%20%27%23dd1c77ff%27%2C%20%27%23dd1c77ff%27%2C%20%27%23dd1c77ff%27%2C%20%27%23dd1c77ff%27%2C%20%27%23dd1c77ff%27%2C%20%27%23dd1c77ff%27%2C%20%27%23dd1c77ff%27%2C%20%27%23dd1c77ff%27%2C%20%27%23dd1c77ff%27%2C%20%27%23dd1c77ff%27%2C%20%27%23dd1c77ff%27%2C%20%27%23dd1c77ff%27%2C%20%27%23dd1c77ff%27%2C%20%27%23dd1c77ff%27%2C%20%27%23dd1c77ff%27%2C%20%27%23dd1c77ff%27%2C%20%27%23dd1c77ff%27%2C%20%27%23dd1c77ff%27%2C%20%27%23dd1c77ff%27%2C%20%27%23dd1c77ff%27%2C%20%27%23dd1c77ff%27%2C%20%27%23dd1c77ff%27%2C%20%27%23dd1c77ff%27%2C%20%27%23980043ff%27%2C%20%27%23980043ff%27%2C%20%27%23980043ff%27%2C%20%27%23980043ff%27%2C%20%27%23980043ff%27%2C%20%27%23980043ff%27%2C%20%27%23980043ff%27%2C%20%27%23980043ff%27%2C%20%27%23980043ff%27%2C%20%27%23980043ff%27%2C%20%27%23980043ff%27%2C%20%27%23980043ff%27%2C%20%27%23980043ff%27%2C%20%27%23980043ff%27%2C%20%27%23980043ff%27%2C%20%27%23980043ff%27%2C%20%27%23980043ff%27%2C%20%27%23980043ff%27%2C%20%27%23980043ff%27%2C%20%27%23980043ff%27%2C%20%27%23980043ff%27%2C%20%27%23980043ff%27%2C%20%27%23980043ff%27%2C%20%27%23980043ff%27%2C%20%27%23980043ff%27%2C%20%27%23980043ff%27%2C%20%27%23980043ff%27%2C%20%27%23980043ff%27%2C%20%27%23980043ff%27%2C%20%27%23980043ff%27%2C%20%27%23980043ff%27%2C%20%27%23980043ff%27%2C%20%27%23980043ff%27%2C%20%27%23980043ff%27%2C%20%27%23980043ff%27%2C%20%27%23980043ff%27%2C%20%27%23980043ff%27%2C%20%27%23980043ff%27%2C%20%27%23980043ff%27%2C%20%27%23980043ff%27%2C%20%27%23980043ff%27%2C%20%27%23980043ff%27%2C%20%27%23980043ff%27%2C%20%27%23980043ff%27%2C%20%27%23980043ff%27%2C%20%27%23980043ff%27%2C%20%27%23980043ff%27%2C%20%27%23980043ff%27%2C%20%27%23980043ff%27%2C%20%27%23980043ff%27%2C%20%27%23980043ff%27%2C%20%27%23980043ff%27%2C%20%27%23980043ff%27%2C%20%27%23980043ff%27%2C%20%27%23980043ff%27%2C%20%27%23980043ff%27%2C%20%27%23980043ff%27%2C%20%27%23980043ff%27%2C%20%27%23980043ff%27%2C%20%27%23980043ff%27%2C%20%27%23980043ff%27%2C%20%27%23980043ff%27%2C%20%27%23980043ff%27%2C%20%27%23980043ff%27%2C%20%27%23980043ff%27%2C%20%27%23980043ff%27%2C%20%27%23980043ff%27%2C%20%27%23980043ff%27%2C%20%27%23980043ff%27%2C%20%27%23980043ff%27%2C%20%27%23980043ff%27%2C%20%27%23980043ff%27%2C%20%27%23980043ff%27%2C%20%27%23980043ff%27%2C%20%27%23980043ff%27%2C%20%27%23980043ff%27%2C%20%27%23980043ff%27%2C%20%27%23980043ff%27%2C%20%27%23980043ff%27%2C%20%27%23980043ff%27%2C%20%27%23980043ff%27%2C%20%27%23980043ff%27%2C%20%27%23980043ff%27%2C%20%27%23980043ff%27%5D%29%3B%0A%20%20%20%20%0A%0A%20%20%20%20color_map_0f58268540d6405dace53a755909dc29.x%20%3D%20d3.scale.linear%28%29%0A%20%20%20%20%20%20%20%20%20%20%20%20%20%20.domain%28%5B0.123251%2C%2013.359635999999998%5D%29%0A%20%20%20%20%20%20%20%20%20%20%20%20%20%20.range%28%5B0%2C%20400%5D%29%3B%0A%0A%20%20%20%20color_map_0f58268540d6405dace53a755909dc29.legend%20%3D%20L.control%28%7Bposition%3A%20%27topright%27%7D%29%3B%0A%20%20%20%20color_map_0f58268540d6405dace53a755909dc29.legend.onAdd%20%3D%20function%20%28map%29%20%7Bvar%20div%20%3D%20L.DomUtil.create%28%27div%27%2C%20%27legend%27%29%3B%20return%20div%7D%3B%0A%20%20%20%20color_map_0f58268540d6405dace53a755909dc29.legend.addTo%28map_62501da029b24159aa87ab1b706d73e3%29%3B%0A%0A%20%20%20%20color_map_0f58268540d6405dace53a755909dc29.xAxis%20%3D%20d3.svg.axis%28%29%0A%20%20%20%20%20%20%20%20.scale%28color_map_0f58268540d6405dace53a755909dc29.x%29%0A%20%20%20%20%20%20%20%20.orient%28%22top%22%29%0A%20%20%20%20%20%20%20%20.tickSize%281%29%0A%20%20%20%20%20%20%20%20.tickValues%28%5B0.123251%2C%202.3293151666666665%2C%204.535379333333332%2C%206.741443499999999%2C%208.947507666666665%2C%2011.15357183333333%2C%2013.359635999999998%5D%29%3B%0A%0A%20%20%20%20color_map_0f58268540d6405dace53a755909dc29.svg%20%3D%20d3.select%28%22.legend.leaflet-control%22%29.append%28%22svg%22%29%0A%20%20%20%20%20%20%20%20.attr%28%22id%22%2C%20%27legend%27%29%0A%20%20%20%20%20%20%20%20.attr%28%22width%22%2C%20450%29%0A%20%20%20%20%20%20%20%20.attr%28%22height%22%2C%2040%29%3B%0A%0A%20%20%20%20color_map_0f58268540d6405dace53a755909dc29.g%20%3D%20color_map_0f58268540d6405dace53a755909dc29.svg.append%28%22g%22%29%0A%20%20%20%20%20%20%20%20.attr%28%22class%22%2C%20%22key%22%29%0A%20%20%20%20%20%20%20%20.attr%28%22transform%22%2C%20%22translate%2825%2C16%29%22%29%3B%0A%0A%20%20%20%20color_map_0f58268540d6405dace53a755909dc29.g.selectAll%28%22rect%22%29%0A%20%20%20%20%20%20%20%20.data%28color_map_0f58268540d6405dace53a755909dc29.color.range%28%29.map%28function%28d%2C%20i%29%20%7B%0A%20%20%20%20%20%20%20%20%20%20return%20%7B%0A%20%20%20%20%20%20%20%20%20%20%20%20x0%3A%20i%20%3F%20color_map_0f58268540d6405dace53a755909dc29.x%28color_map_0f58268540d6405dace53a755909dc29.color.domain%28%29%5Bi%20-%201%5D%29%20%3A%20color_map_0f58268540d6405dace53a755909dc29.x.range%28%29%5B0%5D%2C%0A%20%20%20%20%20%20%20%20%20%20%20%20x1%3A%20i%20%3C%20color_map_0f58268540d6405dace53a755909dc29.color.domain%28%29.length%20%3F%20color_map_0f58268540d6405dace53a755909dc29.x%28color_map_0f58268540d6405dace53a755909dc29.color.domain%28%29%5Bi%5D%29%20%3A%20color_map_0f58268540d6405dace53a755909dc29.x.range%28%29%5B1%5D%2C%0A%20%20%20%20%20%20%20%20%20%20%20%20z%3A%20d%0A%20%20%20%20%20%20%20%20%20%20%7D%3B%0A%20%20%20%20%20%20%20%20%7D%29%29%0A%20%20%20%20%20%20.enter%28%29.append%28%22rect%22%29%0A%20%20%20%20%20%20%20%20.attr%28%22height%22%2C%2010%29%0A%20%20%20%20%20%20%20%20.attr%28%22x%22%2C%20function%28d%29%20%7B%20return%20d.x0%3B%20%7D%29%0A%20%20%20%20%20%20%20%20.attr%28%22width%22%2C%20function%28d%29%20%7B%20return%20d.x1%20-%20d.x0%3B%20%7D%29%0A%20%20%20%20%20%20%20%20.style%28%22fill%22%2C%20function%28d%29%20%7B%20return%20d.z%3B%20%7D%29%3B%0A%0A%20%20%20%20color_map_0f58268540d6405dace53a755909dc29.g.call%28color_map_0f58268540d6405dace53a755909dc29.xAxis%29.append%28%22text%22%29%0A%20%20%20%20%20%20%20%20.attr%28%22class%22%2C%20%22caption%22%29%0A%20%20%20%20%20%20%20%20.attr%28%22y%22%2C%2021%29%0A%20%20%20%20%20%20%20%20.text%28%27%27%29%3B%0A%3C/script%3E onload=\"this.contentDocument.open();this.contentDocument.write(    decodeURIComponent(this.getAttribute('data-html')));this.contentDocument.close();\" allowfullscreen webkitallowfullscreen mozallowfullscreen></iframe></div></div>"
     },
     "metadata": {},
     "execution_count": 84
    }
   ],
   "source": [
    "map = folium.Map(location=[37.55277229023488, 126.99057136537], zoom_start=11,\n",
    "                tiles='Stamen Toner')\n",
    "map.choropleth(geo_data = geo_str,\n",
    "                data = df2['공원총면적'],\n",
    "                columns = [df2.index,df2['공원총면적']],\n",
    "                fill_color = 'PuRd',\n",
    "                key_on = 'feature.id')\n",
    "loc = 'Corpus Christi'\n",
    "\n",
    "map"
   ]
  },
  {
   "cell_type": "code",
   "execution_count": null,
   "metadata": {},
   "outputs": [],
   "source": []
  }
 ]
}