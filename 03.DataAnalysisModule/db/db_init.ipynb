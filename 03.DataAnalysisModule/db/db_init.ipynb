{
 "metadata": {
  "language_info": {
   "codemirror_mode": {
    "name": "ipython",
    "version": 3
   },
   "file_extension": ".py",
   "mimetype": "text/x-python",
   "name": "python",
   "nbconvert_exporter": "python",
   "pygments_lexer": "ipython3",
   "version": "3.8.3-final"
  },
  "orig_nbformat": 2,
  "kernelspec": {
   "name": "python3",
   "display_name": "Python 3",
   "language": "python"
  }
 },
 "nbformat": 4,
 "nbformat_minor": 2,
 "cells": [
  {
   "cell_type": "code",
   "execution_count": 63,
   "metadata": {},
   "outputs": [],
   "source": [
    "import pandas as pd\n",
    "import sqlite3"
   ]
  },
  {
   "cell_type": "code",
   "execution_count": 64,
   "metadata": {},
   "outputs": [
    {
     "output_type": "execute_result",
     "data": {
      "text/plain": [
       "             날짜  제주  경남  경북  전남  전북  충남  충북  강원   경기  세종  울산  대전  광주  인천  대구  \\\n",
       "269  2020-11-25   3  11   3   8   8  18   3  13   82   0   3   4  14  40   5   \n",
       "270  2020-11-26   3  45   2   9  16  16   8   8  183   4   7   1  14  19   1   \n",
       "271  2020-11-27   3  39   3  11  24  31  20   9  117   3   7   5  13  25   0   \n",
       "272  2020-11-28   2  14   5   7   9  17  24  33  126   0   3  13  16  25   1   \n",
       "273  2020-11-29   1  15  11  20  17  13  22  19   94   3   0   6   8  21   3   \n",
       "\n",
       "     부산   서울   합계  \n",
       "269  18  142  382  \n",
       "270  22  213  583  \n",
       "271  24  204  569  \n",
       "272  28  178  504  \n",
       "273  22  158  450  "
      ],
      "text/html": "<div>\n<style scoped>\n    .dataframe tbody tr th:only-of-type {\n        vertical-align: middle;\n    }\n\n    .dataframe tbody tr th {\n        vertical-align: top;\n    }\n\n    .dataframe thead th {\n        text-align: right;\n    }\n</style>\n<table border=\"1\" class=\"dataframe\">\n  <thead>\n    <tr style=\"text-align: right;\">\n      <th></th>\n      <th>날짜</th>\n      <th>제주</th>\n      <th>경남</th>\n      <th>경북</th>\n      <th>전남</th>\n      <th>전북</th>\n      <th>충남</th>\n      <th>충북</th>\n      <th>강원</th>\n      <th>경기</th>\n      <th>세종</th>\n      <th>울산</th>\n      <th>대전</th>\n      <th>광주</th>\n      <th>인천</th>\n      <th>대구</th>\n      <th>부산</th>\n      <th>서울</th>\n      <th>합계</th>\n    </tr>\n  </thead>\n  <tbody>\n    <tr>\n      <th>269</th>\n      <td>2020-11-25</td>\n      <td>3</td>\n      <td>11</td>\n      <td>3</td>\n      <td>8</td>\n      <td>8</td>\n      <td>18</td>\n      <td>3</td>\n      <td>13</td>\n      <td>82</td>\n      <td>0</td>\n      <td>3</td>\n      <td>4</td>\n      <td>14</td>\n      <td>40</td>\n      <td>5</td>\n      <td>18</td>\n      <td>142</td>\n      <td>382</td>\n    </tr>\n    <tr>\n      <th>270</th>\n      <td>2020-11-26</td>\n      <td>3</td>\n      <td>45</td>\n      <td>2</td>\n      <td>9</td>\n      <td>16</td>\n      <td>16</td>\n      <td>8</td>\n      <td>8</td>\n      <td>183</td>\n      <td>4</td>\n      <td>7</td>\n      <td>1</td>\n      <td>14</td>\n      <td>19</td>\n      <td>1</td>\n      <td>22</td>\n      <td>213</td>\n      <td>583</td>\n    </tr>\n    <tr>\n      <th>271</th>\n      <td>2020-11-27</td>\n      <td>3</td>\n      <td>39</td>\n      <td>3</td>\n      <td>11</td>\n      <td>24</td>\n      <td>31</td>\n      <td>20</td>\n      <td>9</td>\n      <td>117</td>\n      <td>3</td>\n      <td>7</td>\n      <td>5</td>\n      <td>13</td>\n      <td>25</td>\n      <td>0</td>\n      <td>24</td>\n      <td>204</td>\n      <td>569</td>\n    </tr>\n    <tr>\n      <th>272</th>\n      <td>2020-11-28</td>\n      <td>2</td>\n      <td>14</td>\n      <td>5</td>\n      <td>7</td>\n      <td>9</td>\n      <td>17</td>\n      <td>24</td>\n      <td>33</td>\n      <td>126</td>\n      <td>0</td>\n      <td>3</td>\n      <td>13</td>\n      <td>16</td>\n      <td>25</td>\n      <td>1</td>\n      <td>28</td>\n      <td>178</td>\n      <td>504</td>\n    </tr>\n    <tr>\n      <th>273</th>\n      <td>2020-11-29</td>\n      <td>1</td>\n      <td>15</td>\n      <td>11</td>\n      <td>20</td>\n      <td>17</td>\n      <td>13</td>\n      <td>22</td>\n      <td>19</td>\n      <td>94</td>\n      <td>3</td>\n      <td>0</td>\n      <td>6</td>\n      <td>8</td>\n      <td>21</td>\n      <td>3</td>\n      <td>22</td>\n      <td>158</td>\n      <td>450</td>\n    </tr>\n  </tbody>\n</table>\n</div>"
     },
     "metadata": {},
     "execution_count": 64
    }
   ],
   "source": [
    "covid = pd.read_csv('../static/data/전국 코로나 일별.csv')\n",
    "covid.tail()"
   ]
  },
  {
   "cell_type": "code",
   "execution_count": 18,
   "metadata": {},
   "outputs": [
    {
     "output_type": "stream",
     "name": "stdout",
     "text": [
      "<class 'pandas.core.frame.DataFrame'>\nRangeIndex: 274 entries, 0 to 273\nData columns (total 19 columns):\n #   Column  Non-Null Count  Dtype \n---  ------  --------------  ----- \n 0   날짜      274 non-null    object\n 1   제주      274 non-null    int64 \n 2   경남      274 non-null    int64 \n 3   경북      274 non-null    int64 \n 4   전남      274 non-null    int64 \n 5   전북      274 non-null    int64 \n 6   충남      274 non-null    int64 \n 7   충북      274 non-null    int64 \n 8   강원      274 non-null    int64 \n 9   경기      274 non-null    int64 \n 10  세종      274 non-null    int64 \n 11  울산      274 non-null    int64 \n 12  대전      274 non-null    int64 \n 13  광주      274 non-null    int64 \n 14  인천      274 non-null    int64 \n 15  대구      274 non-null    int64 \n 16  부산      274 non-null    int64 \n 17  서울      274 non-null    int64 \n 18  합계      274 non-null    int64 \ndtypes: int64(18), object(1)\nmemory usage: 40.8+ KB\n"
     ]
    }
   ],
   "source": [
    "covid.info()"
   ]
  },
  {
   "cell_type": "code",
   "execution_count": 49,
   "metadata": {},
   "outputs": [
    {
     "output_type": "execute_result",
     "data": {
      "text/plain": [
       "['2020-03-01', 0, 0, 0, 0, 0, 0, 0, 0, 0, 0, 0, 0, 0, 0, 0, 0, 0, 0]"
      ]
     },
     "metadata": {},
     "execution_count": 49
    }
   ],
   "source": [
    "params = list(covid.iloc[0,:])\n",
    "params"
   ]
  },
  {
   "cell_type": "code",
   "execution_count": 65,
   "metadata": {},
   "outputs": [],
   "source": [
    "conn = sqlite3.connect('covid.db')\n",
    "cur = conn.cursor()"
   ]
  },
  {
   "cell_type": "code",
   "execution_count": 66,
   "metadata": {},
   "outputs": [],
   "source": [
    "sql_delete = 'drop table daily;'\n",
    "cur.execute(sql_delete)\n",
    "conn.commit()"
   ]
  },
  {
   "cell_type": "code",
   "execution_count": 73,
   "metadata": {},
   "outputs": [],
   "source": [
    "sql_create = '''\n",
    "create table if not exists region (\n",
    "\tilja text not null primary key,\n",
    "seoul int default 0, busan int default 0, daegu int default 0,\n",
    "incheon int default 0, daejeon int default 0, gwangju int default 0,\n",
    "ulsan int default 0, sejong int default 0, gyeonggi int default 0,\n",
    "gangwon int default 0, chungbuk int default 0, chungnam int default 0,\n",
    "gyeongbuk int default 0, gyeongnam int default 0,jeonbuk int default 0,\n",
    "jeonnam int default 0, jeju int default 0,\n",
    "gye int default 0);'''\n",
    "cur.execute(sql_create)\n",
    "conn.commit()"
   ]
  },
  {
   "cell_type": "code",
   "execution_count": 75,
   "metadata": {},
   "outputs": [],
   "source": [
    "sql_insert = 'insert into region values(?,?,?,?,?,?,?,?,?,?,?,?,?,?,?,?,?,?,?)'"
   ]
  },
  {
   "cell_type": "code",
   "execution_count": 76,
   "metadata": {},
   "outputs": [],
   "source": [
    "for i in range(len(covid)):\n",
    "    params = [covid.iloc[i,0]]\n",
    "    for k in range(1,19):\n",
    "        params.append(int(covid.iloc[i,k]))\n",
    "    cur.execute(sql_insert, params)\n",
    "    conn.commit()"
   ]
  },
  {
   "cell_type": "code",
   "execution_count": 81,
   "metadata": {},
   "outputs": [],
   "source": [
    "import requests\n",
    "from urllib.parse import urlparse,quote\n",
    "import pandas as pd\n",
    "from bs4 import BeautifulSoup"
   ]
  },
  {
   "cell_type": "code",
   "execution_count": 77,
   "metadata": {},
   "outputs": [],
   "source": [
    "from tqdm import tqdm_notebook\n",
    "import datetime"
   ]
  },
  {
   "cell_type": "code",
   "execution_count": 79,
   "metadata": {},
   "outputs": [],
   "source": [
    "key_fd = open('../static/data/covid19apikey.txt', mode='r')\n",
    "govapi_key = key_fd.read(100)\n",
    "key_fd.close()"
   ]
  },
  {
   "cell_type": "code",
   "execution_count": 74,
   "metadata": {},
   "outputs": [
    {
     "output_type": "execute_result",
     "data": {
      "text/plain": [
       "'2020-12-21'"
      ]
     },
     "metadata": {},
     "execution_count": 74
    }
   ],
   "source": [
    "datetime.datetime.today().strftime(\"%Y-%m-%d\")"
   ]
  },
  {
   "cell_type": "code",
   "execution_count": 82,
   "metadata": {},
   "outputs": [
    {
     "output_type": "display_data",
     "data": {
      "text/plain": "HBox(children=(FloatProgress(value=0.0, max=23.0), HTML(value='')))",
      "application/vnd.jupyter.widget-view+json": {
       "version_major": 2,
       "version_minor": 0,
       "model_id": "b9f6acb06c5542479c5afc958e0a5dc3"
      }
     },
     "metadata": {}
    },
    {
     "output_type": "stream",
     "name": "stdout",
     "text": [
      "\n"
     ]
    },
    {
     "output_type": "execute_result",
     "data": {
      "text/plain": [
       "           날짜  제주  경남  경북  전남  전북  충남   충북  강원   경기  세종  울산  대전  광주  인천  대구  \\\n",
       "0  2020-11-30   1  20   4   4  16   5   22   8   77   1   3   5  13  34   4   \n",
       "1  2020-12-01   1  11  11   2   9  16   32   9   96   2   3  10  22  16  11   \n",
       "2  2020-12-02   2   7   5   1  26   8   16  12  144   7  10   5  10  23   4   \n",
       "3  2020-12-03   1  13  11   2   9  14   10   8  141   4   2   7   3  22   3   \n",
       "4  2020-12-04   2  16   9   3  14  23    5   3  160   0   5  21   1  17   6   \n",
       "5  2020-12-05   1  27  17   4  17  10   18   9  157   4   1  10   6  19   7   \n",
       "6  2020-12-06   0  16  11   8  12  15   14  12  184   3   3   3   5  42   3   \n",
       "7  2020-12-07   0  16   9   3  22  10   11   9  156   0  38   2   5  40   5   \n",
       "8  2020-12-08   2  13   5   7  13  15   10   8  157   1  61  11  11  28   4   \n",
       "9  2020-12-09   2  31   4   2  12   4   24   5  218   1  14  10   9  48   3   \n",
       "10 2020-12-10  13  16   8   5   8  20   12  15  215   1  17   9   5  37   3   \n",
       "11 2020-12-11   5  12   3   4   7  10   20  11  229   0  47  10   3  37   6   \n",
       "12 2020-12-12   0  17  19   8   6  10   21  36  272   1  23  18   9  42  35   \n",
       "13 2020-12-13   3  24  18   6   9  10   15  18  331   0   8  13  15  62  28   \n",
       "14 2020-12-14   8  28  16   1   8  55   21  14  226   3   5   2  22  36  16   \n",
       "15 2020-12-15   9  16  15   1  15  37   25  13  288   1  49  32   5  55  19   \n",
       "16 2020-12-16  15  19  28   4  75  35   23   8  329   0   6  15   2  67  27   \n",
       "17 2020-12-17  12  30   9   0  19  19   19   9  291   0  10  11  10  80  21   \n",
       "18 2020-12-18  27  44  31   5  16  18   31  18  304   0  31   5   4  64  20   \n",
       "19 2020-12-19  24  32  29   5  15  24  103  27  278   0   9   5   9  46  20   \n",
       "20 2020-12-20  24  51  25   4  29  20   14  55  249   1   6   3  14  62  25   \n",
       "21 2020-12-21  23  15  48   9  13  16   33  25  244   0  17   3  13  88  21   \n",
       "22 2020-12-22  19  18  59   5   4  17   31  23  206   1   6   9  26  45  39   \n",
       "\n",
       "    부산   서울  검역    합계  \n",
       "0   52  159  10   438  \n",
       "1   31  155  14   451  \n",
       "2   32  193   6   511  \n",
       "3   15  262  13   540  \n",
       "4   31  295  18   629  \n",
       "5   29  235  12   583  \n",
       "6   34  254  12   631  \n",
       "7   35  244  10   615  \n",
       "8   27  214   7   594  \n",
       "9   20  270   9   686  \n",
       "10  31  251  16   682  \n",
       "11  26  252   7   689  \n",
       "12  59  362  12   950  \n",
       "13  57  399  14  1030  \n",
       "14  21  219  17   718  \n",
       "15  41  251   8   880  \n",
       "16  41  378   6  1078  \n",
       "17  44  423   7  1014  \n",
       "18  39  398   9  1062  \n",
       "19  39  384   4  1053  \n",
       "20  33  473   9  1097  \n",
       "21  20  328  10   926  \n",
       "22  26  317  18   869  "
      ],
      "text/html": "<div>\n<style scoped>\n    .dataframe tbody tr th:only-of-type {\n        vertical-align: middle;\n    }\n\n    .dataframe tbody tr th {\n        vertical-align: top;\n    }\n\n    .dataframe thead th {\n        text-align: right;\n    }\n</style>\n<table border=\"1\" class=\"dataframe\">\n  <thead>\n    <tr style=\"text-align: right;\">\n      <th></th>\n      <th>날짜</th>\n      <th>제주</th>\n      <th>경남</th>\n      <th>경북</th>\n      <th>전남</th>\n      <th>전북</th>\n      <th>충남</th>\n      <th>충북</th>\n      <th>강원</th>\n      <th>경기</th>\n      <th>세종</th>\n      <th>울산</th>\n      <th>대전</th>\n      <th>광주</th>\n      <th>인천</th>\n      <th>대구</th>\n      <th>부산</th>\n      <th>서울</th>\n      <th>검역</th>\n      <th>합계</th>\n    </tr>\n  </thead>\n  <tbody>\n    <tr>\n      <th>0</th>\n      <td>2020-11-30</td>\n      <td>1</td>\n      <td>20</td>\n      <td>4</td>\n      <td>4</td>\n      <td>16</td>\n      <td>5</td>\n      <td>22</td>\n      <td>8</td>\n      <td>77</td>\n      <td>1</td>\n      <td>3</td>\n      <td>5</td>\n      <td>13</td>\n      <td>34</td>\n      <td>4</td>\n      <td>52</td>\n      <td>159</td>\n      <td>10</td>\n      <td>438</td>\n    </tr>\n    <tr>\n      <th>1</th>\n      <td>2020-12-01</td>\n      <td>1</td>\n      <td>11</td>\n      <td>11</td>\n      <td>2</td>\n      <td>9</td>\n      <td>16</td>\n      <td>32</td>\n      <td>9</td>\n      <td>96</td>\n      <td>2</td>\n      <td>3</td>\n      <td>10</td>\n      <td>22</td>\n      <td>16</td>\n      <td>11</td>\n      <td>31</td>\n      <td>155</td>\n      <td>14</td>\n      <td>451</td>\n    </tr>\n    <tr>\n      <th>2</th>\n      <td>2020-12-02</td>\n      <td>2</td>\n      <td>7</td>\n      <td>5</td>\n      <td>1</td>\n      <td>26</td>\n      <td>8</td>\n      <td>16</td>\n      <td>12</td>\n      <td>144</td>\n      <td>7</td>\n      <td>10</td>\n      <td>5</td>\n      <td>10</td>\n      <td>23</td>\n      <td>4</td>\n      <td>32</td>\n      <td>193</td>\n      <td>6</td>\n      <td>511</td>\n    </tr>\n    <tr>\n      <th>3</th>\n      <td>2020-12-03</td>\n      <td>1</td>\n      <td>13</td>\n      <td>11</td>\n      <td>2</td>\n      <td>9</td>\n      <td>14</td>\n      <td>10</td>\n      <td>8</td>\n      <td>141</td>\n      <td>4</td>\n      <td>2</td>\n      <td>7</td>\n      <td>3</td>\n      <td>22</td>\n      <td>3</td>\n      <td>15</td>\n      <td>262</td>\n      <td>13</td>\n      <td>540</td>\n    </tr>\n    <tr>\n      <th>4</th>\n      <td>2020-12-04</td>\n      <td>2</td>\n      <td>16</td>\n      <td>9</td>\n      <td>3</td>\n      <td>14</td>\n      <td>23</td>\n      <td>5</td>\n      <td>3</td>\n      <td>160</td>\n      <td>0</td>\n      <td>5</td>\n      <td>21</td>\n      <td>1</td>\n      <td>17</td>\n      <td>6</td>\n      <td>31</td>\n      <td>295</td>\n      <td>18</td>\n      <td>629</td>\n    </tr>\n    <tr>\n      <th>5</th>\n      <td>2020-12-05</td>\n      <td>1</td>\n      <td>27</td>\n      <td>17</td>\n      <td>4</td>\n      <td>17</td>\n      <td>10</td>\n      <td>18</td>\n      <td>9</td>\n      <td>157</td>\n      <td>4</td>\n      <td>1</td>\n      <td>10</td>\n      <td>6</td>\n      <td>19</td>\n      <td>7</td>\n      <td>29</td>\n      <td>235</td>\n      <td>12</td>\n      <td>583</td>\n    </tr>\n    <tr>\n      <th>6</th>\n      <td>2020-12-06</td>\n      <td>0</td>\n      <td>16</td>\n      <td>11</td>\n      <td>8</td>\n      <td>12</td>\n      <td>15</td>\n      <td>14</td>\n      <td>12</td>\n      <td>184</td>\n      <td>3</td>\n      <td>3</td>\n      <td>3</td>\n      <td>5</td>\n      <td>42</td>\n      <td>3</td>\n      <td>34</td>\n      <td>254</td>\n      <td>12</td>\n      <td>631</td>\n    </tr>\n    <tr>\n      <th>7</th>\n      <td>2020-12-07</td>\n      <td>0</td>\n      <td>16</td>\n      <td>9</td>\n      <td>3</td>\n      <td>22</td>\n      <td>10</td>\n      <td>11</td>\n      <td>9</td>\n      <td>156</td>\n      <td>0</td>\n      <td>38</td>\n      <td>2</td>\n      <td>5</td>\n      <td>40</td>\n      <td>5</td>\n      <td>35</td>\n      <td>244</td>\n      <td>10</td>\n      <td>615</td>\n    </tr>\n    <tr>\n      <th>8</th>\n      <td>2020-12-08</td>\n      <td>2</td>\n      <td>13</td>\n      <td>5</td>\n      <td>7</td>\n      <td>13</td>\n      <td>15</td>\n      <td>10</td>\n      <td>8</td>\n      <td>157</td>\n      <td>1</td>\n      <td>61</td>\n      <td>11</td>\n      <td>11</td>\n      <td>28</td>\n      <td>4</td>\n      <td>27</td>\n      <td>214</td>\n      <td>7</td>\n      <td>594</td>\n    </tr>\n    <tr>\n      <th>9</th>\n      <td>2020-12-09</td>\n      <td>2</td>\n      <td>31</td>\n      <td>4</td>\n      <td>2</td>\n      <td>12</td>\n      <td>4</td>\n      <td>24</td>\n      <td>5</td>\n      <td>218</td>\n      <td>1</td>\n      <td>14</td>\n      <td>10</td>\n      <td>9</td>\n      <td>48</td>\n      <td>3</td>\n      <td>20</td>\n      <td>270</td>\n      <td>9</td>\n      <td>686</td>\n    </tr>\n    <tr>\n      <th>10</th>\n      <td>2020-12-10</td>\n      <td>13</td>\n      <td>16</td>\n      <td>8</td>\n      <td>5</td>\n      <td>8</td>\n      <td>20</td>\n      <td>12</td>\n      <td>15</td>\n      <td>215</td>\n      <td>1</td>\n      <td>17</td>\n      <td>9</td>\n      <td>5</td>\n      <td>37</td>\n      <td>3</td>\n      <td>31</td>\n      <td>251</td>\n      <td>16</td>\n      <td>682</td>\n    </tr>\n    <tr>\n      <th>11</th>\n      <td>2020-12-11</td>\n      <td>5</td>\n      <td>12</td>\n      <td>3</td>\n      <td>4</td>\n      <td>7</td>\n      <td>10</td>\n      <td>20</td>\n      <td>11</td>\n      <td>229</td>\n      <td>0</td>\n      <td>47</td>\n      <td>10</td>\n      <td>3</td>\n      <td>37</td>\n      <td>6</td>\n      <td>26</td>\n      <td>252</td>\n      <td>7</td>\n      <td>689</td>\n    </tr>\n    <tr>\n      <th>12</th>\n      <td>2020-12-12</td>\n      <td>0</td>\n      <td>17</td>\n      <td>19</td>\n      <td>8</td>\n      <td>6</td>\n      <td>10</td>\n      <td>21</td>\n      <td>36</td>\n      <td>272</td>\n      <td>1</td>\n      <td>23</td>\n      <td>18</td>\n      <td>9</td>\n      <td>42</td>\n      <td>35</td>\n      <td>59</td>\n      <td>362</td>\n      <td>12</td>\n      <td>950</td>\n    </tr>\n    <tr>\n      <th>13</th>\n      <td>2020-12-13</td>\n      <td>3</td>\n      <td>24</td>\n      <td>18</td>\n      <td>6</td>\n      <td>9</td>\n      <td>10</td>\n      <td>15</td>\n      <td>18</td>\n      <td>331</td>\n      <td>0</td>\n      <td>8</td>\n      <td>13</td>\n      <td>15</td>\n      <td>62</td>\n      <td>28</td>\n      <td>57</td>\n      <td>399</td>\n      <td>14</td>\n      <td>1030</td>\n    </tr>\n    <tr>\n      <th>14</th>\n      <td>2020-12-14</td>\n      <td>8</td>\n      <td>28</td>\n      <td>16</td>\n      <td>1</td>\n      <td>8</td>\n      <td>55</td>\n      <td>21</td>\n      <td>14</td>\n      <td>226</td>\n      <td>3</td>\n      <td>5</td>\n      <td>2</td>\n      <td>22</td>\n      <td>36</td>\n      <td>16</td>\n      <td>21</td>\n      <td>219</td>\n      <td>17</td>\n      <td>718</td>\n    </tr>\n    <tr>\n      <th>15</th>\n      <td>2020-12-15</td>\n      <td>9</td>\n      <td>16</td>\n      <td>15</td>\n      <td>1</td>\n      <td>15</td>\n      <td>37</td>\n      <td>25</td>\n      <td>13</td>\n      <td>288</td>\n      <td>1</td>\n      <td>49</td>\n      <td>32</td>\n      <td>5</td>\n      <td>55</td>\n      <td>19</td>\n      <td>41</td>\n      <td>251</td>\n      <td>8</td>\n      <td>880</td>\n    </tr>\n    <tr>\n      <th>16</th>\n      <td>2020-12-16</td>\n      <td>15</td>\n      <td>19</td>\n      <td>28</td>\n      <td>4</td>\n      <td>75</td>\n      <td>35</td>\n      <td>23</td>\n      <td>8</td>\n      <td>329</td>\n      <td>0</td>\n      <td>6</td>\n      <td>15</td>\n      <td>2</td>\n      <td>67</td>\n      <td>27</td>\n      <td>41</td>\n      <td>378</td>\n      <td>6</td>\n      <td>1078</td>\n    </tr>\n    <tr>\n      <th>17</th>\n      <td>2020-12-17</td>\n      <td>12</td>\n      <td>30</td>\n      <td>9</td>\n      <td>0</td>\n      <td>19</td>\n      <td>19</td>\n      <td>19</td>\n      <td>9</td>\n      <td>291</td>\n      <td>0</td>\n      <td>10</td>\n      <td>11</td>\n      <td>10</td>\n      <td>80</td>\n      <td>21</td>\n      <td>44</td>\n      <td>423</td>\n      <td>7</td>\n      <td>1014</td>\n    </tr>\n    <tr>\n      <th>18</th>\n      <td>2020-12-18</td>\n      <td>27</td>\n      <td>44</td>\n      <td>31</td>\n      <td>5</td>\n      <td>16</td>\n      <td>18</td>\n      <td>31</td>\n      <td>18</td>\n      <td>304</td>\n      <td>0</td>\n      <td>31</td>\n      <td>5</td>\n      <td>4</td>\n      <td>64</td>\n      <td>20</td>\n      <td>39</td>\n      <td>398</td>\n      <td>9</td>\n      <td>1062</td>\n    </tr>\n    <tr>\n      <th>19</th>\n      <td>2020-12-19</td>\n      <td>24</td>\n      <td>32</td>\n      <td>29</td>\n      <td>5</td>\n      <td>15</td>\n      <td>24</td>\n      <td>103</td>\n      <td>27</td>\n      <td>278</td>\n      <td>0</td>\n      <td>9</td>\n      <td>5</td>\n      <td>9</td>\n      <td>46</td>\n      <td>20</td>\n      <td>39</td>\n      <td>384</td>\n      <td>4</td>\n      <td>1053</td>\n    </tr>\n    <tr>\n      <th>20</th>\n      <td>2020-12-20</td>\n      <td>24</td>\n      <td>51</td>\n      <td>25</td>\n      <td>4</td>\n      <td>29</td>\n      <td>20</td>\n      <td>14</td>\n      <td>55</td>\n      <td>249</td>\n      <td>1</td>\n      <td>6</td>\n      <td>3</td>\n      <td>14</td>\n      <td>62</td>\n      <td>25</td>\n      <td>33</td>\n      <td>473</td>\n      <td>9</td>\n      <td>1097</td>\n    </tr>\n    <tr>\n      <th>21</th>\n      <td>2020-12-21</td>\n      <td>23</td>\n      <td>15</td>\n      <td>48</td>\n      <td>9</td>\n      <td>13</td>\n      <td>16</td>\n      <td>33</td>\n      <td>25</td>\n      <td>244</td>\n      <td>0</td>\n      <td>17</td>\n      <td>3</td>\n      <td>13</td>\n      <td>88</td>\n      <td>21</td>\n      <td>20</td>\n      <td>328</td>\n      <td>10</td>\n      <td>926</td>\n    </tr>\n    <tr>\n      <th>22</th>\n      <td>2020-12-22</td>\n      <td>19</td>\n      <td>18</td>\n      <td>59</td>\n      <td>5</td>\n      <td>4</td>\n      <td>17</td>\n      <td>31</td>\n      <td>23</td>\n      <td>206</td>\n      <td>1</td>\n      <td>6</td>\n      <td>9</td>\n      <td>26</td>\n      <td>45</td>\n      <td>39</td>\n      <td>26</td>\n      <td>317</td>\n      <td>18</td>\n      <td>869</td>\n    </tr>\n  </tbody>\n</table>\n</div>"
     },
     "metadata": {},
     "execution_count": 82
    }
   ],
   "source": [
    "# 1page만 해보기\n",
    "dict_list=[]\n",
    "day_delta = datetime.timedelta(days=1)\n",
    "a1 = '2020-11-30'\n",
    "b1 = '2020-12-23'\n",
    "start = datetime.datetime.strptime(a1, '%Y-%m-%d')\n",
    "end = datetime.datetime.strptime(b1, '%Y-%m-%d')\n",
    "for i in tqdm_notebook(range((end - start).days)):\n",
    "    date = (start + i*day_delta)\n",
    "    raw_dict = {'날짜': date,'제주':0, '경남':0,'경북':0,'전남':0,'전북':0,'충남':0,'충북':0,'강원':0,'경기':0,'세종':0,'울산':0,'대전':0,'광주':0,'인천':0,'대구':0,'부산':0,'서울':0}\n",
    "    start_date = date.strftime('%Y%m%d')\n",
    "    end_date = date.strftime('%Y%m%d')\n",
    "    page = 1\n",
    "    corona_url = 'http://openapi.data.go.kr/openapi/service/rest/Covid19/getCovid19SidoInfStateJson'\n",
    "    url = f'{corona_url}?ServiceKey={govapi_key}&pageNo={page}&numOfRows=10&startCreateDt={start_date}&endCreateDt={end_date}'\n",
    "    result = requests.get(url)\n",
    "    soup = BeautifulSoup(result.text,'xml')\n",
    "    items = soup.find_all('item')\n",
    "    for k in range(len(items)):\n",
    "        raw_dict[items[k].find('gubun').get_text()] = int(items[k].find('incDec').get_text())\n",
    "    dict_list.append(raw_dict)\n",
    "df_corona = pd.DataFrame(dict_list)\n",
    "df_corona"
   ]
  },
  {
   "cell_type": "code",
   "execution_count": 83,
   "metadata": {},
   "outputs": [],
   "source": [
    "del df_corona['검역']\n",
    "df_corona.fillna(0,inplace=True)"
   ]
  },
  {
   "cell_type": "code",
   "execution_count": 84,
   "metadata": {},
   "outputs": [
    {
     "output_type": "execute_result",
     "data": {
      "text/plain": [
       "           날짜  제주  경남  경북  전남  전북  충남   충북  강원   경기  세종  울산  대전  광주  인천  대구  \\\n",
       "0  2020-11-30   1  20   4   4  16   5   22   8   77   1   3   5  13  34   4   \n",
       "1  2020-12-01   1  11  11   2   9  16   32   9   96   2   3  10  22  16  11   \n",
       "2  2020-12-02   2   7   5   1  26   8   16  12  144   7  10   5  10  23   4   \n",
       "3  2020-12-03   1  13  11   2   9  14   10   8  141   4   2   7   3  22   3   \n",
       "4  2020-12-04   2  16   9   3  14  23    5   3  160   0   5  21   1  17   6   \n",
       "5  2020-12-05   1  27  17   4  17  10   18   9  157   4   1  10   6  19   7   \n",
       "6  2020-12-06   0  16  11   8  12  15   14  12  184   3   3   3   5  42   3   \n",
       "7  2020-12-07   0  16   9   3  22  10   11   9  156   0  38   2   5  40   5   \n",
       "8  2020-12-08   2  13   5   7  13  15   10   8  157   1  61  11  11  28   4   \n",
       "9  2020-12-09   2  31   4   2  12   4   24   5  218   1  14  10   9  48   3   \n",
       "10 2020-12-10  13  16   8   5   8  20   12  15  215   1  17   9   5  37   3   \n",
       "11 2020-12-11   5  12   3   4   7  10   20  11  229   0  47  10   3  37   6   \n",
       "12 2020-12-12   0  17  19   8   6  10   21  36  272   1  23  18   9  42  35   \n",
       "13 2020-12-13   3  24  18   6   9  10   15  18  331   0   8  13  15  62  28   \n",
       "14 2020-12-14   8  28  16   1   8  55   21  14  226   3   5   2  22  36  16   \n",
       "15 2020-12-15   9  16  15   1  15  37   25  13  288   1  49  32   5  55  19   \n",
       "16 2020-12-16  15  19  28   4  75  35   23   8  329   0   6  15   2  67  27   \n",
       "17 2020-12-17  12  30   9   0  19  19   19   9  291   0  10  11  10  80  21   \n",
       "18 2020-12-18  27  44  31   5  16  18   31  18  304   0  31   5   4  64  20   \n",
       "19 2020-12-19  24  32  29   5  15  24  103  27  278   0   9   5   9  46  20   \n",
       "20 2020-12-20  24  51  25   4  29  20   14  55  249   1   6   3  14  62  25   \n",
       "21 2020-12-21  23  15  48   9  13  16   33  25  244   0  17   3  13  88  21   \n",
       "22 2020-12-22  19  18  59   5   4  17   31  23  206   1   6   9  26  45  39   \n",
       "\n",
       "    부산   서울    합계  \n",
       "0   52  159   438  \n",
       "1   31  155   451  \n",
       "2   32  193   511  \n",
       "3   15  262   540  \n",
       "4   31  295   629  \n",
       "5   29  235   583  \n",
       "6   34  254   631  \n",
       "7   35  244   615  \n",
       "8   27  214   594  \n",
       "9   20  270   686  \n",
       "10  31  251   682  \n",
       "11  26  252   689  \n",
       "12  59  362   950  \n",
       "13  57  399  1030  \n",
       "14  21  219   718  \n",
       "15  41  251   880  \n",
       "16  41  378  1078  \n",
       "17  44  423  1014  \n",
       "18  39  398  1062  \n",
       "19  39  384  1053  \n",
       "20  33  473  1097  \n",
       "21  20  328   926  \n",
       "22  26  317   869  "
      ],
      "text/html": "<div>\n<style scoped>\n    .dataframe tbody tr th:only-of-type {\n        vertical-align: middle;\n    }\n\n    .dataframe tbody tr th {\n        vertical-align: top;\n    }\n\n    .dataframe thead th {\n        text-align: right;\n    }\n</style>\n<table border=\"1\" class=\"dataframe\">\n  <thead>\n    <tr style=\"text-align: right;\">\n      <th></th>\n      <th>날짜</th>\n      <th>제주</th>\n      <th>경남</th>\n      <th>경북</th>\n      <th>전남</th>\n      <th>전북</th>\n      <th>충남</th>\n      <th>충북</th>\n      <th>강원</th>\n      <th>경기</th>\n      <th>세종</th>\n      <th>울산</th>\n      <th>대전</th>\n      <th>광주</th>\n      <th>인천</th>\n      <th>대구</th>\n      <th>부산</th>\n      <th>서울</th>\n      <th>합계</th>\n    </tr>\n  </thead>\n  <tbody>\n    <tr>\n      <th>0</th>\n      <td>2020-11-30</td>\n      <td>1</td>\n      <td>20</td>\n      <td>4</td>\n      <td>4</td>\n      <td>16</td>\n      <td>5</td>\n      <td>22</td>\n      <td>8</td>\n      <td>77</td>\n      <td>1</td>\n      <td>3</td>\n      <td>5</td>\n      <td>13</td>\n      <td>34</td>\n      <td>4</td>\n      <td>52</td>\n      <td>159</td>\n      <td>438</td>\n    </tr>\n    <tr>\n      <th>1</th>\n      <td>2020-12-01</td>\n      <td>1</td>\n      <td>11</td>\n      <td>11</td>\n      <td>2</td>\n      <td>9</td>\n      <td>16</td>\n      <td>32</td>\n      <td>9</td>\n      <td>96</td>\n      <td>2</td>\n      <td>3</td>\n      <td>10</td>\n      <td>22</td>\n      <td>16</td>\n      <td>11</td>\n      <td>31</td>\n      <td>155</td>\n      <td>451</td>\n    </tr>\n    <tr>\n      <th>2</th>\n      <td>2020-12-02</td>\n      <td>2</td>\n      <td>7</td>\n      <td>5</td>\n      <td>1</td>\n      <td>26</td>\n      <td>8</td>\n      <td>16</td>\n      <td>12</td>\n      <td>144</td>\n      <td>7</td>\n      <td>10</td>\n      <td>5</td>\n      <td>10</td>\n      <td>23</td>\n      <td>4</td>\n      <td>32</td>\n      <td>193</td>\n      <td>511</td>\n    </tr>\n    <tr>\n      <th>3</th>\n      <td>2020-12-03</td>\n      <td>1</td>\n      <td>13</td>\n      <td>11</td>\n      <td>2</td>\n      <td>9</td>\n      <td>14</td>\n      <td>10</td>\n      <td>8</td>\n      <td>141</td>\n      <td>4</td>\n      <td>2</td>\n      <td>7</td>\n      <td>3</td>\n      <td>22</td>\n      <td>3</td>\n      <td>15</td>\n      <td>262</td>\n      <td>540</td>\n    </tr>\n    <tr>\n      <th>4</th>\n      <td>2020-12-04</td>\n      <td>2</td>\n      <td>16</td>\n      <td>9</td>\n      <td>3</td>\n      <td>14</td>\n      <td>23</td>\n      <td>5</td>\n      <td>3</td>\n      <td>160</td>\n      <td>0</td>\n      <td>5</td>\n      <td>21</td>\n      <td>1</td>\n      <td>17</td>\n      <td>6</td>\n      <td>31</td>\n      <td>295</td>\n      <td>629</td>\n    </tr>\n    <tr>\n      <th>5</th>\n      <td>2020-12-05</td>\n      <td>1</td>\n      <td>27</td>\n      <td>17</td>\n      <td>4</td>\n      <td>17</td>\n      <td>10</td>\n      <td>18</td>\n      <td>9</td>\n      <td>157</td>\n      <td>4</td>\n      <td>1</td>\n      <td>10</td>\n      <td>6</td>\n      <td>19</td>\n      <td>7</td>\n      <td>29</td>\n      <td>235</td>\n      <td>583</td>\n    </tr>\n    <tr>\n      <th>6</th>\n      <td>2020-12-06</td>\n      <td>0</td>\n      <td>16</td>\n      <td>11</td>\n      <td>8</td>\n      <td>12</td>\n      <td>15</td>\n      <td>14</td>\n      <td>12</td>\n      <td>184</td>\n      <td>3</td>\n      <td>3</td>\n      <td>3</td>\n      <td>5</td>\n      <td>42</td>\n      <td>3</td>\n      <td>34</td>\n      <td>254</td>\n      <td>631</td>\n    </tr>\n    <tr>\n      <th>7</th>\n      <td>2020-12-07</td>\n      <td>0</td>\n      <td>16</td>\n      <td>9</td>\n      <td>3</td>\n      <td>22</td>\n      <td>10</td>\n      <td>11</td>\n      <td>9</td>\n      <td>156</td>\n      <td>0</td>\n      <td>38</td>\n      <td>2</td>\n      <td>5</td>\n      <td>40</td>\n      <td>5</td>\n      <td>35</td>\n      <td>244</td>\n      <td>615</td>\n    </tr>\n    <tr>\n      <th>8</th>\n      <td>2020-12-08</td>\n      <td>2</td>\n      <td>13</td>\n      <td>5</td>\n      <td>7</td>\n      <td>13</td>\n      <td>15</td>\n      <td>10</td>\n      <td>8</td>\n      <td>157</td>\n      <td>1</td>\n      <td>61</td>\n      <td>11</td>\n      <td>11</td>\n      <td>28</td>\n      <td>4</td>\n      <td>27</td>\n      <td>214</td>\n      <td>594</td>\n    </tr>\n    <tr>\n      <th>9</th>\n      <td>2020-12-09</td>\n      <td>2</td>\n      <td>31</td>\n      <td>4</td>\n      <td>2</td>\n      <td>12</td>\n      <td>4</td>\n      <td>24</td>\n      <td>5</td>\n      <td>218</td>\n      <td>1</td>\n      <td>14</td>\n      <td>10</td>\n      <td>9</td>\n      <td>48</td>\n      <td>3</td>\n      <td>20</td>\n      <td>270</td>\n      <td>686</td>\n    </tr>\n    <tr>\n      <th>10</th>\n      <td>2020-12-10</td>\n      <td>13</td>\n      <td>16</td>\n      <td>8</td>\n      <td>5</td>\n      <td>8</td>\n      <td>20</td>\n      <td>12</td>\n      <td>15</td>\n      <td>215</td>\n      <td>1</td>\n      <td>17</td>\n      <td>9</td>\n      <td>5</td>\n      <td>37</td>\n      <td>3</td>\n      <td>31</td>\n      <td>251</td>\n      <td>682</td>\n    </tr>\n    <tr>\n      <th>11</th>\n      <td>2020-12-11</td>\n      <td>5</td>\n      <td>12</td>\n      <td>3</td>\n      <td>4</td>\n      <td>7</td>\n      <td>10</td>\n      <td>20</td>\n      <td>11</td>\n      <td>229</td>\n      <td>0</td>\n      <td>47</td>\n      <td>10</td>\n      <td>3</td>\n      <td>37</td>\n      <td>6</td>\n      <td>26</td>\n      <td>252</td>\n      <td>689</td>\n    </tr>\n    <tr>\n      <th>12</th>\n      <td>2020-12-12</td>\n      <td>0</td>\n      <td>17</td>\n      <td>19</td>\n      <td>8</td>\n      <td>6</td>\n      <td>10</td>\n      <td>21</td>\n      <td>36</td>\n      <td>272</td>\n      <td>1</td>\n      <td>23</td>\n      <td>18</td>\n      <td>9</td>\n      <td>42</td>\n      <td>35</td>\n      <td>59</td>\n      <td>362</td>\n      <td>950</td>\n    </tr>\n    <tr>\n      <th>13</th>\n      <td>2020-12-13</td>\n      <td>3</td>\n      <td>24</td>\n      <td>18</td>\n      <td>6</td>\n      <td>9</td>\n      <td>10</td>\n      <td>15</td>\n      <td>18</td>\n      <td>331</td>\n      <td>0</td>\n      <td>8</td>\n      <td>13</td>\n      <td>15</td>\n      <td>62</td>\n      <td>28</td>\n      <td>57</td>\n      <td>399</td>\n      <td>1030</td>\n    </tr>\n    <tr>\n      <th>14</th>\n      <td>2020-12-14</td>\n      <td>8</td>\n      <td>28</td>\n      <td>16</td>\n      <td>1</td>\n      <td>8</td>\n      <td>55</td>\n      <td>21</td>\n      <td>14</td>\n      <td>226</td>\n      <td>3</td>\n      <td>5</td>\n      <td>2</td>\n      <td>22</td>\n      <td>36</td>\n      <td>16</td>\n      <td>21</td>\n      <td>219</td>\n      <td>718</td>\n    </tr>\n    <tr>\n      <th>15</th>\n      <td>2020-12-15</td>\n      <td>9</td>\n      <td>16</td>\n      <td>15</td>\n      <td>1</td>\n      <td>15</td>\n      <td>37</td>\n      <td>25</td>\n      <td>13</td>\n      <td>288</td>\n      <td>1</td>\n      <td>49</td>\n      <td>32</td>\n      <td>5</td>\n      <td>55</td>\n      <td>19</td>\n      <td>41</td>\n      <td>251</td>\n      <td>880</td>\n    </tr>\n    <tr>\n      <th>16</th>\n      <td>2020-12-16</td>\n      <td>15</td>\n      <td>19</td>\n      <td>28</td>\n      <td>4</td>\n      <td>75</td>\n      <td>35</td>\n      <td>23</td>\n      <td>8</td>\n      <td>329</td>\n      <td>0</td>\n      <td>6</td>\n      <td>15</td>\n      <td>2</td>\n      <td>67</td>\n      <td>27</td>\n      <td>41</td>\n      <td>378</td>\n      <td>1078</td>\n    </tr>\n    <tr>\n      <th>17</th>\n      <td>2020-12-17</td>\n      <td>12</td>\n      <td>30</td>\n      <td>9</td>\n      <td>0</td>\n      <td>19</td>\n      <td>19</td>\n      <td>19</td>\n      <td>9</td>\n      <td>291</td>\n      <td>0</td>\n      <td>10</td>\n      <td>11</td>\n      <td>10</td>\n      <td>80</td>\n      <td>21</td>\n      <td>44</td>\n      <td>423</td>\n      <td>1014</td>\n    </tr>\n    <tr>\n      <th>18</th>\n      <td>2020-12-18</td>\n      <td>27</td>\n      <td>44</td>\n      <td>31</td>\n      <td>5</td>\n      <td>16</td>\n      <td>18</td>\n      <td>31</td>\n      <td>18</td>\n      <td>304</td>\n      <td>0</td>\n      <td>31</td>\n      <td>5</td>\n      <td>4</td>\n      <td>64</td>\n      <td>20</td>\n      <td>39</td>\n      <td>398</td>\n      <td>1062</td>\n    </tr>\n    <tr>\n      <th>19</th>\n      <td>2020-12-19</td>\n      <td>24</td>\n      <td>32</td>\n      <td>29</td>\n      <td>5</td>\n      <td>15</td>\n      <td>24</td>\n      <td>103</td>\n      <td>27</td>\n      <td>278</td>\n      <td>0</td>\n      <td>9</td>\n      <td>5</td>\n      <td>9</td>\n      <td>46</td>\n      <td>20</td>\n      <td>39</td>\n      <td>384</td>\n      <td>1053</td>\n    </tr>\n    <tr>\n      <th>20</th>\n      <td>2020-12-20</td>\n      <td>24</td>\n      <td>51</td>\n      <td>25</td>\n      <td>4</td>\n      <td>29</td>\n      <td>20</td>\n      <td>14</td>\n      <td>55</td>\n      <td>249</td>\n      <td>1</td>\n      <td>6</td>\n      <td>3</td>\n      <td>14</td>\n      <td>62</td>\n      <td>25</td>\n      <td>33</td>\n      <td>473</td>\n      <td>1097</td>\n    </tr>\n    <tr>\n      <th>21</th>\n      <td>2020-12-21</td>\n      <td>23</td>\n      <td>15</td>\n      <td>48</td>\n      <td>9</td>\n      <td>13</td>\n      <td>16</td>\n      <td>33</td>\n      <td>25</td>\n      <td>244</td>\n      <td>0</td>\n      <td>17</td>\n      <td>3</td>\n      <td>13</td>\n      <td>88</td>\n      <td>21</td>\n      <td>20</td>\n      <td>328</td>\n      <td>926</td>\n    </tr>\n    <tr>\n      <th>22</th>\n      <td>2020-12-22</td>\n      <td>19</td>\n      <td>18</td>\n      <td>59</td>\n      <td>5</td>\n      <td>4</td>\n      <td>17</td>\n      <td>31</td>\n      <td>23</td>\n      <td>206</td>\n      <td>1</td>\n      <td>6</td>\n      <td>9</td>\n      <td>26</td>\n      <td>45</td>\n      <td>39</td>\n      <td>26</td>\n      <td>317</td>\n      <td>869</td>\n    </tr>\n  </tbody>\n</table>\n</div>"
     },
     "metadata": {},
     "execution_count": 84
    }
   ],
   "source": [
    "df_corona"
   ]
  },
  {
   "cell_type": "code",
   "execution_count": 85,
   "metadata": {},
   "outputs": [],
   "source": [
    "df_corona = df_corona.astype({'날짜':'str'})"
   ]
  },
  {
   "cell_type": "code",
   "execution_count": 86,
   "metadata": {},
   "outputs": [
    {
     "output_type": "stream",
     "name": "stdout",
     "text": [
      "<class 'pandas.core.frame.DataFrame'>\nRangeIndex: 23 entries, 0 to 22\nData columns (total 19 columns):\n #   Column  Non-Null Count  Dtype \n---  ------  --------------  ----- \n 0   날짜      23 non-null     object\n 1   제주      23 non-null     int64 \n 2   경남      23 non-null     int64 \n 3   경북      23 non-null     int64 \n 4   전남      23 non-null     int64 \n 5   전북      23 non-null     int64 \n 6   충남      23 non-null     int64 \n 7   충북      23 non-null     int64 \n 8   강원      23 non-null     int64 \n 9   경기      23 non-null     int64 \n 10  세종      23 non-null     int64 \n 11  울산      23 non-null     int64 \n 12  대전      23 non-null     int64 \n 13  광주      23 non-null     int64 \n 14  인천      23 non-null     int64 \n 15  대구      23 non-null     int64 \n 16  부산      23 non-null     int64 \n 17  서울      23 non-null     int64 \n 18  합계      23 non-null     int64 \ndtypes: int64(18), object(1)\nmemory usage: 3.5+ KB\n"
     ]
    }
   ],
   "source": [
    "df_corona.info()"
   ]
  },
  {
   "cell_type": "code",
   "execution_count": 87,
   "metadata": {},
   "outputs": [],
   "source": [
    "# 오늘까지 데이터 DB에 넣기\n",
    "sql_insert = 'insert into region values(?,?,?,?,?,?,?,?,?,?,?,?,?,?,?,?,?,?,?)'\n",
    "for i in range(len(df_corona)):\n",
    "    params = [df_corona.iloc[i,0]]\n",
    "    for k in range(1,19):\n",
    "        params.append(int(df_corona.iloc[i,k]))\n",
    "    cur.execute(sql_insert, params)\n",
    "    conn.commit()"
   ]
  },
  {
   "cell_type": "code",
   "execution_count": 109,
   "metadata": {},
   "outputs": [
    {
     "output_type": "execute_result",
     "data": {
      "text/plain": [
       "         구분   확진자    확진률  사망자    사망률    치명률        등록일자\n",
       "0       0-9  1684   3.33    0   0.00   0.00  2020-12-21\n",
       "1     10-19  3150   6.23    0   0.00   0.00  2020-12-21\n",
       "2     20-29  8552  16.90    0   0.00   0.00  2020-12-21\n",
       "3     30-39  6414  12.68    3   0.43   0.05  2020-12-21\n",
       "4     40-49  7099  14.03    6   0.86   0.08  2020-12-21\n",
       "...     ...   ...    ...  ...    ...    ...         ...\n",
       "2823  60-69  1235  12.62   22  13.58   1.78  2020-04-02\n",
       "2824  70-79   651   6.65   46  28.40   7.07  2020-04-02\n",
       "2825  80 이상   442   4.52   82  50.62  18.55  2020-04-02\n",
       "2826     여성  5881  60.10   80  49.38   1.36  2020-04-02\n",
       "2827     남성  3905  39.90   82  50.62   2.10  2020-04-02\n",
       "\n",
       "[2828 rows x 7 columns]"
      ],
      "text/html": "<div>\n<style scoped>\n    .dataframe tbody tr th:only-of-type {\n        vertical-align: middle;\n    }\n\n    .dataframe tbody tr th {\n        vertical-align: top;\n    }\n\n    .dataframe thead th {\n        text-align: right;\n    }\n</style>\n<table border=\"1\" class=\"dataframe\">\n  <thead>\n    <tr style=\"text-align: right;\">\n      <th></th>\n      <th>구분</th>\n      <th>확진자</th>\n      <th>확진률</th>\n      <th>사망자</th>\n      <th>사망률</th>\n      <th>치명률</th>\n      <th>등록일자</th>\n    </tr>\n  </thead>\n  <tbody>\n    <tr>\n      <th>0</th>\n      <td>0-9</td>\n      <td>1684</td>\n      <td>3.33</td>\n      <td>0</td>\n      <td>0.00</td>\n      <td>0.00</td>\n      <td>2020-12-21</td>\n    </tr>\n    <tr>\n      <th>1</th>\n      <td>10-19</td>\n      <td>3150</td>\n      <td>6.23</td>\n      <td>0</td>\n      <td>0.00</td>\n      <td>0.00</td>\n      <td>2020-12-21</td>\n    </tr>\n    <tr>\n      <th>2</th>\n      <td>20-29</td>\n      <td>8552</td>\n      <td>16.90</td>\n      <td>0</td>\n      <td>0.00</td>\n      <td>0.00</td>\n      <td>2020-12-21</td>\n    </tr>\n    <tr>\n      <th>3</th>\n      <td>30-39</td>\n      <td>6414</td>\n      <td>12.68</td>\n      <td>3</td>\n      <td>0.43</td>\n      <td>0.05</td>\n      <td>2020-12-21</td>\n    </tr>\n    <tr>\n      <th>4</th>\n      <td>40-49</td>\n      <td>7099</td>\n      <td>14.03</td>\n      <td>6</td>\n      <td>0.86</td>\n      <td>0.08</td>\n      <td>2020-12-21</td>\n    </tr>\n    <tr>\n      <th>...</th>\n      <td>...</td>\n      <td>...</td>\n      <td>...</td>\n      <td>...</td>\n      <td>...</td>\n      <td>...</td>\n      <td>...</td>\n    </tr>\n    <tr>\n      <th>2823</th>\n      <td>60-69</td>\n      <td>1235</td>\n      <td>12.62</td>\n      <td>22</td>\n      <td>13.58</td>\n      <td>1.78</td>\n      <td>2020-04-02</td>\n    </tr>\n    <tr>\n      <th>2824</th>\n      <td>70-79</td>\n      <td>651</td>\n      <td>6.65</td>\n      <td>46</td>\n      <td>28.40</td>\n      <td>7.07</td>\n      <td>2020-04-02</td>\n    </tr>\n    <tr>\n      <th>2825</th>\n      <td>80 이상</td>\n      <td>442</td>\n      <td>4.52</td>\n      <td>82</td>\n      <td>50.62</td>\n      <td>18.55</td>\n      <td>2020-04-02</td>\n    </tr>\n    <tr>\n      <th>2826</th>\n      <td>여성</td>\n      <td>5881</td>\n      <td>60.10</td>\n      <td>80</td>\n      <td>49.38</td>\n      <td>1.36</td>\n      <td>2020-04-02</td>\n    </tr>\n    <tr>\n      <th>2827</th>\n      <td>남성</td>\n      <td>3905</td>\n      <td>39.90</td>\n      <td>82</td>\n      <td>50.62</td>\n      <td>2.10</td>\n      <td>2020-04-02</td>\n    </tr>\n  </tbody>\n</table>\n<p>2828 rows × 7 columns</p>\n</div>"
     },
     "metadata": {},
     "execution_count": 109
    }
   ],
   "source": [
    "corona_gender = pd.read_csv('../static/data/agender_covid.csv')\n",
    "corona_gender"
   ]
  },
  {
   "cell_type": "code",
   "execution_count": 110,
   "metadata": {},
   "outputs": [
    {
     "output_type": "stream",
     "name": "stdout",
     "text": [
      "<class 'pandas.core.frame.DataFrame'>\nRangeIndex: 2828 entries, 0 to 2827\nData columns (total 7 columns):\n #   Column  Non-Null Count  Dtype  \n---  ------  --------------  -----  \n 0   구분      2828 non-null   object \n 1   확진자     2828 non-null   int64  \n 2   확진률     2828 non-null   float64\n 3   사망자     2828 non-null   int64  \n 4   사망률     2828 non-null   float64\n 5   치명률     2828 non-null   float64\n 6   등록일자    2828 non-null   object \ndtypes: float64(3), int64(2), object(2)\nmemory usage: 154.8+ KB\n"
     ]
    }
   ],
   "source": [
    "corona_gender.info()"
   ]
  },
  {
   "cell_type": "code",
   "execution_count": 111,
   "metadata": {},
   "outputs": [],
   "source": [
    "d = dict.fromkeys(corona_gender.select_dtypes(np.int64).columns, str)\n",
    "corona_gender = corona_gender.astype(d)"
   ]
  },
  {
   "cell_type": "code",
   "execution_count": 112,
   "metadata": {},
   "outputs": [
    {
     "output_type": "stream",
     "name": "stdout",
     "text": [
      "<class 'pandas.core.frame.DataFrame'>\nRangeIndex: 2828 entries, 0 to 2827\nData columns (total 7 columns):\n #   Column  Non-Null Count  Dtype  \n---  ------  --------------  -----  \n 0   구분      2828 non-null   object \n 1   확진자     2828 non-null   object \n 2   확진률     2828 non-null   float64\n 3   사망자     2828 non-null   object \n 4   사망률     2828 non-null   float64\n 5   치명률     2828 non-null   float64\n 6   등록일자    2828 non-null   object \ndtypes: float64(3), object(4)\nmemory usage: 154.8+ KB\n"
     ]
    }
   ],
   "source": [
    "corona_gender.info()"
   ]
  },
  {
   "cell_type": "code",
   "execution_count": 107,
   "metadata": {},
   "outputs": [],
   "source": [
    "sql_delete = \"drop table agender\"\n",
    "cur.execute(sql_delete)\n",
    "conn.commit()"
   ]
  },
  {
   "cell_type": "code",
   "execution_count": 108,
   "metadata": {},
   "outputs": [],
   "source": [
    "sql_create = '''\n",
    "create table agender (\n",
    "gubun text not null, confCase integer default 0, confCaseRate float default 0,\n",
    "death integer default 0, deathRate float default 0, criticalRate float default 0,\n",
    "createDt text not null);'''\n",
    "cur.execute(sql_create)\n",
    "conn.commit()"
   ]
  },
  {
   "cell_type": "code",
   "execution_count": 113,
   "metadata": {
    "tags": []
   },
   "outputs": [],
   "source": [
    "sql_insert = 'insert into agender(createDt,gubun,confCase,confCaseRate,death,deathRate,criticalRate) values(?,?,?,?,?,?,?)'\n",
    "for i in range(len(corona_gender)):\n",
    "    params = [corona_gender.iloc[i,-1],corona_gender.iloc[i,0]]\n",
    "    for k in range(1,6):\n",
    "        params.append(corona_gender.iloc[i,k])\n",
    "    cur.execute(sql_insert, params)\n",
    "    conn.commit()"
   ]
  },
  {
   "cell_type": "code",
   "execution_count": 173,
   "metadata": {},
   "outputs": [
    {
     "output_type": "execute_result",
     "data": {
      "text/plain": [
       "         기준시간 광역시도  사망자   확진자  전일대비  격리해제  격리중  지역발생  해외유입  10만명당\n",
       "0  2020-12-22   검역    1  2361    18  1658  702     0    18      -\n",
       "1  2020-12-22   제주    0   271    19   103  168    19     0  40.40\n",
       "2  2020-12-22   경남    3  1095    18   768  324    18     0  32.58\n",
       "3  2020-12-22   경북   61  2094    59  1721  312    58     1  78.65\n",
       "4  2020-12-22   전남    5   513     5   425   83     4     1  27.51"
      ],
      "text/html": "<div>\n<style scoped>\n    .dataframe tbody tr th:only-of-type {\n        vertical-align: middle;\n    }\n\n    .dataframe tbody tr th {\n        vertical-align: top;\n    }\n\n    .dataframe thead th {\n        text-align: right;\n    }\n</style>\n<table border=\"1\" class=\"dataframe\">\n  <thead>\n    <tr style=\"text-align: right;\">\n      <th></th>\n      <th>기준시간</th>\n      <th>광역시도</th>\n      <th>사망자</th>\n      <th>확진자</th>\n      <th>전일대비</th>\n      <th>격리해제</th>\n      <th>격리중</th>\n      <th>지역발생</th>\n      <th>해외유입</th>\n      <th>10만명당</th>\n    </tr>\n  </thead>\n  <tbody>\n    <tr>\n      <th>0</th>\n      <td>2020-12-22</td>\n      <td>검역</td>\n      <td>1</td>\n      <td>2361</td>\n      <td>18</td>\n      <td>1658</td>\n      <td>702</td>\n      <td>0</td>\n      <td>18</td>\n      <td>-</td>\n    </tr>\n    <tr>\n      <th>1</th>\n      <td>2020-12-22</td>\n      <td>제주</td>\n      <td>0</td>\n      <td>271</td>\n      <td>19</td>\n      <td>103</td>\n      <td>168</td>\n      <td>19</td>\n      <td>0</td>\n      <td>40.40</td>\n    </tr>\n    <tr>\n      <th>2</th>\n      <td>2020-12-22</td>\n      <td>경남</td>\n      <td>3</td>\n      <td>1095</td>\n      <td>18</td>\n      <td>768</td>\n      <td>324</td>\n      <td>18</td>\n      <td>0</td>\n      <td>32.58</td>\n    </tr>\n    <tr>\n      <th>3</th>\n      <td>2020-12-22</td>\n      <td>경북</td>\n      <td>61</td>\n      <td>2094</td>\n      <td>59</td>\n      <td>1721</td>\n      <td>312</td>\n      <td>58</td>\n      <td>1</td>\n      <td>78.65</td>\n    </tr>\n    <tr>\n      <th>4</th>\n      <td>2020-12-22</td>\n      <td>전남</td>\n      <td>5</td>\n      <td>513</td>\n      <td>5</td>\n      <td>425</td>\n      <td>83</td>\n      <td>4</td>\n      <td>1</td>\n      <td>27.51</td>\n    </tr>\n  </tbody>\n</table>\n</div>"
     },
     "metadata": {},
     "execution_count": 173
    }
   ],
   "source": [
    "df_region = pd.read_csv('../static/data/전국코로나현황.csv')\n",
    "df_region.head()"
   ]
  },
  {
   "cell_type": "code",
   "execution_count": 174,
   "metadata": {},
   "outputs": [
    {
     "output_type": "stream",
     "name": "stdout",
     "text": [
      "<class 'pandas.core.frame.DataFrame'>\nRangeIndex: 5766 entries, 0 to 5765\nData columns (total 10 columns):\n #   Column  Non-Null Count  Dtype \n---  ------  --------------  ----- \n 0   기준시간    5766 non-null   object\n 1   광역시도    5766 non-null   object\n 2   사망자     5766 non-null   int64 \n 3   확진자     5766 non-null   int64 \n 4   전일대비    5766 non-null   int64 \n 5   격리해제    5766 non-null   int64 \n 6   격리중     5766 non-null   int64 \n 7   지역발생    5766 non-null   int64 \n 8   해외유입    5766 non-null   int64 \n 9   10만명당   5766 non-null   object\ndtypes: int64(7), object(3)\nmemory usage: 450.6+ KB\n"
     ]
    }
   ],
   "source": [
    "df_region.info()"
   ]
  },
  {
   "cell_type": "code",
   "execution_count": 175,
   "metadata": {},
   "outputs": [
    {
     "output_type": "stream",
     "name": "stdout",
     "text": [
      "<class 'pandas.core.frame.DataFrame'>\nRangeIndex: 5766 entries, 0 to 5765\nData columns (total 10 columns):\n #   Column  Non-Null Count  Dtype \n---  ------  --------------  ----- \n 0   기준시간    5766 non-null   object\n 1   광역시도    5766 non-null   object\n 2   사망자     5766 non-null   object\n 3   확진자     5766 non-null   object\n 4   전일대비    5766 non-null   object\n 5   격리해제    5766 non-null   object\n 6   격리중     5766 non-null   object\n 7   지역발생    5766 non-null   object\n 8   해외유입    5766 non-null   object\n 9   10만명당   5766 non-null   object\ndtypes: object(10)\nmemory usage: 450.6+ KB\n"
     ]
    }
   ],
   "source": [
    "d = dict.fromkeys(df_region.select_dtypes(np.int64).columns, str)\n",
    "df_region = df_region.astype(d)\n",
    "df_region.info()"
   ]
  },
  {
   "cell_type": "code",
   "execution_count": 135,
   "metadata": {},
   "outputs": [
    {
     "output_type": "execute_result",
     "data": {
      "text/plain": [
       "38"
      ]
     },
     "metadata": {},
     "execution_count": 135
    }
   ],
   "source": [
    "len(df_region[df_region['기준시간']=='2020-12-19'])"
   ]
  },
  {
   "cell_type": "code",
   "execution_count": 176,
   "metadata": {},
   "outputs": [
    {
     "output_type": "execute_result",
     "data": {
      "text/plain": [
       "           기준시간 광역시도  사망자    확진자  전일대비   격리해제    격리중 지역발생 해외유입   10만명당\n",
       "114  2020-12-17   검역    1   2311     7   1654    656    0    7       -\n",
       "115  2020-12-17   제주    0    154    12     82     72   12    0   22.96\n",
       "116  2020-12-17   경남    2    935    30    677    256   30    0   27.82\n",
       "117  2020-12-17   경북   59   1902     9   1686    157    9    0   71.44\n",
       "118  2020-12-17   전남    4    485     0    404     77    0    0   26.01\n",
       "119  2020-12-17   전북    4    615    19    405    206   18    1   33.84\n",
       "120  2020-12-17   충남   15   1210    19    893    302   17    2   57.01\n",
       "121  2020-12-17   충북    7    622    19    363    252   19    0   38.89\n",
       "122  2020-12-17   강원   13    851     9    655    183    9    0   55.24\n",
       "123  2020-12-17   경기  151  10871   291   7820   2900  284    7   82.04\n",
       "124  2020-12-17   세종    0    128     0    116     12    0    0   37.39\n",
       "125  2020-12-17   울산    8    499    10    238    253   10    0   43.50\n",
       "126  2020-12-17   대전    6    683    11    535    142   11    0   46.33\n",
       "127  2020-12-17   광주    3    839    10    730    106   10    0   57.60\n",
       "128  2020-12-17   인천   14   2076    80   1461    601   80    0   70.23\n",
       "129  2020-12-17   대구  200   7432    21   7063    169   20    1  305.03\n",
       "130  2020-12-17   부산   22   1382    44    907    453   44    0   40.51\n",
       "131  2020-12-17   서울  125  13458   423   7921   5412  420    3  138.26\n",
       "132  2020-12-17   합계  634  46453  1014  33610  12209  993   21   89.60\n",
       "133  2020-12-17   검역    1    348     7   1654      3    0    7       -\n",
       "134  2020-12-17   제주    0     12    12     82      4   12    0   22.96\n",
       "135  2020-12-17   경남    2    115    30    677     82   30    0   27.82\n",
       "136  2020-12-17   경북   59   1320     9   1686    968    9    0   71.44\n",
       "137  2020-12-17   전남    4     15     0    404      4    0    0   26.01\n",
       "138  2020-12-17   전북    4     17    19    405      7   18    1   33.84\n",
       "139  2020-12-17   충남   15    138    19    893    105   17    2   57.01\n",
       "140  2020-12-17   충북    7     45    19    363     30   19    0   38.89\n",
       "141  2020-12-17   강원   13     49     9    655     24    9    0   55.24\n",
       "142  2020-12-17   경기  151    606   291   7820    259  284    7   82.04\n",
       "143  2020-12-17   세종    0     46     0    116     16    0    0   37.39\n",
       "144  2020-12-17   울산    8     40    10    238     28   10    0   43.50\n",
       "145  2020-12-17   대전    6     39    11    535     20   11    0   46.33\n",
       "146  2020-12-17   광주    3     27    10    730     15   10    0   57.60\n",
       "147  2020-12-17   인천   14     84    80   1461     31   80    0   70.23\n",
       "148  2020-12-17   대구  200   6807    21   7063   5106   20    1  305.03\n",
       "149  2020-12-17   부산   22    125    44    907     97   44    0   40.51\n",
       "150  2020-12-17   서울  125    590   423   7921    174  420    3  138.26\n",
       "151  2020-12-17   합계  634  10423  1014  33610   6973  993   21   89.60"
      ],
      "text/html": "<div>\n<style scoped>\n    .dataframe tbody tr th:only-of-type {\n        vertical-align: middle;\n    }\n\n    .dataframe tbody tr th {\n        vertical-align: top;\n    }\n\n    .dataframe thead th {\n        text-align: right;\n    }\n</style>\n<table border=\"1\" class=\"dataframe\">\n  <thead>\n    <tr style=\"text-align: right;\">\n      <th></th>\n      <th>기준시간</th>\n      <th>광역시도</th>\n      <th>사망자</th>\n      <th>확진자</th>\n      <th>전일대비</th>\n      <th>격리해제</th>\n      <th>격리중</th>\n      <th>지역발생</th>\n      <th>해외유입</th>\n      <th>10만명당</th>\n    </tr>\n  </thead>\n  <tbody>\n    <tr>\n      <th>114</th>\n      <td>2020-12-17</td>\n      <td>검역</td>\n      <td>1</td>\n      <td>2311</td>\n      <td>7</td>\n      <td>1654</td>\n      <td>656</td>\n      <td>0</td>\n      <td>7</td>\n      <td>-</td>\n    </tr>\n    <tr>\n      <th>115</th>\n      <td>2020-12-17</td>\n      <td>제주</td>\n      <td>0</td>\n      <td>154</td>\n      <td>12</td>\n      <td>82</td>\n      <td>72</td>\n      <td>12</td>\n      <td>0</td>\n      <td>22.96</td>\n    </tr>\n    <tr>\n      <th>116</th>\n      <td>2020-12-17</td>\n      <td>경남</td>\n      <td>2</td>\n      <td>935</td>\n      <td>30</td>\n      <td>677</td>\n      <td>256</td>\n      <td>30</td>\n      <td>0</td>\n      <td>27.82</td>\n    </tr>\n    <tr>\n      <th>117</th>\n      <td>2020-12-17</td>\n      <td>경북</td>\n      <td>59</td>\n      <td>1902</td>\n      <td>9</td>\n      <td>1686</td>\n      <td>157</td>\n      <td>9</td>\n      <td>0</td>\n      <td>71.44</td>\n    </tr>\n    <tr>\n      <th>118</th>\n      <td>2020-12-17</td>\n      <td>전남</td>\n      <td>4</td>\n      <td>485</td>\n      <td>0</td>\n      <td>404</td>\n      <td>77</td>\n      <td>0</td>\n      <td>0</td>\n      <td>26.01</td>\n    </tr>\n    <tr>\n      <th>119</th>\n      <td>2020-12-17</td>\n      <td>전북</td>\n      <td>4</td>\n      <td>615</td>\n      <td>19</td>\n      <td>405</td>\n      <td>206</td>\n      <td>18</td>\n      <td>1</td>\n      <td>33.84</td>\n    </tr>\n    <tr>\n      <th>120</th>\n      <td>2020-12-17</td>\n      <td>충남</td>\n      <td>15</td>\n      <td>1210</td>\n      <td>19</td>\n      <td>893</td>\n      <td>302</td>\n      <td>17</td>\n      <td>2</td>\n      <td>57.01</td>\n    </tr>\n    <tr>\n      <th>121</th>\n      <td>2020-12-17</td>\n      <td>충북</td>\n      <td>7</td>\n      <td>622</td>\n      <td>19</td>\n      <td>363</td>\n      <td>252</td>\n      <td>19</td>\n      <td>0</td>\n      <td>38.89</td>\n    </tr>\n    <tr>\n      <th>122</th>\n      <td>2020-12-17</td>\n      <td>강원</td>\n      <td>13</td>\n      <td>851</td>\n      <td>9</td>\n      <td>655</td>\n      <td>183</td>\n      <td>9</td>\n      <td>0</td>\n      <td>55.24</td>\n    </tr>\n    <tr>\n      <th>123</th>\n      <td>2020-12-17</td>\n      <td>경기</td>\n      <td>151</td>\n      <td>10871</td>\n      <td>291</td>\n      <td>7820</td>\n      <td>2900</td>\n      <td>284</td>\n      <td>7</td>\n      <td>82.04</td>\n    </tr>\n    <tr>\n      <th>124</th>\n      <td>2020-12-17</td>\n      <td>세종</td>\n      <td>0</td>\n      <td>128</td>\n      <td>0</td>\n      <td>116</td>\n      <td>12</td>\n      <td>0</td>\n      <td>0</td>\n      <td>37.39</td>\n    </tr>\n    <tr>\n      <th>125</th>\n      <td>2020-12-17</td>\n      <td>울산</td>\n      <td>8</td>\n      <td>499</td>\n      <td>10</td>\n      <td>238</td>\n      <td>253</td>\n      <td>10</td>\n      <td>0</td>\n      <td>43.50</td>\n    </tr>\n    <tr>\n      <th>126</th>\n      <td>2020-12-17</td>\n      <td>대전</td>\n      <td>6</td>\n      <td>683</td>\n      <td>11</td>\n      <td>535</td>\n      <td>142</td>\n      <td>11</td>\n      <td>0</td>\n      <td>46.33</td>\n    </tr>\n    <tr>\n      <th>127</th>\n      <td>2020-12-17</td>\n      <td>광주</td>\n      <td>3</td>\n      <td>839</td>\n      <td>10</td>\n      <td>730</td>\n      <td>106</td>\n      <td>10</td>\n      <td>0</td>\n      <td>57.60</td>\n    </tr>\n    <tr>\n      <th>128</th>\n      <td>2020-12-17</td>\n      <td>인천</td>\n      <td>14</td>\n      <td>2076</td>\n      <td>80</td>\n      <td>1461</td>\n      <td>601</td>\n      <td>80</td>\n      <td>0</td>\n      <td>70.23</td>\n    </tr>\n    <tr>\n      <th>129</th>\n      <td>2020-12-17</td>\n      <td>대구</td>\n      <td>200</td>\n      <td>7432</td>\n      <td>21</td>\n      <td>7063</td>\n      <td>169</td>\n      <td>20</td>\n      <td>1</td>\n      <td>305.03</td>\n    </tr>\n    <tr>\n      <th>130</th>\n      <td>2020-12-17</td>\n      <td>부산</td>\n      <td>22</td>\n      <td>1382</td>\n      <td>44</td>\n      <td>907</td>\n      <td>453</td>\n      <td>44</td>\n      <td>0</td>\n      <td>40.51</td>\n    </tr>\n    <tr>\n      <th>131</th>\n      <td>2020-12-17</td>\n      <td>서울</td>\n      <td>125</td>\n      <td>13458</td>\n      <td>423</td>\n      <td>7921</td>\n      <td>5412</td>\n      <td>420</td>\n      <td>3</td>\n      <td>138.26</td>\n    </tr>\n    <tr>\n      <th>132</th>\n      <td>2020-12-17</td>\n      <td>합계</td>\n      <td>634</td>\n      <td>46453</td>\n      <td>1014</td>\n      <td>33610</td>\n      <td>12209</td>\n      <td>993</td>\n      <td>21</td>\n      <td>89.60</td>\n    </tr>\n    <tr>\n      <th>133</th>\n      <td>2020-12-17</td>\n      <td>검역</td>\n      <td>1</td>\n      <td>348</td>\n      <td>7</td>\n      <td>1654</td>\n      <td>3</td>\n      <td>0</td>\n      <td>7</td>\n      <td>-</td>\n    </tr>\n    <tr>\n      <th>134</th>\n      <td>2020-12-17</td>\n      <td>제주</td>\n      <td>0</td>\n      <td>12</td>\n      <td>12</td>\n      <td>82</td>\n      <td>4</td>\n      <td>12</td>\n      <td>0</td>\n      <td>22.96</td>\n    </tr>\n    <tr>\n      <th>135</th>\n      <td>2020-12-17</td>\n      <td>경남</td>\n      <td>2</td>\n      <td>115</td>\n      <td>30</td>\n      <td>677</td>\n      <td>82</td>\n      <td>30</td>\n      <td>0</td>\n      <td>27.82</td>\n    </tr>\n    <tr>\n      <th>136</th>\n      <td>2020-12-17</td>\n      <td>경북</td>\n      <td>59</td>\n      <td>1320</td>\n      <td>9</td>\n      <td>1686</td>\n      <td>968</td>\n      <td>9</td>\n      <td>0</td>\n      <td>71.44</td>\n    </tr>\n    <tr>\n      <th>137</th>\n      <td>2020-12-17</td>\n      <td>전남</td>\n      <td>4</td>\n      <td>15</td>\n      <td>0</td>\n      <td>404</td>\n      <td>4</td>\n      <td>0</td>\n      <td>0</td>\n      <td>26.01</td>\n    </tr>\n    <tr>\n      <th>138</th>\n      <td>2020-12-17</td>\n      <td>전북</td>\n      <td>4</td>\n      <td>17</td>\n      <td>19</td>\n      <td>405</td>\n      <td>7</td>\n      <td>18</td>\n      <td>1</td>\n      <td>33.84</td>\n    </tr>\n    <tr>\n      <th>139</th>\n      <td>2020-12-17</td>\n      <td>충남</td>\n      <td>15</td>\n      <td>138</td>\n      <td>19</td>\n      <td>893</td>\n      <td>105</td>\n      <td>17</td>\n      <td>2</td>\n      <td>57.01</td>\n    </tr>\n    <tr>\n      <th>140</th>\n      <td>2020-12-17</td>\n      <td>충북</td>\n      <td>7</td>\n      <td>45</td>\n      <td>19</td>\n      <td>363</td>\n      <td>30</td>\n      <td>19</td>\n      <td>0</td>\n      <td>38.89</td>\n    </tr>\n    <tr>\n      <th>141</th>\n      <td>2020-12-17</td>\n      <td>강원</td>\n      <td>13</td>\n      <td>49</td>\n      <td>9</td>\n      <td>655</td>\n      <td>24</td>\n      <td>9</td>\n      <td>0</td>\n      <td>55.24</td>\n    </tr>\n    <tr>\n      <th>142</th>\n      <td>2020-12-17</td>\n      <td>경기</td>\n      <td>151</td>\n      <td>606</td>\n      <td>291</td>\n      <td>7820</td>\n      <td>259</td>\n      <td>284</td>\n      <td>7</td>\n      <td>82.04</td>\n    </tr>\n    <tr>\n      <th>143</th>\n      <td>2020-12-17</td>\n      <td>세종</td>\n      <td>0</td>\n      <td>46</td>\n      <td>0</td>\n      <td>116</td>\n      <td>16</td>\n      <td>0</td>\n      <td>0</td>\n      <td>37.39</td>\n    </tr>\n    <tr>\n      <th>144</th>\n      <td>2020-12-17</td>\n      <td>울산</td>\n      <td>8</td>\n      <td>40</td>\n      <td>10</td>\n      <td>238</td>\n      <td>28</td>\n      <td>10</td>\n      <td>0</td>\n      <td>43.50</td>\n    </tr>\n    <tr>\n      <th>145</th>\n      <td>2020-12-17</td>\n      <td>대전</td>\n      <td>6</td>\n      <td>39</td>\n      <td>11</td>\n      <td>535</td>\n      <td>20</td>\n      <td>11</td>\n      <td>0</td>\n      <td>46.33</td>\n    </tr>\n    <tr>\n      <th>146</th>\n      <td>2020-12-17</td>\n      <td>광주</td>\n      <td>3</td>\n      <td>27</td>\n      <td>10</td>\n      <td>730</td>\n      <td>15</td>\n      <td>10</td>\n      <td>0</td>\n      <td>57.60</td>\n    </tr>\n    <tr>\n      <th>147</th>\n      <td>2020-12-17</td>\n      <td>인천</td>\n      <td>14</td>\n      <td>84</td>\n      <td>80</td>\n      <td>1461</td>\n      <td>31</td>\n      <td>80</td>\n      <td>0</td>\n      <td>70.23</td>\n    </tr>\n    <tr>\n      <th>148</th>\n      <td>2020-12-17</td>\n      <td>대구</td>\n      <td>200</td>\n      <td>6807</td>\n      <td>21</td>\n      <td>7063</td>\n      <td>5106</td>\n      <td>20</td>\n      <td>1</td>\n      <td>305.03</td>\n    </tr>\n    <tr>\n      <th>149</th>\n      <td>2020-12-17</td>\n      <td>부산</td>\n      <td>22</td>\n      <td>125</td>\n      <td>44</td>\n      <td>907</td>\n      <td>97</td>\n      <td>44</td>\n      <td>0</td>\n      <td>40.51</td>\n    </tr>\n    <tr>\n      <th>150</th>\n      <td>2020-12-17</td>\n      <td>서울</td>\n      <td>125</td>\n      <td>590</td>\n      <td>423</td>\n      <td>7921</td>\n      <td>174</td>\n      <td>420</td>\n      <td>3</td>\n      <td>138.26</td>\n    </tr>\n    <tr>\n      <th>151</th>\n      <td>2020-12-17</td>\n      <td>합계</td>\n      <td>634</td>\n      <td>10423</td>\n      <td>1014</td>\n      <td>33610</td>\n      <td>6973</td>\n      <td>993</td>\n      <td>21</td>\n      <td>89.60</td>\n    </tr>\n  </tbody>\n</table>\n</div>"
     },
     "metadata": {},
     "execution_count": 176
    }
   ],
   "source": [
    "df_region[df_region['기준시간']=='2020-12-17']"
   ]
  },
  {
   "cell_type": "code",
   "execution_count": 145,
   "metadata": {},
   "outputs": [
    {
     "output_type": "execute_result",
     "data": {
      "text/plain": [
       "(19, 19)"
      ]
     },
     "metadata": {},
     "execution_count": 145
    }
   ],
   "source": [
    "len([5075, 5076, 5077,\n",
    "            5078, 5079, 5080, 5081, 5082, 5083, 5084, 5085, 5086, 5087, 5088,\n",
    "            5089, 5090, 5091, 5092, 5093]),len([5056, 5057, 5058, 5059, 5060, 5061, 5062, 5063, 5064, 5065, 5066,\n",
    "            5067, 5068, 5069, 5070, 5071, 5072, 5073, 5074])"
   ]
  },
  {
   "cell_type": "code",
   "execution_count": 140,
   "metadata": {},
   "outputs": [
    {
     "output_type": "stream",
     "name": "stdout",
     "text": [
      "2020-04-08 38 Int64Index([5056, 5057, 5058, 5059, 5060, 5061, 5062, 5063, 5064, 5065, 5066,\n",
      "            5067, 5068, 5069, 5070, 5071, 5072, 5073, 5074, 5075, 5076, 5077,\n",
      "            5078, 5079, 5080, 5081, 5082, 5083, 5084, 5085, 5086, 5087, 5088,\n",
      "            5089, 5090, 5091, 5092, 5093],\n",
      "           dtype='int64')\n",
      "2020-06-05 38 Int64Index([3954, 3955, 3956, 3957, 3958, 3959, 3960, 3961, 3962, 3963, 3964,\n",
      "            3965, 3966, 3967, 3968, 3969, 3970, 3971, 3972, 3973, 3974, 3975,\n",
      "            3976, 3977, 3978, 3979, 3980, 3981, 3982, 3983, 3984, 3985, 3986,\n",
      "            3987, 3988, 3989, 3990, 3991],\n",
      "           dtype='int64')\n",
      "2020-09-24 38 Int64Index([1845, 1846, 1847, 1848, 1849, 1850, 1851, 1852, 1853, 1854, 1855,\n",
      "            1856, 1857, 1858, 1859, 1860, 1861, 1862, 1863, 1864, 1865, 1866,\n",
      "            1867, 1868, 1869, 1870, 1871, 1872, 1873, 1874, 1875, 1876, 1877,\n",
      "            1878, 1879, 1880, 1881, 1882],\n",
      "           dtype='int64')\n",
      "2020-09-26 38 Int64Index([1788, 1789, 1790, 1791, 1792, 1793, 1794, 1795, 1796, 1797, 1798,\n",
      "            1799, 1800, 1801, 1802, 1803, 1804, 1805, 1806, 1807, 1808, 1809,\n",
      "            1810, 1811, 1812, 1813, 1814, 1815, 1816, 1817, 1818, 1819, 1820,\n",
      "            1821, 1822, 1823, 1824, 1825],\n",
      "           dtype='int64')\n",
      "2020-09-30 38 Int64Index([1693, 1694, 1695, 1696, 1697, 1698, 1699, 1700, 1701, 1702, 1703,\n",
      "            1704, 1705, 1706, 1707, 1708, 1709, 1710, 1711, 1712, 1713, 1714,\n",
      "            1715, 1716, 1717, 1718, 1719, 1720, 1721, 1722, 1723, 1724, 1725,\n",
      "            1726, 1727, 1728, 1729, 1730],\n",
      "           dtype='int64')\n",
      "2020-10-03 38 Int64Index([1617, 1618, 1619, 1620, 1621, 1622, 1623, 1624, 1625, 1626, 1627,\n",
      "            1628, 1629, 1630, 1631, 1632, 1633, 1634, 1635, 1636, 1637, 1638,\n",
      "            1639, 1640, 1641, 1642, 1643, 1644, 1645, 1646, 1647, 1648, 1649,\n",
      "            1650, 1651, 1652, 1653, 1654],\n",
      "           dtype='int64')\n",
      "2020-10-12 38 Int64Index([1427, 1428, 1429, 1430, 1431, 1432, 1433, 1434, 1435, 1436, 1437,\n",
      "            1438, 1439, 1440, 1441, 1442, 1443, 1444, 1445, 1446, 1447, 1448,\n",
      "            1449, 1450, 1451, 1452, 1453, 1454, 1455, 1456, 1457, 1458, 1459,\n",
      "            1460, 1461, 1462, 1463, 1464],\n",
      "           dtype='int64')\n",
      "2020-10-19 38 Int64Index([1275, 1276, 1277, 1278, 1279, 1280, 1281, 1282, 1283, 1284, 1285,\n",
      "            1286, 1287, 1288, 1289, 1290, 1291, 1292, 1293, 1294, 1295, 1296,\n",
      "            1297, 1298, 1299, 1300, 1301, 1302, 1303, 1304, 1305, 1306, 1307,\n",
      "            1308, 1309, 1310, 1311, 1312],\n",
      "           dtype='int64')\n",
      "2020-11-25 38 Int64Index([553, 554, 555, 556, 557, 558, 559, 560, 561, 562, 563, 564, 565,\n",
      "            566, 567, 568, 569, 570, 571, 572, 573, 574, 575, 576, 577, 578,\n",
      "            579, 580, 581, 582, 583, 584, 585, 586, 587, 588, 589, 590],\n",
      "           dtype='int64')\n",
      "2020-11-30 21 Int64Index([456, 457, 458, 459, 460, 461, 462, 463, 464, 465, 466, 467, 468,\n",
      "            469, 470, 471, 472, 473, 474, 475, 476],\n",
      "           dtype='int64')\n",
      "2020-12-17 38 Int64Index([114, 115, 116, 117, 118, 119, 120, 121, 122, 123, 124, 125, 126,\n",
      "            127, 128, 129, 130, 131, 132, 133, 134, 135, 136, 137, 138, 139,\n",
      "            140, 141, 142, 143, 144, 145, 146, 147, 148, 149, 150, 151],\n",
      "           dtype='int64')\n",
      "2020-12-19 38 Int64Index([57, 58, 59, 60, 61, 62, 63, 64, 65, 66, 67, 68, 69, 70, 71, 72, 73,\n",
      "            74, 75, 76, 77, 78, 79, 80, 81, 82, 83, 84, 85, 86, 87, 88, 89, 90,\n",
      "            91, 92, 93, 94],\n",
      "           dtype='int64')\n"
     ]
    }
   ],
   "source": [
    "for i in pd.date_range(start='20200302', end='20201222'):\n",
    "    date = i.strftime(\"%Y-%m-%d\")\n",
    "    if len(df_region[df_region['기준시간']==date])>19:\n",
    "        print(date,len(df_region[df_region['기준시간']==date]),df_region[df_region['기준시간']==date].index)"
   ]
  },
  {
   "cell_type": "code",
   "execution_count": 177,
   "metadata": {},
   "outputs": [],
   "source": [
    "df_region.drop([\n",
    "            5075, 5076, 5077, 5078, 5079, 5080, 5081, 5082, 5083,\n",
    "            5084, 5085, 5086, 5087, 5088, 5089, 5090, 5091, 5092, 5093, \n",
    "            3954, 3955, 3956, 3957, 3958, 3959, 3960, 3961, 3962, \n",
    "            3963, 3964, 3965, 3966, 3967, 3968, 3969, 3970, 3971, 3972, \n",
    "            1845, 1846, 1847, 1848, 1849, 1850, 1851, 1852, 1853, \n",
    "            1854, 1855, 1856, 1857, 1858, 1859, 1860, 1861, 1862, 1863,\n",
    "            1788, 1789, 1790, 1791, 1792, 1793, 1794, 1795, 1796, \n",
    "            1797, 1798, 1799, 1800, 1801, 1802, 1803, 1804, 1805, 1806, \n",
    "            1693, 1694, 1695, 1696, 1697, 1698, 1699, 1700, 1701, \n",
    "            1702, 1703, 1704, 1705, 1706, 1707, 1708, 1709, 1710, 1711,\n",
    "            1617, 1618, 1619, 1620, 1621, 1622, 1623, 1624, 1625, \n",
    "            1626, 1627, 1628, 1629, 1630, 1631, 1632, 1633, 1634, 1635, \n",
    "            1427, 1428, 1429, 1430, 1431, 1432, 1433, 1434, 1435, \n",
    "            1436, 1437, 1438, 1439, 1440, 1441, 1442, 1443, 1444, 1445, \n",
    "            1275, 1276, 1277, 1278, 1279, 1280, 1281, 1282, 1283, \n",
    "            1284, 1285, 1286, 1287, 1288, 1289, 1290, 1291, 1292, 1293,\n",
    "            553, 554, 555, 556, 557, 558, 559, 560, 561, \n",
    "            562, 563, 564, 565, 566, 567, 568, 569, 570, 571, \n",
    "            456, 476,\n",
    "            133, 134, 135, 136, 137, 138, 139, 140, 141, \n",
    "            142, 143, 144, 145, 146, 147, 148, 149, 150, 151, \n",
    "            57, 58, 59, 60, 61, 62, 63, 64, 65, 66, 67, \n",
    "            68, 69, 70, 71, 72, 73, 74, 75],inplace=True)"
   ]
  },
  {
   "cell_type": "code",
   "execution_count": 178,
   "metadata": {},
   "outputs": [],
   "source": [
    "sql_delete = \"drop table daily\"\n",
    "cur.execute(sql_delete)\n",
    "conn.commit()"
   ]
  },
  {
   "cell_type": "code",
   "execution_count": 179,
   "metadata": {},
   "outputs": [],
   "source": [
    "sql_table = '''create table if not exists daily (\n",
    "  stdDay text not null,\n",
    "  deathCnt int not null,\n",
    "  defCnt int not null,\n",
    "  gubun text not null,\n",
    "  incDec int not null,\n",
    "  isolClearCnt int not null,\n",
    "  isolIngCnt int not null,\n",
    "  localOccCnt int not null,\n",
    "  overFlowCnt int not null,\n",
    "  qurRate float);\n",
    "'''\n",
    "cur.execute(sql_table)\n",
    "conn.commit()"
   ]
  },
  {
   "cell_type": "code",
   "execution_count": 180,
   "metadata": {},
   "outputs": [],
   "source": [
    "sql_insert = '''insert into daily (stdDay, deathCnt, defCnt, gubun, incDec, isolClearCnt,\n",
    "isolIngCnt, localOccCnt, overFlowCnt, qurRate) values(?,?,?,?,?,?,?,?,?,?);\n",
    "'''\n",
    "for i in df_region.index:    \n",
    "    params=[]\n",
    "    params = [df_region['기준시간'][i], int(df_region['사망자'][i]), int(df_region['확진자'][i]), \n",
    "              df_region['광역시도'][i], int(df_region['전일대비'][i]), int(df_region['격리해제'][i]), \n",
    "              int(df_region['격리중'][i]), int(df_region['지역발생'][i]), int(df_region['해외유입'][i])]\n",
    "    params.append(None if df_region['10만명당'][i]=='-' else float(df_region['10만명당'][i]))\n",
    "    cur.execute(sql_insert, params)\n",
    "    conn.commit()"
   ]
  },
  {
   "cell_type": "code",
   "execution_count": 118,
   "metadata": {
    "tags": [
     "outputPrepend"
    ]
   },
   "outputs": [
    {
     "output_type": "stream",
     "name": "stdout",
     "text": [
      "24', 0, 120, '충남', 0, 56, 0, 0, 0, 5.65]\n",
      "['2020-03-24', 0, 38, '충북', 1, 11, 0, 0, 0, 2.38]\n",
      "['2020-03-24', 1, 30, '강원', 0, 14, 0, 0, 0, 1.95]\n",
      "['2020-03-24', 4, 366, '경기', 15, 97, 0, 0, 0, 2.76]\n",
      "['2020-03-24', 0, 42, '세종', 0, 3, 0, 0, 0, 12.27]\n",
      "['2020-03-24', 0, 36, '울산', 0, 18, 0, 0, 0, 3.14]\n",
      "['2020-03-24', 0, 24, '대전', 0, 6, 0, 0, 0, 1.63]\n",
      "['2020-03-24', 0, 19, '광주', 0, 11, 0, 0, 0, 1.3]\n",
      "['2020-03-24', 0, 41, '인천', 1, 8, 0, 0, 0, 1.39]\n",
      "['2020-03-24', 88, 6442, '대구', 31, 2571, 0, 0, 0, 264.4]\n",
      "['2020-03-24', 1, 111, '부산', 2, 71, 0, 0, 0, 3.25]\n",
      "['2020-03-24', 0, 334, '서울', 4, 72, 0, 0, 0, 3.43]\n",
      "['2020-03-24', 120, 9037, '합계', 76, 3507, 0, 0, 0, 17.43]\n",
      "['2020-03-23', 0, 47, '검역', 13, 0, 0, 0, 0, None]\n",
      "['2020-03-23', 0, 4, '제주', 0, 3, 0, 0, 0, 0.6]\n",
      "['2020-03-23', 0, 89, '경남', 1, 45, 0, 0, 0, 2.65]\n",
      "['2020-03-23', 24, 1256, '경북', 2, 469, 0, 0, 0, 47.17]\n",
      "['2020-03-23', 0, 6, '전남', 0, 3, 0, 0, 0, 0.32]\n",
      "['2020-03-23', 0, 10, '전북', 0, 7, 0, 0, 0, 0.55]\n",
      "['2020-03-23', 0, 120, '충남', 0, 44, 0, 0, 0, 5.65]\n",
      "['2020-03-23', 0, 37, '충북', 2, 9, 0, 0, 0, 2.31]\n",
      "['2020-03-23', 1, 30, '강원', 0, 14, 0, 0, 0, 1.95]\n",
      "['2020-03-23', 3, 351, '경기', 14, 88, 0, 0, 0, 2.65]\n",
      "['2020-03-23', 0, 42, '세종', 1, 3, 0, 0, 0, 12.27]\n",
      "['2020-03-23', 0, 36, '울산', 0, 17, 0, 0, 0, 3.14]\n",
      "['2020-03-23', 0, 24, '대전', 0, 6, 0, 0, 0, 1.63]\n",
      "['2020-03-23', 0, 19, '광주', 0, 10, 0, 0, 0, 1.3]\n",
      "['2020-03-23', 0, 40, '인천', 0, 8, 0, 0, 0, 1.35]\n",
      "['2020-03-23', 82, 6411, '대구', 24, 2305, 0, 0, 0, 263.12]\n",
      "['2020-03-23', 1, 109, '부산', 1, 71, 0, 0, 0, 3.19]\n",
      "['2020-03-23', 0, 330, '서울', 6, 64, 0, 0, 0, 3.39]\n",
      "['2020-03-23', 111, 8961, '합계', 64, 3166, 0, 0, 0, 17.28]\n",
      "['2020-03-22', 0, 34, '검역', 11, 0, 0, 0, 0, None]\n",
      "['2020-03-22', 0, 4, '제주', 0, 3, 0, 0, 0, 0.6]\n",
      "['2020-03-22', 0, 88, '경남', 1, 42, 0, 0, 0, 2.62]\n",
      "['2020-03-22', 24, 1254, '경북', 11, 432, 0, 0, 0, 47.1]\n",
      "['2020-03-22', 0, 6, '전남', 1, 3, 0, 0, 0, 0.32]\n",
      "['2020-03-22', 0, 10, '전북', 0, 7, 0, 0, 0, 0.55]\n",
      "['2020-03-22', 0, 120, '충남', 1, 39, 0, 0, 0, 5.65]\n",
      "['2020-03-22', 0, 35, '충북', 1, 9, 0, 0, 0, 2.19]\n",
      "['2020-03-22', 1, 30, '강원', 0, 13, 0, 0, 0, 1.95]\n",
      "['2020-03-22', 3, 337, '경기', 16, 82, 0, 0, 0, 2.54]\n",
      "['2020-03-22', 0, 41, '세종', 0, 3, 0, 0, 0, 11.98]\n",
      "['2020-03-22', 0, 36, '울산', 0, 12, 0, 0, 0, 3.14]\n",
      "['2020-03-22', 0, 24, '대전', 2, 6, 0, 0, 0, 1.63]\n",
      "['2020-03-22', 0, 19, '광주', 1, 10, 0, 0, 0, 1.3]\n",
      "['2020-03-22', 0, 40, '인천', 0, 8, 0, 0, 0, 1.35]\n",
      "['2020-03-22', 75, 6387, '대구', 43, 2107, 0, 0, 0, 262.14]\n",
      "['2020-03-22', 1, 108, '부산', 0, 69, 0, 0, 0, 3.17]\n",
      "['2020-03-22', 0, 324, '서울', 10, 64, 0, 0, 0, 3.33]\n",
      "['2020-03-22', 104, 8897, '합계', 98, 2909, 0, 0, 0, 17.16]\n",
      "['2020-03-21', 0, 23, '검역', 6, 0, 0, 0, 0, None]\n",
      "['2020-03-21', 0, 4, '제주', 0, 2, 0, 0, 0, 0.6]\n",
      "['2020-03-21', 0, 87, '경남', 0, 40, 0, 0, 0, 2.59]\n",
      "['2020-03-21', 24, 1243, '경북', 40, 395, 0, 0, 0, 46.69]\n",
      "['2020-03-21', 0, 5, '전남', 0, 3, 0, 0, 0, 0.27]\n",
      "['2020-03-21', 0, 10, '전북', 0, 7, 0, 0, 0, 0.55]\n",
      "['2020-03-21', 0, 119, '충남', 0, 39, 0, 0, 0, 5.61]\n",
      "['2020-03-21', 0, 34, '충북', 1, 8, 0, 0, 0, 2.13]\n",
      "['2020-03-21', 1, 30, '강원', 0, 12, 0, 0, 0, 1.95]\n",
      "['2020-03-21', 3, 321, '경기', 12, 79, 0, 0, 0, 2.42]\n",
      "['2020-03-21', 0, 41, '세종', 0, 2, 0, 0, 0, 11.98]\n",
      "['2020-03-21', 0, 36, '울산', 0, 11, 0, 0, 0, 3.14]\n",
      "['2020-03-21', 0, 22, '대전', 0, 5, 0, 0, 0, 1.49]\n",
      "['2020-03-21', 0, 18, '광주', 0, 10, 0, 0, 0, 1.24]\n",
      "['2020-03-21', 0, 40, '인천', 4, 7, 0, 0, 0, 1.35]\n",
      "['2020-03-21', 73, 6344, '대구', 69, 1861, 0, 0, 0, 260.37]\n",
      "['2020-03-21', 1, 108, '부산', 0, 67, 0, 0, 0, 3.17]\n",
      "['2020-03-21', 0, 314, '서울', 15, 64, 0, 0, 0, 3.23]\n",
      "['2020-03-21', 102, 8799, '합계', 147, 2612, 0, 0, 0, 16.97]\n",
      "['2020-03-20', 0, 17, '검역', 1, 0, 0, 0, 0, None]\n",
      "['2020-03-20', 0, 4, '제주', 0, 2, 0, 0, 0, 0.6]\n",
      "['2020-03-20', 0, 87, '경남', 1, 33, 0, 0, 0, 2.59]\n",
      "['2020-03-20', 22, 1203, '경북', 13, 340, 0, 0, 0, 45.18]\n",
      "['2020-03-20', 0, 5, '전남', 0, 3, 0, 0, 0, 0.27]\n",
      "['2020-03-20', 0, 10, '전북', 0, 7, 0, 0, 0, 0.55]\n",
      "['2020-03-20', 0, 119, '충남', 1, 32, 0, 0, 0, 5.61]\n",
      "['2020-03-20', 0, 33, '충북', 0, 6, 0, 0, 0, 2.06]\n",
      "['2020-03-20', 1, 30, '강원', 0, 10, 0, 0, 0, 1.95]\n",
      "['2020-03-20', 3, 309, '경기', 14, 66, 0, 0, 0, 2.33]\n",
      "['2020-03-20', 0, 41, '세종', 0, 0, 0, 0, 0, 11.98]\n",
      "['2020-03-20', 0, 36, '울산', 0, 11, 0, 0, 0, 3.14]\n",
      "['2020-03-20', 0, 22, '대전', 0, 5, 0, 0, 0, 1.49]\n",
      "['2020-03-20', 0, 18, '광주', 1, 10, 0, 0, 0, 1.24]\n",
      "['2020-03-20', 0, 36, '인천', 4, 7, 0, 0, 0, 1.22]\n",
      "['2020-03-20', 67, 6275, '대구', 34, 1577, 0, 0, 0, 257.54]\n",
      "['2020-03-20', 1, 108, '부산', 1, 60, 0, 0, 0, 3.17]\n",
      "['2020-03-20', 0, 299, '서울', 17, 64, 0, 0, 0, 3.07]\n",
      "['2020-03-20', 94, 8652, '합계', 87, 2233, 0, 0, 0, 16.69]\n",
      "['2020-03-19', 0, 16, '검역', 5, 0, 0, 0, 0, None]\n",
      "['2020-03-19', 0, 4, '제주', 0, 2, 0, 0, 0, 0.6]\n",
      "['2020-03-19', 0, 86, '경남', 0, 29, 0, 0, 0, 2.56]\n",
      "['2020-03-19', 21, 1190, '경북', 12, 275, 0, 0, 0, 44.69]\n",
      "['2020-03-19', 0, 5, '전남', 0, 3, 0, 0, 0, 0.27]\n",
      "['2020-03-19', 0, 10, '전북', 1, 5, 0, 0, 0, 0.55]\n",
      "['2020-03-19', 0, 118, '충남', 0, 31, 0, 0, 0, 5.56]\n",
      "['2020-03-19', 0, 33, '충북', 1, 5, 0, 0, 0, 2.06]\n",
      "['2020-03-19', 1, 30, '강원', 0, 9, 0, 0, 0, 1.95]\n",
      "['2020-03-19', 3, 295, '경기', 18, 64, 0, 0, 0, 2.23]\n",
      "['2020-03-19', 0, 41, '세종', 0, 0, 0, 0, 0, 11.98]\n",
      "['2020-03-19', 0, 36, '울산', 6, 9, 0, 0, 0, 3.14]\n",
      "['2020-03-19', 0, 22, '대전', 0, 4, 0, 0, 0, 1.49]\n",
      "['2020-03-19', 0, 17, '광주', 0, 7, 0, 0, 0, 1.17]\n",
      "['2020-03-19', 0, 32, '인천', 0, 6, 0, 0, 0, 1.08]\n",
      "['2020-03-19', 65, 6241, '대구', 97, 1382, 0, 0, 0, 256.15]\n",
      "['2020-03-19', 1, 107, '부산', 0, 58, 0, 0, 0, 3.14]\n",
      "['2020-03-19', 0, 282, '서울', 12, 58, 0, 0, 0, 2.9]\n",
      "['2020-03-19', 91, 8565, '합계', 152, 1947, 0, 0, 0, 16.52]\n",
      "['2020-03-18', 0, 11, '검역', 5, 0, 0, 0, 0, None]\n",
      "['2020-03-18', 0, 4, '제주', 0, 2, 0, 0, 0, 0.6]\n",
      "['2020-03-18', 0, 86, '경남', 0, 23, 0, 0, 0, 2.56]\n",
      "['2020-03-18', 21, 1178, '경북', 9, 235, 0, 0, 0, 44.24]\n",
      "['2020-03-18', 0, 5, '전남', 1, 2, 0, 0, 0, 0.27]\n",
      "['2020-03-18', 0, 9, '전북', 2, 5, 0, 0, 0, 0.5]\n",
      "['2020-03-18', 0, 118, '충남', 3, 16, 0, 0, 0, 5.56]\n",
      "['2020-03-18', 0, 32, '충북', 1, 5, 0, 0, 0, 2.0]\n",
      "['2020-03-18', 1, 30, '강원', 1, 8, 0, 0, 0, 1.95]\n",
      "['2020-03-18', 3, 277, '경기', 15, 59, 0, 0, 0, 2.09]\n",
      "['2020-03-18', 0, 41, '세종', 1, 0, 0, 0, 0, 11.98]\n",
      "['2020-03-18', 0, 30, '울산', 2, 9, 0, 0, 0, 2.62]\n",
      "['2020-03-18', 0, 22, '대전', 0, 4, 0, 0, 0, 1.49]\n",
      "['2020-03-18', 0, 17, '광주', 1, 6, 0, 0, 0, 1.17]\n",
      "['2020-03-18', 0, 32, '인천', 1, 5, 0, 0, 0, 1.08]\n",
      "['2020-03-18', 58, 6144, '대구', 46, 1048, 0, 0, 0, 252.17]\n",
      "['2020-03-18', 1, 107, '부산', 0, 58, 0, 0, 0, 3.14]\n",
      "['2020-03-18', 0, 270, '서울', 5, 55, 0, 0, 0, 2.77]\n",
      "['2020-03-18', 84, 8413, '합계', 93, 1540, 0, 0, 0, 16.23]\n",
      "['2020-03-17', 0, 6, '검역', 2, 0, 0, 0, 0, None]\n",
      "['2020-03-17', 0, 4, '제주', 0, 2, 0, 0, 0, 0.6]\n",
      "['2020-03-17', 0, 86, '경남', 1, 22, 0, 0, 0, 2.56]\n",
      "['2020-03-17', 19, 1169, '경북', 5, 209, 0, 0, 0, 43.91]\n",
      "['2020-03-17', 0, 4, '전남', 0, 2, 0, 0, 0, 0.21]\n",
      "['2020-03-17', 0, 7, '전북', 0, 4, 0, 0, 0, 0.39]\n",
      "['2020-03-17', 0, 115, '충남', 0, 15, 0, 0, 0, 5.42]\n",
      "['2020-03-17', 0, 31, '충북', 0, 5, 0, 0, 0, 1.94]\n",
      "['2020-03-17', 1, 29, '강원', 0, 8, 0, 0, 0, 1.88]\n",
      "['2020-03-17', 3, 262, '경기', 31, 55, 0, 0, 0, 1.98]\n",
      "['2020-03-17', 0, 40, '세종', 0, 0, 0, 0, 0, 11.68]\n",
      "['2020-03-17', 0, 28, '울산', 0, 8, 0, 0, 0, 2.44]\n",
      "['2020-03-17', 0, 22, '대전', 0, 4, 0, 0, 0, 1.49]\n",
      "['2020-03-17', 0, 16, '광주', 0, 6, 0, 0, 0, 1.1]\n",
      "['2020-03-17', 0, 31, '인천', 1, 5, 0, 0, 0, 1.05]\n",
      "['2020-03-17', 57, 6098, '대구', 32, 947, 0, 0, 0, 250.28]\n",
      "['2020-03-17', 1, 107, '부산', 0, 54, 0, 0, 0, 3.14]\n",
      "['2020-03-17', 0, 265, '서울', 12, 55, 0, 0, 0, 2.72]\n",
      "['2020-03-17', 81, 8320, '합계', 84, 1401, 0, 0, 0, 16.05]\n",
      "['2020-03-16', 0, 4, '검역', 4, 0, 0, 0, 0, None]\n",
      "['2020-03-16', 0, 4, '제주', 0, 2, 0, 0, 0, 0.6]\n",
      "['2020-03-16', 0, 85, '경남', 0, 20, 0, 0, 0, 2.53]\n",
      "['2020-03-16', 17, 1164, '경북', 7, 178, 0, 0, 0, 43.72]\n",
      "['2020-03-16', 0, 4, '전남', 0, 2, 0, 0, 0, 0.21]\n",
      "['2020-03-16', 0, 7, '전북', 0, 4, 0, 0, 0, 0.39]\n",
      "['2020-03-16', 0, 115, '충남', 0, 12, 0, 0, 0, 5.42]\n",
      "['2020-03-16', 0, 31, '충북', 0, 6, 0, 0, 0, 1.94]\n",
      "['2020-03-16', 1, 29, '강원', 0, 7, 0, 0, 0, 1.88]\n",
      "['2020-03-16', 3, 231, '경기', 20, 48, 0, 0, 0, 1.74]\n",
      "['2020-03-16', 0, 40, '세종', 1, 0, 0, 0, 0, 11.68]\n",
      "['2020-03-16', 0, 28, '울산', 0, 7, 0, 0, 0, 2.44]\n",
      "['2020-03-16', 0, 22, '대전', 0, 4, 0, 0, 0, 1.49]\n",
      "['2020-03-16', 0, 16, '광주', 0, 4, 0, 0, 0, 1.1]\n",
      "['2020-03-16', 0, 30, '인천', 0, 4, 0, 0, 0, 1.01]\n",
      "['2020-03-16', 53, 6066, '대구', 35, 734, 0, 0, 0, 248.96]\n",
      "['2020-03-16', 1, 107, '부산', 1, 53, 0, 0, 0, 3.14]\n",
      "['2020-03-16', 0, 253, '서울', 6, 52, 0, 0, 0, 2.6]\n",
      "['2020-03-16', 75, 8236, '합계', 74, 1137, 0, 0, 0, 15.74]\n",
      "['2020-03-15', 0, 4, '제주', 0, 1, 0, 0, 0, 0.6]\n",
      "['2020-03-15', 0, 85, '경남', 0, 16, 0, 0, 0, 2.53]\n",
      "['2020-03-15', 17, 1157, '경북', 4, 163, 0, 0, 0, 43.46]\n",
      "['2020-03-15', 0, 4, '전남', 0, 2, 0, 0, 0, 0.21]\n",
      "['2020-03-15', 0, 7, '전북', 0, 4, 0, 0, 0, 0.39]\n",
      "['2020-03-15', 0, 115, '충남', 0, 10, 0, 0, 0, 5.42]\n",
      "['2020-03-15', 0, 31, '충북', 3, 6, 0, 0, 0, 1.94]\n",
      "['2020-03-15', 1, 29, '강원', 0, 7, 0, 0, 0, 1.88]\n",
      "['2020-03-15', 3, 211, '경기', 11, 40, 0, 0, 0, 1.59]\n",
      "['2020-03-15', 0, 39, '세종', 1, 0, 0, 0, 0, 11.39]\n",
      "['2020-03-15', 0, 28, '울산', 1, 6, 0, 0, 0, 2.44]\n",
      "['2020-03-15', 0, 22, '대전', 0, 4, 0, 0, 0, 1.49]\n",
      "['2020-03-15', 0, 16, '광주', 1, 4, 0, 0, 0, 1.1]\n",
      "['2020-03-15', 0, 30, '인천', 2, 4, 0, 0, 0, 1.01]\n",
      "['2020-03-15', 53, 6031, '대구', 41, 468, 0, 0, 0, 247.53]\n",
      "['2020-03-15', 1, 106, '부산', 3, 52, 0, 0, 0, 3.11]\n",
      "['2020-03-15', 0, 247, '서울', 9, 47, 0, 0, 0, 2.54]\n",
      "['2020-03-15', 75, 8162, '합계', 76, 834, 0, 0, 0, 15.74]\n",
      "['2020-03-14', 0, 4, '제주', 0, 1, 0, 0, 0, 0.6]\n",
      "['2020-03-14', 0, 85, '경남', 0, 11, 0, 0, 0, 2.53]\n",
      "['2020-03-14', 17, 1153, '경북', 6, 138, 0, 0, 0, 43.31]\n",
      "['2020-03-14', 0, 4, '전남', 0, 2, 0, 0, 0, 0.21]\n",
      "['2020-03-14', 0, 7, '전북', 0, 4, 0, 0, 0, 0.39]\n",
      "['2020-03-14', 0, 115, '충남', 0, 9, 0, 0, 0, 5.42]\n",
      "['2020-03-14', 0, 28, '충북', 1, 5, 0, 0, 0, 1.75]\n",
      "['2020-03-14', 1, 29, '강원', 0, 6, 0, 0, 0, 1.88]\n",
      "['2020-03-14', 3, 200, '경기', 15, 36, 0, 0, 0, 1.51]\n",
      "['2020-03-14', 0, 38, '세종', 6, 0, 0, 0, 0, 11.1]\n",
      "['2020-03-14', 0, 27, '울산', 0, 5, 0, 0, 0, 2.35]\n",
      "['2020-03-14', 0, 22, '대전', 0, 4, 0, 0, 0, 1.49]\n",
      "['2020-03-14', 0, 15, '광주', 0, 4, 0, 0, 0, 1.03]\n",
      "['2020-03-14', 0, 28, '인천', 1, 4, 0, 0, 0, 0.95]\n",
      "['2020-03-14', 51, 5990, '대구', 62, 401, 0, 0, 0, 245.85]\n",
      "['2020-03-14', 0, 103, '부산', 3, 40, 0, 0, 0, 3.02]\n",
      "['2020-03-14', 0, 238, '서울', 13, 44, 0, 0, 0, 2.45]\n",
      "['2020-03-14', 72, 8086, '합계', 107, 714, 0, 0, 0, 15.6]\n",
      "['2020-03-13', 0, 4, '제주', 0, 1, 0, 0, 0, 0.6]\n",
      "['2020-03-13', 0, 85, '경남', 0, 11, 0, 0, 0, 2.53]\n",
      "['2020-03-13', 16, 1147, '경북', 4, 103, 0, 0, 0, 43.08]\n",
      "['2020-03-13', 0, 4, '전남', 0, 1, 0, 0, 0, 0.21]\n",
      "['2020-03-13', 0, 7, '전북', 0, 4, 0, 0, 0, 0.39]\n",
      "['2020-03-13', 0, 115, '충남', 1, 7, 0, 0, 0, 5.42]\n",
      "['2020-03-13', 0, 27, '충북', 0, 4, 0, 0, 0, 1.69]\n",
      "['2020-03-13', 1, 29, '강원', 0, 6, 0, 0, 0, 1.88]\n",
      "['2020-03-13', 2, 185, '경기', 7, 31, 0, 0, 0, 1.4]\n",
      "['2020-03-13', 0, 32, '세종', 17, 0, 0, 0, 0, 9.35]\n",
      "['2020-03-13', 0, 27, '울산', 2, 3, 0, 0, 0, 2.35]\n",
      "['2020-03-13', 0, 22, '대전', 2, 4, 0, 0, 0, 1.49]\n",
      "['2020-03-13', 0, 15, '광주', 0, 4, 0, 0, 0, 1.03]\n",
      "['2020-03-13', 0, 27, '인천', 2, 4, 0, 0, 0, 0.91]\n",
      "['2020-03-13', 48, 5928, '대구', 61, 251, 0, 0, 0, 243.3]\n",
      "['2020-03-13', 0, 100, '부산', 1, 36, 0, 0, 0, 2.93]\n",
      "['2020-03-13', 0, 225, '서울', 13, 40, 0, 0, 0, 2.31]\n",
      "['2020-03-13', 67, 7979, '합계', 110, 510, 0, 0, 0, 15.39]\n",
      "['2020-03-12', 0, 4, '제주', 0, 1, 0, 0, 0, 0.6]\n",
      "['2020-03-12', 0, 85, '경남', 1, 10, 0, 0, 0, 2.53]\n",
      "['2020-03-12', 16, 1143, '경북', 8, 83, 0, 0, 0, 42.93]\n",
      "['2020-03-12', 0, 4, '전남', 0, 1, 0, 0, 0, 0.21]\n",
      "['2020-03-12', 0, 7, '전북', 0, 2, 0, 0, 0, 0.39]\n",
      "['2020-03-12', 0, 114, '충남', 2, 5, 0, 0, 0, 5.37]\n",
      "['2020-03-12', 0, 27, '충북', 0, 4, 0, 0, 0, 1.69]\n",
      "['2020-03-12', 1, 29, '강원', 0, 6, 0, 0, 0, 1.88]\n",
      "['2020-03-12', 1, 178, '경기', 3, 27, 0, 0, 0, 1.34]\n",
      "['2020-03-12', 0, 15, '세종', 5, 0, 0, 0, 0, 4.38]\n",
      "['2020-03-12', 0, 25, '울산', 0, 3, 0, 0, 0, 2.18]\n",
      "['2020-03-12', 0, 20, '대전', 2, 2, 0, 0, 0, 1.36]\n",
      "['2020-03-12', 0, 15, '광주', 0, 4, 0, 0, 0, 1.03]\n",
      "['2020-03-12', 0, 25, '인천', 0, 4, 0, 0, 0, 0.85]\n",
      "['2020-03-12', 48, 5867, '대구', 73, 114, 0, 0, 0, 240.8]\n",
      "['2020-03-12', 0, 99, '부산', 1, 29, 0, 0, 0, 2.9]\n",
      "['2020-03-12', 0, 212, '서울', 19, 38, 0, 0, 0, 2.18]\n",
      "['2020-03-12', 66, 7869, '합계', 114, 333, 0, 0, 0, 15.18]\n",
      "['2020-03-11', 0, 4, '제주', 0, 1, 0, 0, 0, 0.6]\n",
      "['2020-03-11', 0, 84, '경남', 1, 10, 0, 0, 0, 2.5]\n",
      "['2020-03-11', 14, 1135, '경북', 18, 69, 0, 0, 0, 42.63]\n",
      "['2020-03-11', 0, 4, '전남', 0, 1, 0, 0, 0, 0.21]\n",
      "['2020-03-11', 0, 7, '전북', 0, 2, 0, 0, 0, 0.39]\n",
      "['2020-03-11', 0, 112, '충남', 8, 1, 0, 0, 0, 5.28]\n",
      "['2020-03-11', 0, 27, '충북', 2, 3, 0, 0, 0, 1.69]\n",
      "['2020-03-11', 1, 29, '강원', 1, 6, 0, 0, 0, 1.88]\n",
      "['2020-03-11', 1, 175, '경기', 12, 25, 0, 0, 0, 1.32]\n",
      "['2020-03-11', 0, 10, '세종', 2, 0, 0, 0, 0, 2.92]\n",
      "['2020-03-11', 0, 25, '울산', 1, 2, 0, 0, 0, 2.18]\n",
      "['2020-03-11', 0, 18, '대전', 0, 2, 0, 0, 0, 1.22]\n",
      "['2020-03-11', 0, 15, '광주', 0, 3, 0, 0, 0, 1.03]\n",
      "['2020-03-11', 0, 25, '인천', 12, 3, 0, 0, 0, 0.85]\n",
      "['2020-03-11', 43, 5794, '대구', 131, 102, 0, 0, 0, 237.8]\n",
      "['2020-03-11', 1, 98, '부산', 2, 21, 0, 0, 0, 2.87]\n",
      "['2020-03-11', 0, 193, '서울', 52, 37, 0, 0, 0, 1.98]\n",
      "['2020-03-11', 60, 7755, '합계', 242, 288, 0, 0, 0, 14.96]\n",
      "['2020-03-10', 0, 4, '제주', 0, 1, 0, 0, 0, 0.6]\n",
      "['2020-03-10', 0, 83, '경남', 0, 10, 0, 0, 0, 2.47]\n",
      "['2020-03-10', 14, 1117, '경북', 10, 60, 0, 0, 0, 41.95]\n",
      "['2020-03-10', 0, 4, '전남', 0, 1, 0, 0, 0, 0.21]\n",
      "['2020-03-10', 0, 7, '전북', 0, 2, 0, 0, 0, 0.39]\n",
      "['2020-03-10', 0, 104, '충남', 2, 1, 0, 0, 0, 4.9]\n",
      "['2020-03-10', 0, 25, '충북', 0, 3, 0, 0, 0, 1.56]\n",
      "['2020-03-10', 1, 28, '강원', 0, 6, 0, 0, 0, 1.82]\n",
      "['2020-03-10', 1, 163, '경기', 11, 22, 0, 0, 0, 1.23]\n",
      "['2020-03-10', 0, 8, '세종', 2, 0, 0, 0, 0, 2.34]\n",
      "['2020-03-10', 0, 24, '울산', 0, 1, 0, 0, 0, 2.09]\n",
      "['2020-03-10', 0, 18, '대전', -1, 1, 0, 0, 0, 1.22]\n",
      "['2020-03-10', 0, 15, '광주', 0, 3, 0, 0, 0, 1.03]\n",
      "['2020-03-10', 0, 13, '인천', 4, 3, 0, 0, 0, 0.44]\n",
      "['2020-03-10', 38, 5663, '대구', 92, 92, 0, 0, 0, 232.42]\n",
      "['2020-03-10', 0, 96, '부산', 0, 10, 0, 0, 0, 2.81]\n",
      "['2020-03-10', 0, 141, '서울', 11, 31, 0, 0, 0, 1.45]\n",
      "['2020-03-10', 54, 7513, '합계', 131, 247, 0, 0, 0, 14.49]\n",
      "['2020-03-09', 0, 4, '제주', 0, 1, 0, 0, 0, 0.6]\n",
      "['2020-03-09', 0, 83, '경남', 0, 9, 0, 0, 0, 2.5]\n",
      "['2020-03-09', 14, 1107, '경북', 26, 57, 0, 0, 0, 41.6]\n",
      "['2020-03-09', 0, 4, '전남', 0, 1, 0, 0, 0, 0.2]\n",
      "['2020-03-09', 0, 7, '전북', 0, 2, 0, 0, 0, 0.4]\n",
      "['2020-03-09', 0, 102, '충남', 4, 1, 0, 0, 0, 4.8]\n",
      "['2020-03-09', 0, 25, '충북', 1, 3, 0, 0, 0, 1.6]\n",
      "['2020-03-09', 1, 28, '강원', 1, 3, 0, 0, 0, 1.8]\n",
      "['2020-03-09', 1, 152, '경기', 11, 22, 0, 0, 0, 1.1]\n",
      "['2020-03-09', 0, 6, '세종', 3, 0, 0, 0, 0, 1.8]\n",
      "['2020-03-09', 0, 24, '울산', 0, 1, 0, 0, 0, 2.1]\n",
      "['2020-03-09', 0, 19, '대전', 1, 1, 0, 0, 0, 1.3]\n",
      "['2020-03-09', 0, 15, '광주', 2, 3, 0, 0, 0, 1.0]\n",
      "['2020-03-09', 0, 9, '인천', 0, 2, 0, 0, 0, 0.3]\n",
      "['2020-03-09', 35, 5571, '대구', 190, 21, 0, 0, 0, 228.6]\n",
      "['2020-03-09', 0, 96, '부산', -1, 10, 0, 0, 0, 2.8]\n",
      "['2020-03-09', 0, 130, '서울', 10, 29, 0, 0, 0, 1.3]\n",
      "['2020-03-09', 51, 7382, '합계', 248, 166, 0, 0, 0, 14.2]\n",
      "['2020-03-08', 0, 4, '제주', 0, 0, 0, 0, 0, 0.6]\n",
      "['2020-03-08', 0, 83, '경남', 1, 0, 0, 0, 0, 2.5]\n",
      "['2020-03-08', 12, 1081, '경북', 32, 0, 0, 0, 0, 40.6]\n",
      "['2020-03-08', 0, 4, '전남', 0, 0, 0, 0, 0, 0.2]\n",
      "['2020-03-08', 0, 7, '전북', 0, 0, 0, 0, 0, 0.4]\n",
      "['2020-03-08', 0, 98, '충남', 6, 0, 0, 0, 0, 4.6]\n",
      "['2020-03-08', 0, 24, '충북', 4, 0, 0, 0, 0, 1.5]\n",
      "['2020-03-08', 1, 27, '강원', 1, 0, 0, 0, 0, 1.8]\n",
      "['2020-03-08', 1, 141, '경기', 11, 0, 0, 0, 0, 1.1]\n",
      "['2020-03-08', 0, 3, '세종', 1, 0, 0, 0, 0, 0.9]\n",
      "['2020-03-08', 0, 24, '울산', 1, 0, 0, 0, 0, 2.1]\n",
      "['2020-03-08', 0, 18, '대전', 0, 0, 0, 0, 0, 1.2]\n",
      "['2020-03-08', 0, 13, '광주', 0, 0, 0, 0, 0, 0.9]\n",
      "['2020-03-08', 0, 9, '인천', 0, 0, 0, 0, 0, 0.3]\n",
      "['2020-03-08', 35, 5381, '대구', 297, 0, 0, 0, 0, 220.9]\n",
      "['2020-03-08', 1, 97, '부산', 1, 0, 0, 0, 0, 2.8]\n",
      "['2020-03-08', 0, 120, '서울', 12, 0, 0, 0, 0, 1.2]\n",
      "['2020-03-08', 50, 7134, '합계', 367, 0, 0, 0, 0, 13.8]\n",
      "['2020-03-07', 0, 4, '제주', 0, 0, 0, 0, 0, 0.1]\n",
      "['2020-03-07', 0, 82, '경남', 5, 0, 0, 0, 0, 1.2]\n",
      "['2020-03-07', 10, 1049, '경북', 65, 0, 0, 0, 0, 15.5]\n",
      "['2020-03-07', 0, 4, '전남', 0, 0, 0, 0, 0, 0.1]\n",
      "['2020-03-07', 0, 7, '전북', 0, 0, 0, 0, 0, 0.1]\n",
      "['2020-03-07', 0, 92, '충남', 2, 0, 0, 0, 0, 1.4]\n",
      "['2020-03-07', 0, 20, '충북', 5, 0, 0, 0, 0, 0.3]\n",
      "['2020-03-07', 1, 26, '강원', 1, 0, 0, 0, 0, 0.4]\n",
      "['2020-03-07', 1, 130, '경기', 10, 0, 0, 0, 0, 1.9]\n",
      "['2020-03-07', 0, 2, '세종', 1, 0, 0, 0, 0, 0.6]\n",
      "['2020-03-07', 0, 23, '울산', 0, 0, 0, 0, 0, 2.0]\n",
      "['2020-03-07', 0, 18, '대전', 0, 0, 0, 0, 0, 1.2]\n",
      "['2020-03-07', 0, 13, '광주', 0, 0, 0, 0, 0, 0.9]\n",
      "['2020-03-07', 0, 9, '인천', 0, 0, 0, 0, 0, 0.3]\n",
      "['2020-03-07', 31, 5084, '대구', 390, 0, 0, 0, 0, 208.7]\n",
      "['2020-03-07', 1, 96, '부산', 1, 0, 0, 0, 0, 2.8]\n",
      "['2020-03-07', 0, 108, '서울', 3, 0, 0, 0, 0, 1.1]\n",
      "['2020-03-07', 44, 6767, '합계', 483, 0, 0, 0, 0, 12.1]\n",
      "['2020-03-06', 0, 4, '제주', 0, 0, 0, 0, 0, 0.6]\n",
      "['2020-03-06', 0, 77, '경남', 3, 0, 0, 0, 0, 2.3]\n",
      "['2020-03-06', 10, 984, '경북', 123, 0, 0, 0, 0, 37.0]\n",
      "['2020-03-06', 0, 4, '전남', 0, 0, 0, 0, 0, 0.2]\n",
      "['2020-03-06', 0, 7, '전북', 0, 0, 0, 0, 0, 0.4]\n",
      "['2020-03-06', 0, 90, '충남', 4, 0, 0, 0, 0, 4.2]\n",
      "['2020-03-06', 0, 15, '충북', 3, 0, 0, 0, 0, 0.9]\n",
      "['2020-03-06', 0, 25, '강원', 2, 0, 0, 0, 0, 1.6]\n",
      "['2020-03-06', 1, 120, '경기', 10, 0, 0, 0, 0, 0.9]\n",
      "['2020-03-06', 0, 1, '세종', 0, 0, 0, 0, 0, 0.3]\n",
      "['2020-03-06', 0, 23, '울산', 0, 0, 0, 0, 0, 2.0]\n",
      "['2020-03-06', 0, 18, '대전', 2, 0, 0, 0, 0, 1.2]\n",
      "['2020-03-06', 0, 13, '광주', -1, 0, 0, 0, 0, 0.9]\n",
      "['2020-03-06', 0, 9, '인천', 0, 0, 0, 0, 0, 0.3]\n",
      "['2020-03-06', 30, 4694, '대구', 367, 0, 0, 0, 0, 192.7]\n",
      "['2020-03-06', 1, 95, '부산', 3, 0, 0, 0, 0, 2.8]\n",
      "['2020-03-06', 0, 105, '서울', 2, 0, 0, 0, 0, 1.1]\n",
      "['2020-03-06', 42, 6284, '합계', 518, 0, 0, 0, 0, 12.1]\n",
      "['2020-03-05', 0, 4, '제주', 1, 0, 0, 0, 0, 0.6]\n",
      "['2020-03-05', 0, 74, '경남', 9, 0, 0, 0, 0, 2.2]\n",
      "['2020-03-05', 6, 861, '경북', 87, 0, 0, 0, 0, 32.3]\n",
      "['2020-03-05', 0, 4, '전남', -1, 0, 0, 0, 0, 0.2]\n",
      "['2020-03-05', 0, 7, '전북', 0, 0, 0, 0, 0, 0.4]\n",
      "['2020-03-05', 0, 86, '충남', 4, 0, 0, 0, 0, 4.1]\n",
      "['2020-03-05', 0, 12, '충북', 1, 0, 0, 0, 0, 0.8]\n",
      "['2020-03-05', 0, 23, '강원', 2, 0, 0, 0, 0, 1.5]\n",
      "['2020-03-05', 1, 110, '경기', 9, 0, 0, 0, 0, 0.8]\n",
      "['2020-03-05', 0, 1, '세종', 0, 0, 0, 0, 0, 0.3]\n",
      "['2020-03-05', 0, 23, '울산', 0, 0, 0, 0, 0, 2.0]\n",
      "['2020-03-05', 0, 16, '대전', 1, 0, 0, 0, 0, 1.1]\n",
      "['2020-03-05', 0, 14, '광주', 1, 0, 0, 0, 0, 1.0]\n",
      "['2020-03-05', 0, 9, '인천', 0, 0, 0, 0, 0, 0.3]\n",
      "['2020-03-05', 27, 4327, '대구', 321, 0, 0, 0, 0, 177.6]\n",
      "['2020-03-05', 1, 92, '부산', -1, 0, 0, 0, 0, 2.7]\n",
      "['2020-03-05', 0, 103, '서울', 4, 0, 0, 0, 0, 1.1]\n",
      "['2020-03-05', 35, 5766, '합계', 438, 0, 0, 0, 0, 11.1]\n",
      "['2020-03-04', 0, 3, '제주', 0, 0, 0, 0, 0, 0.4]\n",
      "['2020-03-04', 0, 65, '경남', 1, 0, 0, 0, 0, 1.9]\n",
      "['2020-03-04', 6, 774, '경북', 89, 0, 0, 0, 0, 29.1]\n",
      "['2020-03-04', 0, 5, '전남', 0, 0, 0, 0, 0, 0.3]\n",
      "['2020-03-04', 0, 7, '전북', 0, 0, 0, 0, 0, 0.4]\n",
      "['2020-03-04', 0, 82, '충남', 1, 0, 0, 0, 0, 3.9]\n",
      "['2020-03-04', 0, 11, '충북', 0, 0, 0, 0, 0, 0.7]\n",
      "['2020-03-04', 0, 21, '강원', 1, 0, 0, 0, 0, 1.4]\n",
      "['2020-03-04', 1, 101, '경기', 7, 0, 0, 0, 0, 0.8]\n",
      "['2020-03-04', 0, 1, '세종', 0, 0, 0, 0, 0, 0.3]\n",
      "['2020-03-04', 0, 23, '울산', 3, 0, 0, 0, 0, 2.0]\n",
      "['2020-03-04', 0, 15, '대전', 1, 0, 0, 0, 0, 1.0]\n",
      "['2020-03-04', 0, 13, '광주', 2, 0, 0, 0, 0, 0.9]\n",
      "['2020-03-04', 0, 9, '인천', 2, 0, 0, 0, 0, 0.3]\n",
      "['2020-03-04', 24, 4006, '대구', 405, 0, 0, 0, 0, 164.4]\n",
      "['2020-03-04', 1, 93, '부산', 3, 0, 0, 0, 0, 2.7]\n",
      "['2020-03-04', 0, 99, '서울', 1, 0, 0, 0, 0, 1.0]\n",
      "['2020-03-04', 32, 5328, '합계', 516, 0, 0, 0, 0, 10.3]\n",
      "['2020-03-01', 0, 0, '검역', 0, 0, 0, 0, 0, 0.0]\n",
      "['2020-03-01', 0, 0, '제주', 0, 0, 0, 0, 0, 0.0]\n",
      "['2020-03-01', 0, 0, '경남', 4, 0, 0, 0, 0, 0.0]\n",
      "['2020-03-01', 8, 0, '경북', 67, 0, 0, 0, 0, 0.0]\n",
      "['2020-03-01', 0, 0, '전남', 0, 0, 0, 0, 0, 0.0]\n",
      "['2020-03-01', 0, 0, '전북', 1, 0, 0, 0, 0, 0.0]\n",
      "['2020-03-01', 0, 0, '충남', 13, 0, 0, 0, 0, 0.0]\n",
      "['2020-03-01', 0, 0, '충북', 1, 0, 0, 0, 0, 0.0]\n",
      "['2020-03-01', 0, 0, '강원', 8, 0, 0, 0, 0, 0.0]\n",
      "['2020-03-01', 1, 0, '경기', 7, 0, 0, 0, 0, 0.0]\n",
      "['2020-03-01', 0, 0, '세종', 0, 0, 0, 0, 0, 0.0]\n",
      "['2020-03-01', 0, 0, '울산', 3, 0, 0, 0, 0, 0.0]\n",
      "['2020-03-01', 0, 0, '대전', 0, 0, 0, 0, 0, 0.0]\n",
      "['2020-03-01', 0, 0, '광주', 0, 0, 0, 0, 0, 0.0]\n",
      "['2020-03-01', 0, 0, '인천', 0, 0, 0, 0, 0, 0.0]\n",
      "['2020-03-01', 9, 0, '대구', 469, 0, 0, 0, 0, 0.0]\n",
      "['2020-03-01', 0, 0, '부산', 3, 0, 0, 0, 0, 0.0]\n",
      "['2020-03-01', 0, 0, '서울', 10, 0, 0, 0, 0, 0.0]\n",
      "['2020-03-01', 18, 0, '합계', 586, 0, 0, 0, 0, 0.0]\n"
     ]
    }
   ],
   "source": [
    "for i in df_region.index:    \n",
    "    params=[]\n",
    "    params = [df_region['기준시간'][i], int(df_region['사망자'][i]), int(df_region['확진자'][i]), \n",
    "              df_region['광역시도'][i], int(df_region['전일대비'][i]), int(df_region['격리해제'][i]), \n",
    "              int(df_region['격리중'][i]), int(df_region['지역발생'][i]), int(df_region['해외유입'][i])]\n",
    "    params.append(None if df_region['10만명당'][i]=='-' else float(df_region['10만명당'][i]))\n",
    "    print(params)"
   ]
  },
  {
   "cell_type": "code",
   "execution_count": 62,
   "metadata": {},
   "outputs": [
    {
     "output_type": "execute_result",
     "data": {
      "text/plain": [
       "[(39, '2020-12-20', 1, 2333, '검역', 9, 1657, 675, 0, 9, None),\n",
       " (40, '2020-12-20', 0, 229, '제주', 24, 93, 136, 24, 0, 34.14),\n",
       " (41, '2020-12-20', 2, 1062, '경남', 51, 734, 326, 49, 2, 31.59),\n",
       " (42, '2020-12-20', 60, 1987, '경북', 25, 1711, 216, 23, 2, 74.63),\n",
       " (43, '2020-12-20', 5, 499, '전남', 4, 418, 76, 4, 0, 26.76),\n",
       " (44, '2020-12-20', 6, 675, '전북', 29, 439, 230, 29, 0, 37.14),\n",
       " (45, '2020-12-20', 17, 1272, '충남', 20, 942, 313, 19, 1, 59.93),\n",
       " (46, '2020-12-20', 11, 770, '충북', 14, 415, 344, 14, 0, 48.14),\n",
       " (47, '2020-12-20', 13, 951, '강원', 55, 684, 254, 55, 0, 61.73),\n",
       " (48, '2020-12-20', 164, 11702, '경기', 249, 8082, 3456, 244, 5, 88.31),\n",
       " (49, '2020-12-20', 0, 129, '세종', 1, 121, 8, 0, 1, 37.68),\n",
       " (50, '2020-12-20', 14, 545, '울산', 6, 270, 261, 5, 1, 47.51),\n",
       " (51, '2020-12-20', 6, 696, '대전', 3, 559, 131, 3, 0, 47.21),\n",
       " (52, '2020-12-20', 3, 866, '광주', 14, 747, 116, 13, 1, 59.45),\n",
       " (53, '2020-12-20', 15, 2248, '인천', 62, 1573, 660, 62, 0, 76.05),\n",
       " (54, '2020-12-20', 200, 7497, '대구', 25, 7075, 222, 25, 0, 307.7),\n",
       " (55, '2020-12-20', 27, 1493, '부산', 33, 982, 484, 33, 0, 43.76),\n",
       " (56, '2020-12-20', 130, 14711, '서울', 473, 8220, 6361, 470, 3, 151.14),\n",
       " (57, '2020-12-20', 674, 49665, '합계', 1097, 34722, 14269, 1072, 25, 95.79)]"
      ]
     },
     "metadata": {},
     "execution_count": 62
    }
   ],
   "source": [
    "conn = sqlite3.connect('./covid.db')\n",
    "cur = conn.cursor()\n",
    "sql_select = \"select * from region where stdDay = ?;\"\n",
    "cur.execute(sql_select,('2020-12-20',))\n",
    "rows = cur.fetchall()\n",
    "rows"
   ]
  },
  {
   "cell_type": "code",
   "execution_count": 56,
   "metadata": {},
   "outputs": [
    {
     "output_type": "stream",
     "name": "stdout",
     "text": [
      "2020-03-07\n0\n5\n65\n0\n0\n2\n5\n1\n10\n1\n0\n0\n0\n0\n390\n1\n3\n483\n"
     ]
    }
   ],
   "source": [
    "import sqlite3\n",
    "conn = sqlite3.connect('./covid.db')\n",
    "cur = conn.cursor()\n",
    "sql_select = 'select * from daily where ilja= ?;' \n",
    "cur.execute(sql_select, ('2020-03-07',))\n",
    "rows = cur.fetchall()\n",
    "for row in rows:\n",
    "    for i in range(19):\n",
    "        print(row[i])"
   ]
  },
  {
   "cell_type": "code",
   "execution_count": 102,
   "metadata": {},
   "outputs": [
    {
     "output_type": "stream",
     "name": "stdout",
     "text": [
      "[2.64, 5.54, 19.47, 12.42, 13.48, 18.31, 15.87, 7.96, 4.32, 53.36, 46.64]\n"
     ]
    }
   ],
   "source": [
    "import sqlite3\n",
    "conn = sqlite3.connect('./covid.db')\n",
    "cur = conn.cursor()\n",
    "sql_select = 'select * from agender where createDt= ?;' \n",
    "cur.execute(sql_select, ('2020-11-03',))\n",
    "rows = cur.fetchall()\n",
    "data_list = []\n",
    "for row in rows:\n",
    "    data_list.append(row[3])\n",
    "print(data_list)"
   ]
  },
  {
   "cell_type": "code",
   "execution_count": 187,
   "metadata": {},
   "outputs": [
    {
     "output_type": "stream",
     "name": "stdout",
     "text": [
      "('2020-12-14', 587, 43484, '합계', 718, 32102, 10795, 682, 36, 83.87)\n('2020-12-15', 600, 44364, '합계', 880, 32559, 11205, 848, 32, 85.57)\n('2020-12-16', 612, 45442, '합계', 1078, 32947, 11883, 1054, 24, 87.65)\n('2020-12-17', 634, 46453, '합계', 1014, 33610, 12209, 993, 21, 89.6)\n('2020-12-18', 645, 47515, '합계', 1062, 33982, 12888, 1036, 26, 91.64)\n('2020-12-19', 659, 48570, '합계', 1053, 34334, 13577, 1029, 24, 93.68)\n('2020-12-20', 674, 49665, '합계', 1097, 34722, 14269, 1072, 25, 95.79)\n('2020-12-21', 698, 50591, '합계', 926, 35155, 14738, 892, 34, 154.51)\n('2020-12-22', 722, 51460, '합계', 869, 35928, 14810, 824, 45, 99.25)\n('2020-12-23', 739, 52550, '합계', 1092, 36726, 15085, 1060, 32, 101.35)\n"
     ]
    }
   ],
   "source": [
    "import sqlite3\n",
    "conn = sqlite3.connect('./covid.db')\n",
    "cur = conn.cursor()\n",
    "gubun = ('합계',)\n",
    "sql_select = 'select * from daily where gubun= ? order by stdDay limit 10 offset 284'\n",
    "cur.execute(sql_select, gubun)\n",
    "rows = cur.fetchall()\n",
    "for row in rows:\n",
    "    print(row)"
   ]
  },
  {
   "cell_type": "code",
   "execution_count": 190,
   "metadata": {},
   "outputs": [
    {
     "output_type": "stream",
     "name": "stdout",
     "text": [
      "294\n"
     ]
    }
   ],
   "source": [
    "import sqlite3\n",
    "conn = sqlite3.connect('./covid.db')\n",
    "cur = conn.cursor()\n",
    "gubun = ('합계',)\n",
    "sql_select = 'select count(*) from daily where gubun=?'\n",
    "cur.execute(sql_select, gubun)\n",
    "row = cur.fetchone()\n",
    "\n",
    "print(row[0])"
   ]
  },
  {
   "cell_type": "code",
   "execution_count": null,
   "metadata": {},
   "outputs": [],
   "source": []
  }
 ]
}