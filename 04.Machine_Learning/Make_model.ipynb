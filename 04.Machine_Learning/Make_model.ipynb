{
 "metadata": {
  "language_info": {
   "codemirror_mode": {
    "name": "ipython",
    "version": 3
   },
   "file_extension": ".py",
   "mimetype": "text/x-python",
   "name": "python",
   "nbconvert_exporter": "python",
   "pygments_lexer": "ipython3",
   "version": "3.8.3-final"
  },
  "orig_nbformat": 2,
  "kernelspec": {
   "name": "python3",
   "display_name": "Python 3",
   "language": "python"
  }
 },
 "nbformat": 4,
 "nbformat_minor": 2,
 "cells": [
  {
   "source": [
    "# 데이터 처리 모델 만들기"
   ],
   "cell_type": "markdown",
   "metadata": {}
  },
  {
   "cell_type": "code",
   "execution_count": 1,
   "metadata": {},
   "outputs": [],
   "source": [
    "import pandas as pd"
   ]
  },
  {
   "cell_type": "code",
   "execution_count": 2,
   "metadata": {},
   "outputs": [],
   "source": [
    "from sklearn.tree import DecisionTreeClassifier\n",
    "from sklearn.svm import SVC\n",
    "from sklearn.linear_model import LogisticRegression\n",
    "from sklearn.neighbors import KNeighborsClassifier\n",
    "from sklearn.ensemble import RandomForestClassifier"
   ]
  },
  {
   "cell_type": "code",
   "execution_count": 3,
   "metadata": {},
   "outputs": [],
   "source": [
    "from sklearn.model_selection import GridSearchCV"
   ]
  },
  {
   "cell_type": "code",
   "execution_count": 4,
   "metadata": {},
   "outputs": [],
   "source": [
    "from sklearn.metrics import accuracy_score"
   ]
  },
  {
   "cell_type": "code",
   "execution_count": 5,
   "metadata": {},
   "outputs": [],
   "source": [
    "import joblib"
   ]
  },
  {
   "source": [
    "### 유방암 데이터"
   ],
   "cell_type": "markdown",
   "metadata": {}
  },
  {
   "cell_type": "code",
   "execution_count": 6,
   "metadata": {},
   "outputs": [],
   "source": [
    "breast_train = pd.read_csv('./static/data/breast_train.csv')\n",
    "breast_test = pd.read_csv('./static/data/breast_test.csv')\n",
    "X_train = breast_train.iloc[:,:-1]\n",
    "X_test = breast_test.iloc[:,:-1]\n",
    "y_train = breast_train['target']\n",
    "y_test = breast_test['target']"
   ]
  },
  {
   "cell_type": "code",
   "execution_count": 7,
   "metadata": {},
   "outputs": [],
   "source": [
    "breast_dtclf = DecisionTreeClassifier()\n",
    "breast_svc = SVC()\n",
    "breast_lr = LogisticRegression()\n",
    "breast_knn = KNeighborsClassifier()\n",
    "breast_rfclf = RandomForestClassifier()"
   ]
  },
  {
   "cell_type": "code",
   "execution_count": 8,
   "metadata": {},
   "outputs": [
    {
     "output_type": "execute_result",
     "data": {
      "text/plain": [
       "{'ccp_alpha': 0.0,\n",
       " 'class_weight': None,\n",
       " 'criterion': 'gini',\n",
       " 'max_depth': None,\n",
       " 'max_features': None,\n",
       " 'max_leaf_nodes': None,\n",
       " 'min_impurity_decrease': 0.0,\n",
       " 'min_impurity_split': None,\n",
       " 'min_samples_leaf': 1,\n",
       " 'min_samples_split': 2,\n",
       " 'min_weight_fraction_leaf': 0.0,\n",
       " 'presort': 'deprecated',\n",
       " 'random_state': None,\n",
       " 'splitter': 'best'}"
      ]
     },
     "metadata": {},
     "execution_count": 8
    }
   ],
   "source": [
    "breast_dtclf.get_params()"
   ]
  },
  {
   "cell_type": "code",
   "execution_count": 9,
   "metadata": {},
   "outputs": [],
   "source": [
    "params = {\n",
    "    'ccp_alpha': [0 ,1, 10],\n",
    "    'min_samples_leaf': [3,4,5,6,7],\n",
    "    'min_samples_split': [3, 4, 5, 8, 10]\n",
    "}"
   ]
  },
  {
   "cell_type": "code",
   "execution_count": 10,
   "metadata": {},
   "outputs": [
    {
     "output_type": "stream",
     "name": "stdout",
     "text": [
      "최고 평균 정확도: 0.9343\n최적 파라미터:  {'ccp_alpha': 0, 'min_samples_leaf': 3, 'min_samples_split': 3}\n"
     ]
    }
   ],
   "source": [
    "grid_cv = GridSearchCV(breast_dtclf, param_grid=params, cv=3, n_jobs=-1)\n",
    "grid_cv.fit(X_train,y_train)\n",
    "print(f'최고 평균 정확도: {grid_cv.best_score_:.4f}')\n",
    "print('최적 파라미터: ', grid_cv.best_params_)"
   ]
  },
  {
   "cell_type": "code",
   "execution_count": 11,
   "metadata": {},
   "outputs": [
    {
     "output_type": "execute_result",
     "data": {
      "text/plain": [
       "0.951048951048951"
      ]
     },
     "metadata": {},
     "execution_count": 11
    }
   ],
   "source": [
    "best_breast_dtclf = grid_cv.best_estimator_\n",
    "pred = best_breast_dtclf.predict(X_test)\n",
    "accuracy_score(y_test, pred)"
   ]
  },
  {
   "cell_type": "code",
   "execution_count": 12,
   "metadata": {},
   "outputs": [
    {
     "output_type": "execute_result",
     "data": {
      "text/plain": [
       "['static/model/best_breast_dtclf.pkl']"
      ]
     },
     "metadata": {},
     "execution_count": 12
    }
   ],
   "source": [
    "joblib.dump(best_breast_dtclf, 'static/model/best_breast_dtclf.pkl')"
   ]
  },
  {
   "cell_type": "code",
   "execution_count": 13,
   "metadata": {},
   "outputs": [
    {
     "output_type": "execute_result",
     "data": {
      "text/plain": [
       "{'C': 1.0,\n",
       " 'break_ties': False,\n",
       " 'cache_size': 200,\n",
       " 'class_weight': None,\n",
       " 'coef0': 0.0,\n",
       " 'decision_function_shape': 'ovr',\n",
       " 'degree': 3,\n",
       " 'gamma': 'scale',\n",
       " 'kernel': 'rbf',\n",
       " 'max_iter': -1,\n",
       " 'probability': False,\n",
       " 'random_state': None,\n",
       " 'shrinking': True,\n",
       " 'tol': 0.001,\n",
       " 'verbose': False}"
      ]
     },
     "metadata": {},
     "execution_count": 13
    }
   ],
   "source": [
    "breast_svc.get_params()"
   ]
  },
  {
   "cell_type": "code",
   "execution_count": 14,
   "metadata": {},
   "outputs": [
    {
     "output_type": "execute_result",
     "data": {
      "text/plain": [
       "0.9300699300699301"
      ]
     },
     "metadata": {},
     "execution_count": 14
    }
   ],
   "source": [
    "params = {\n",
    "    'C': [0 ,1, 10, 100],\n",
    "    'cache_size': [150,200,250],\n",
    "    'degree': [1,2,3,4,5]\n",
    "}\n",
    "grid_cv = GridSearchCV(breast_svc, param_grid=params, cv=3, n_jobs=-1)\n",
    "grid_cv.fit(X_train,y_train)\n",
    "best_breast_svc = grid_cv.best_estimator_\n",
    "pred = best_breast_svc.predict(X_test)\n",
    "accuracy_score(y_test, pred)"
   ]
  },
  {
   "cell_type": "code",
   "execution_count": 15,
   "metadata": {},
   "outputs": [
    {
     "output_type": "execute_result",
     "data": {
      "text/plain": [
       "['static/model/best_breast_svc.pkl']"
      ]
     },
     "metadata": {},
     "execution_count": 15
    }
   ],
   "source": [
    "joblib.dump(best_breast_svc, 'static/model/best_breast_svc.pkl')"
   ]
  },
  {
   "cell_type": "code",
   "execution_count": 16,
   "metadata": {},
   "outputs": [
    {
     "output_type": "execute_result",
     "data": {
      "text/plain": [
       "{'C': 1.0,\n",
       " 'class_weight': None,\n",
       " 'dual': False,\n",
       " 'fit_intercept': True,\n",
       " 'intercept_scaling': 1,\n",
       " 'l1_ratio': None,\n",
       " 'max_iter': 100,\n",
       " 'multi_class': 'auto',\n",
       " 'n_jobs': None,\n",
       " 'penalty': 'l2',\n",
       " 'random_state': None,\n",
       " 'solver': 'lbfgs',\n",
       " 'tol': 0.0001,\n",
       " 'verbose': 0,\n",
       " 'warm_start': False}"
      ]
     },
     "metadata": {},
     "execution_count": 16
    }
   ],
   "source": [
    "breast_lr.get_params()"
   ]
  },
  {
   "cell_type": "code",
   "execution_count": 17,
   "metadata": {},
   "outputs": [
    {
     "output_type": "execute_result",
     "data": {
      "text/plain": [
       "0.9440559440559441"
      ]
     },
     "metadata": {},
     "execution_count": 17
    }
   ],
   "source": [
    "params = {\n",
    "    'C': [0,1,2,3,4,5,6,7,8,9,10],\n",
    "    'max_iter': [50,100,150,200,250],\n",
    "}\n",
    "grid_cv = GridSearchCV(breast_lr, param_grid=params, cv=3, n_jobs=-1)\n",
    "grid_cv.fit(X_train,y_train)\n",
    "best_breast_lr = grid_cv.best_estimator_\n",
    "pred = best_breast_lr.predict(X_test)\n",
    "accuracy_score(y_test, pred)"
   ]
  },
  {
   "cell_type": "code",
   "execution_count": 18,
   "metadata": {},
   "outputs": [
    {
     "output_type": "execute_result",
     "data": {
      "text/plain": [
       "['static/model/best_breast_lr.pkl']"
      ]
     },
     "metadata": {},
     "execution_count": 18
    }
   ],
   "source": [
    "joblib.dump(best_breast_lr, 'static/model/best_breast_lr.pkl')"
   ]
  },
  {
   "cell_type": "code",
   "execution_count": 19,
   "metadata": {},
   "outputs": [
    {
     "output_type": "execute_result",
     "data": {
      "text/plain": [
       "{'algorithm': 'auto',\n",
       " 'leaf_size': 30,\n",
       " 'metric': 'minkowski',\n",
       " 'metric_params': None,\n",
       " 'n_jobs': None,\n",
       " 'n_neighbors': 5,\n",
       " 'p': 2,\n",
       " 'weights': 'uniform'}"
      ]
     },
     "metadata": {},
     "execution_count": 19
    }
   ],
   "source": [
    "breast_knn.get_params()"
   ]
  },
  {
   "cell_type": "code",
   "execution_count": 20,
   "metadata": {},
   "outputs": [
    {
     "output_type": "execute_result",
     "data": {
      "text/plain": [
       "0.9440559440559441"
      ]
     },
     "metadata": {},
     "execution_count": 20
    }
   ],
   "source": [
    "params = {\n",
    "    'leaf_size': [20,25,30,35,40],\n",
    "    'n_neighbors': [3,4,5,6,7],\n",
    "    'p': [1,2,3]\n",
    "}\n",
    "grid_cv = GridSearchCV(breast_knn, param_grid=params, cv=3, n_jobs=-1)\n",
    "grid_cv.fit(X_train,y_train)\n",
    "best_breast_knn = grid_cv.best_estimator_\n",
    "pred = best_breast_knn.predict(X_test)\n",
    "accuracy_score(y_test, pred)"
   ]
  },
  {
   "cell_type": "code",
   "execution_count": 21,
   "metadata": {},
   "outputs": [
    {
     "output_type": "execute_result",
     "data": {
      "text/plain": [
       "['static/model/best_breast_knn.pkl']"
      ]
     },
     "metadata": {},
     "execution_count": 21
    }
   ],
   "source": [
    "joblib.dump(best_breast_knn, 'static/model/best_breast_knn.pkl')"
   ]
  },
  {
   "cell_type": "code",
   "execution_count": 22,
   "metadata": {},
   "outputs": [
    {
     "output_type": "execute_result",
     "data": {
      "text/plain": [
       "{'bootstrap': True,\n",
       " 'ccp_alpha': 0.0,\n",
       " 'class_weight': None,\n",
       " 'criterion': 'gini',\n",
       " 'max_depth': None,\n",
       " 'max_features': 'auto',\n",
       " 'max_leaf_nodes': None,\n",
       " 'max_samples': None,\n",
       " 'min_impurity_decrease': 0.0,\n",
       " 'min_impurity_split': None,\n",
       " 'min_samples_leaf': 1,\n",
       " 'min_samples_split': 2,\n",
       " 'min_weight_fraction_leaf': 0.0,\n",
       " 'n_estimators': 100,\n",
       " 'n_jobs': None,\n",
       " 'oob_score': False,\n",
       " 'random_state': None,\n",
       " 'verbose': 0,\n",
       " 'warm_start': False}"
      ]
     },
     "metadata": {},
     "execution_count": 22
    }
   ],
   "source": [
    "breast_rfclf.get_params()"
   ]
  },
  {
   "cell_type": "code",
   "execution_count": 23,
   "metadata": {},
   "outputs": [
    {
     "output_type": "execute_result",
     "data": {
      "text/plain": [
       "0.965034965034965"
      ]
     },
     "metadata": {},
     "execution_count": 23
    }
   ],
   "source": [
    "params = {\n",
    "    'ccp_alpha': [0,1,2,3,4,5],\n",
    "    'min_samples_leaf': [1,2,3,4,5],\n",
    "    'min_samples_split': [1,2,3,4,5],\n",
    "    'n_estimators':[50,75,100,125,150]\n",
    "}\n",
    "grid_cv = GridSearchCV(breast_rfclf, param_grid=params, cv=3, n_jobs=-1)\n",
    "grid_cv.fit(X_train,y_train)\n",
    "best_breast_rfclf = grid_cv.best_estimator_\n",
    "pred = best_breast_rfclf.predict(X_test)\n",
    "accuracy_score(y_test, pred)"
   ]
  },
  {
   "cell_type": "code",
   "execution_count": 24,
   "metadata": {},
   "outputs": [
    {
     "output_type": "execute_result",
     "data": {
      "text/plain": [
       "['static/model/best_breast_rfclf.pkl']"
      ]
     },
     "metadata": {},
     "execution_count": 24
    }
   ],
   "source": [
    "joblib.dump(best_breast_rfclf, 'static/model/best_breast_rfclf.pkl')"
   ]
  },
  {
   "cell_type": "code",
   "execution_count": 25,
   "metadata": {},
   "outputs": [
    {
     "output_type": "execute_result",
     "data": {
      "text/plain": [
       "1"
      ]
     },
     "metadata": {},
     "execution_count": 25
    }
   ],
   "source": [
    "y_test[142]"
   ]
  },
  {
   "source": [
    "### 당뇨병 데이터"
   ],
   "cell_type": "markdown",
   "metadata": {}
  },
  {
   "cell_type": "code",
   "execution_count": 56,
   "metadata": {},
   "outputs": [],
   "source": [
    "diabetes_train = pd.read_csv('./static/data/diabetes_train.csv')\n",
    "diabetes_test = pd.read_csv('./static/data/diabetes_test.csv')\n",
    "X_train = diabetes_train.iloc[:,:-1]\n",
    "X_test = diabetes_test.iloc[:,:-1]\n",
    "y_train = diabetes_train.iloc[:,-1]\n",
    "y_test = diabetes_test.iloc[:,-1]\n",
    "from sklearn.preprocessing import StandardScaler\n",
    "scaler = StandardScaler()\n",
    "X_train = scaler.fit_transform(X_train)\n",
    "X_test= scaler.fit_transform(X_test)"
   ]
  },
  {
   "cell_type": "code",
   "execution_count": 58,
   "metadata": {},
   "outputs": [],
   "source": [
    "diabetes_dtclf = DecisionTreeClassifier()\n",
    "diabetes_svc = SVC()\n",
    "diabetes_lr = LogisticRegression()\n",
    "diabetes_knn = KNeighborsClassifier()\n",
    "diabetes_rfclf = RandomForestClassifier()"
   ]
  },
  {
   "cell_type": "code",
   "execution_count": 59,
   "metadata": {},
   "outputs": [
    {
     "output_type": "stream",
     "name": "stdout",
     "text": [
      "최고 평균 정확도: 0.7014\n최적 파라미터:  {'ccp_alpha': 0, 'min_samples_leaf': 2, 'min_samples_split': 2}\n0.7135416666666666\n"
     ]
    }
   ],
   "source": [
    "params = {\n",
    "    'ccp_alpha': [0 ,1, 2,3, 4, 5,6,7,8,9, 10],\n",
    "    'min_samples_leaf': [1,2,3,4,5,6,7,8,9],\n",
    "    'min_samples_split': [1,2, 3, 4, 5,6,7,8,9]\n",
    "}\n",
    "grid_cv = GridSearchCV(diabetes_dtclf, param_grid=params, cv=3, n_jobs=-1)\n",
    "grid_cv.fit(X_train,y_train)\n",
    "print(f'최고 평균 정확도: {grid_cv.best_score_:.4f}')\n",
    "print('최적 파라미터: ', grid_cv.best_params_)\n",
    "best_diabetes_dtclf = grid_cv.best_estimator_\n",
    "pred = best_diabetes_dtclf.predict(X_test)\n",
    "print(accuracy_score(y_test, pred))"
   ]
  },
  {
   "cell_type": "code",
   "execution_count": 65,
   "metadata": {},
   "outputs": [
    {
     "output_type": "execute_result",
     "data": {
      "text/plain": [
       "['static/model/best_diabetes_dtclf.pkl']"
      ]
     },
     "metadata": {},
     "execution_count": 65
    }
   ],
   "source": [
    "joblib.dump(best_diabetes_dtclf, 'static/model/best_diabetes_dtclf.pkl')"
   ]
  },
  {
   "cell_type": "code",
   "execution_count": 60,
   "metadata": {},
   "outputs": [
    {
     "output_type": "stream",
     "name": "stdout",
     "text": [
      "최고 평균 정확도: 0.7153\n최적 파라미터:  {'C': 7, 'cache_size': 1, 'degree': 1}\n"
     ]
    },
    {
     "output_type": "execute_result",
     "data": {
      "text/plain": [
       "0.7708333333333334"
      ]
     },
     "metadata": {},
     "execution_count": 60
    }
   ],
   "source": [
    "params = {\n",
    "    'C': [7],\n",
    "    'cache_size': [1,2,3,4,5,6,7,8,9,10],\n",
    "    'degree': [1]\n",
    "}\n",
    "grid_cv = GridSearchCV(diabetes_svc, param_grid=params, cv=3, n_jobs=-1)\n",
    "grid_cv.fit(X_train,y_train)\n",
    "print(f'최고 평균 정확도: {grid_cv.best_score_:.4f}')\n",
    "print('최적 파라미터: ', grid_cv.best_params_)\n",
    "best_diabetes_svc = grid_cv.best_estimator_\n",
    "pred = best_diabetes_svc.predict(X_test)\n",
    "accuracy_score(y_test, pred)"
   ]
  },
  {
   "cell_type": "code",
   "execution_count": 66,
   "metadata": {},
   "outputs": [
    {
     "output_type": "execute_result",
     "data": {
      "text/plain": [
       "['static/model/best_diabetes_svc.pkl']"
      ]
     },
     "metadata": {},
     "execution_count": 66
    }
   ],
   "source": [
    "joblib.dump(best_diabetes_svc, 'static/model/best_diabetes_svc.pkl')"
   ]
  },
  {
   "cell_type": "code",
   "execution_count": 61,
   "metadata": {},
   "outputs": [
    {
     "output_type": "stream",
     "name": "stdout",
     "text": [
      "최고 평균 정확도: 0.7535\n최적 파라미터:  {'C': 5, 'max_iter': 95}\n"
     ]
    },
    {
     "output_type": "execute_result",
     "data": {
      "text/plain": [
       "0.8125"
      ]
     },
     "metadata": {},
     "execution_count": 61
    }
   ],
   "source": [
    "params = {\n",
    "    'C': [5],\n",
    "    'max_iter': [95,100,105],\n",
    "}\n",
    "grid_cv = GridSearchCV(diabetes_lr, param_grid=params, cv=3, n_jobs=-1)\n",
    "grid_cv.fit(X_train,y_train)\n",
    "print(f'최고 평균 정확도: {grid_cv.best_score_:.4f}')\n",
    "print('최적 파라미터: ', grid_cv.best_params_)\n",
    "best_diabetes_lr = grid_cv.best_estimator_\n",
    "pred = best_diabetes_lr.predict(X_test)\n",
    "accuracy_score(y_test, pred)"
   ]
  },
  {
   "cell_type": "code",
   "execution_count": 67,
   "metadata": {},
   "outputs": [
    {
     "output_type": "execute_result",
     "data": {
      "text/plain": [
       "['static/model/best_diabetes_lr.pkl']"
      ]
     },
     "metadata": {},
     "execution_count": 67
    }
   ],
   "source": [
    "joblib.dump(best_diabetes_lr, 'static/model/best_diabetes_lr.pkl')"
   ]
  },
  {
   "cell_type": "code",
   "execution_count": 62,
   "metadata": {},
   "outputs": [
    {
     "output_type": "stream",
     "name": "stdout",
     "text": [
      "최고 평균 정확도: 0.7153\n최적 파라미터:  {'leaf_size': 1, 'n_neighbors': 8, 'p': 7}\n"
     ]
    },
    {
     "output_type": "execute_result",
     "data": {
      "text/plain": [
       "0.7708333333333334"
      ]
     },
     "metadata": {},
     "execution_count": 62
    }
   ],
   "source": [
    "params = {\n",
    "    'leaf_size': [1,2,3,4,5,6,7,8,9,10],\n",
    "    'n_neighbors': [8],\n",
    "    'p': [5,6,7,8,9]\n",
    "}\n",
    "grid_cv = GridSearchCV(diabetes_knn, param_grid=params, cv=3, n_jobs=-1)\n",
    "grid_cv.fit(X_train,y_train)\n",
    "print(f'최고 평균 정확도: {grid_cv.best_score_:.4f}')\n",
    "print('최적 파라미터: ', grid_cv.best_params_)\n",
    "best_diabetes_knn = grid_cv.best_estimator_\n",
    "pred = best_diabetes_knn.predict(X_test)\n",
    "accuracy_score(y_test, pred)"
   ]
  },
  {
   "cell_type": "code",
   "execution_count": 68,
   "metadata": {},
   "outputs": [
    {
     "output_type": "execute_result",
     "data": {
      "text/plain": [
       "['static/model/best_diabetes_knn.pkl']"
      ]
     },
     "metadata": {},
     "execution_count": 68
    }
   ],
   "source": [
    "joblib.dump(best_diabetes_knn, 'static/model/best_diabetes_knn.pkl')"
   ]
  },
  {
   "cell_type": "code",
   "execution_count": 64,
   "metadata": {},
   "outputs": [
    {
     "output_type": "stream",
     "name": "stdout",
     "text": [
      "최고 평균 정확도: 0.7413\n최적 파라미터:  {'ccp_alpha': 0, 'min_samples_leaf': 1, 'min_samples_split': 3, 'n_estimators': 200}\n"
     ]
    },
    {
     "output_type": "execute_result",
     "data": {
      "text/plain": [
       "0.7864583333333334"
      ]
     },
     "metadata": {},
     "execution_count": 64
    }
   ],
   "source": [
    "params = {\n",
    "    'ccp_alpha': [0],\n",
    "    'min_samples_leaf': [1],\n",
    "    'min_samples_split': [3],\n",
    "    'n_estimators':[150,175,200]\n",
    "}\n",
    "grid_cv = GridSearchCV(diabetes_rfclf, param_grid=params, cv=3, n_jobs=-1)\n",
    "grid_cv.fit(X_train,y_train)\n",
    "print(f'최고 평균 정확도: {grid_cv.best_score_:.4f}')\n",
    "print('최적 파라미터: ', grid_cv.best_params_)\n",
    "best_diabetes_rfclf = grid_cv.best_estimator_\n",
    "pred = best_diabetes_rfclf.predict(X_test)\n",
    "accuracy_score(y_test, pred)"
   ]
  },
  {
   "cell_type": "code",
   "execution_count": 69,
   "metadata": {},
   "outputs": [
    {
     "output_type": "execute_result",
     "data": {
      "text/plain": [
       "['static/model/best_diabetes_rfclf.pkl']"
      ]
     },
     "metadata": {},
     "execution_count": 69
    }
   ],
   "source": [
    "joblib.dump(best_diabetes_rfclf, 'static/model/best_diabetes_rfclf.pkl')"
   ]
  },
  {
   "cell_type": "code",
   "execution_count": null,
   "metadata": {},
   "outputs": [],
   "source": []
  }
 ]
}