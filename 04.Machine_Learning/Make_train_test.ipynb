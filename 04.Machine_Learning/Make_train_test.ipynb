{
 "metadata": {
  "language_info": {
   "codemirror_mode": {
    "name": "ipython",
    "version": 3
   },
   "file_extension": ".py",
   "mimetype": "text/x-python",
   "name": "python",
   "nbconvert_exporter": "python",
   "pygments_lexer": "ipython3",
   "version": "3.8.3-final"
  },
  "orig_nbformat": 2,
  "kernelspec": {
   "name": "python3",
   "display_name": "Python 3",
   "language": "python"
  }
 },
 "nbformat": 4,
 "nbformat_minor": 2,
 "cells": [
  {
   "source": [
    "# 데이터 불러오기"
   ],
   "cell_type": "markdown",
   "metadata": {}
  },
  {
   "cell_type": "code",
   "execution_count": 1,
   "metadata": {},
   "outputs": [],
   "source": [
    "import sklearn.datasets as sd\n",
    "from sklearn.model_selection import train_test_split\n",
    "import pandas as pd"
   ]
  },
  {
   "source": [
    "### 아이리스 데이터"
   ],
   "cell_type": "markdown",
   "metadata": {}
  },
  {
   "cell_type": "code",
   "execution_count": 2,
   "metadata": {},
   "outputs": [],
   "source": [
    "iris = sd.load_iris()"
   ]
  },
  {
   "cell_type": "code",
   "execution_count": 3,
   "metadata": {},
   "outputs": [
    {
     "output_type": "execute_result",
     "data": {
      "text/plain": [
       "   sepal length (cm)  sepal width (cm)  petal length (cm)  petal width (cm)  \\\n",
       "0                5.1               3.5                1.4               0.2   \n",
       "1                4.9               3.0                1.4               0.2   \n",
       "2                4.7               3.2                1.3               0.2   \n",
       "3                4.6               3.1                1.5               0.2   \n",
       "4                5.0               3.6                1.4               0.2   \n",
       "\n",
       "   target  \n",
       "0       0  \n",
       "1       0  \n",
       "2       0  \n",
       "3       0  \n",
       "4       0  "
      ],
      "text/html": "<div>\n<style scoped>\n    .dataframe tbody tr th:only-of-type {\n        vertical-align: middle;\n    }\n\n    .dataframe tbody tr th {\n        vertical-align: top;\n    }\n\n    .dataframe thead th {\n        text-align: right;\n    }\n</style>\n<table border=\"1\" class=\"dataframe\">\n  <thead>\n    <tr style=\"text-align: right;\">\n      <th></th>\n      <th>sepal length (cm)</th>\n      <th>sepal width (cm)</th>\n      <th>petal length (cm)</th>\n      <th>petal width (cm)</th>\n      <th>target</th>\n    </tr>\n  </thead>\n  <tbody>\n    <tr>\n      <th>0</th>\n      <td>5.1</td>\n      <td>3.5</td>\n      <td>1.4</td>\n      <td>0.2</td>\n      <td>0</td>\n    </tr>\n    <tr>\n      <th>1</th>\n      <td>4.9</td>\n      <td>3.0</td>\n      <td>1.4</td>\n      <td>0.2</td>\n      <td>0</td>\n    </tr>\n    <tr>\n      <th>2</th>\n      <td>4.7</td>\n      <td>3.2</td>\n      <td>1.3</td>\n      <td>0.2</td>\n      <td>0</td>\n    </tr>\n    <tr>\n      <th>3</th>\n      <td>4.6</td>\n      <td>3.1</td>\n      <td>1.5</td>\n      <td>0.2</td>\n      <td>0</td>\n    </tr>\n    <tr>\n      <th>4</th>\n      <td>5.0</td>\n      <td>3.6</td>\n      <td>1.4</td>\n      <td>0.2</td>\n      <td>0</td>\n    </tr>\n  </tbody>\n</table>\n</div>"
     },
     "metadata": {},
     "execution_count": 3
    }
   ],
   "source": [
    "iris_df = pd.DataFrame(data=iris.data, columns=iris.feature_names)\n",
    "iris_df['target'] = iris.target\n",
    "iris_df.head()"
   ]
  },
  {
   "cell_type": "code",
   "execution_count": 4,
   "metadata": {},
   "outputs": [],
   "source": [
    "iris_df.to_csv('static/upload/iris.csv',index=False)"
   ]
  },
  {
   "cell_type": "code",
   "execution_count": 6,
   "metadata": {},
   "outputs": [],
   "source": [
    "X_train, X_test, y_train, y_test = train_test_split(\n",
    "    iris_df,iris_df.target,test_size=0.25,stratify=iris.target, random_state=2021\n",
    ")"
   ]
  },
  {
   "cell_type": "code",
   "execution_count": 8,
   "metadata": {},
   "outputs": [],
   "source": [
    "X_train.to_csv('static/data/iris_train.csv', index=False)\n",
    "X_test.to_csv('static/data/iris_test.csv', index=False)"
   ]
  },
  {
   "source": [
    "### 와인 데이터"
   ],
   "cell_type": "markdown",
   "metadata": {}
  },
  {
   "cell_type": "code",
   "execution_count": 9,
   "metadata": {},
   "outputs": [],
   "source": [
    "wine = sd.load_wine()\n",
    "wine_df = pd.DataFrame(data=wine.data, columns=wine.feature_names)\n",
    "wine_df['target'] = wine.target\n",
    "X_train, X_test, y_train, y_test = train_test_split(\n",
    "    wine_df,wine_df.target,test_size=0.25,stratify=wine.target, random_state=2021\n",
    ")\n",
    "X_train.to_csv('static/data/wine_train.csv', index=False)\n",
    "X_test.to_csv('static/data/wine_test.csv', index=False)"
   ]
  },
  {
   "source": [
    "### 보스턴 데이터"
   ],
   "cell_type": "markdown",
   "metadata": {}
  },
  {
   "cell_type": "code",
   "execution_count": 14,
   "metadata": {},
   "outputs": [],
   "source": [
    "boston = sd.load_boston()\n",
    "boston_df = pd.DataFrame(data=boston.data, columns=boston.feature_names)\n",
    "boston_df['target'] = boston.target\n",
    "X_train, X_test, y_train, y_test = train_test_split(\n",
    "    boston_df,boston_df['target'],test_size=0.25, random_state=2021\n",
    ")\n",
    "X_train.to_csv('static/data/boston_train.csv', index=False)\n",
    "X_test.to_csv('static/data/boston_test.csv', index=False)"
   ]
  },
  {
   "source": [
    "### 당뇨병 데이터"
   ],
   "cell_type": "markdown",
   "metadata": {}
  },
  {
   "cell_type": "code",
   "execution_count": 2,
   "metadata": {},
   "outputs": [],
   "source": [
    "from sklearn.preprocessing import StandardScaler\n",
    "from sklearn.model_selection import train_test_split\n",
    "import pandas as pd\n",
    "import joblib\n",
    "diabetes_data = pd.read_csv('static/data/diabetes.csv')\n",
    "# 0값을 검사할 피처명 리스트 객체 설정\n",
    "zero_features = ['Glucose','BloodPressure','SkinThickness','Insulin','BMI']\n",
    "\n",
    "# 전체 데이터 건수\n",
    "total_count = diabetes_data['Glucose'].count()\n",
    "\n",
    "# 피처별로 반복 하면서 데이터 값이 0 인 데이터 건수 추출하고, 퍼센트 계산\n",
    "for feature in zero_features:\n",
    "    zero_count = diabetes_data[diabetes_data[feature] == 0][feature].count()\n",
    "    percent = 100*zero_count/total_count\n",
    "diabetes_data[zero_features]=diabetes_data[zero_features].replace(0, diabetes_data[zero_features].mean())\n",
    "# 피처 데이터 세트 X, 레이블 데이터 세트 y를 추출. \n",
    "# 맨 끝이 Outcome 컬럼으로 레이블 값임. \n",
    "X = diabetes_data.iloc[:, :]\n",
    "y = diabetes_data.iloc[:, -1]\n",
    "\n",
    "\n",
    "diabetes_df = pd.DataFrame(data=X)\n",
    "X_train, X_test, y_train, y_test = train_test_split(\n",
    "    diabetes_df, y, test_size = 0.25, random_state = 2021, stratify=y\n",
    ")\n",
    "scale = StandardScaler()\n",
    "scale.fit(X_train)\n",
    "joblib.dump(scale, 'static/model/diabetes_scale.pkl')\n",
    "X_train.to_csv('static/data/diabetes_train.csv', index=False)\n",
    "X_test.to_csv('static/data/diabetes_test.csv', index=False)"
   ]
  },
  {
   "cell_type": "code",
   "execution_count": 3,
   "metadata": {},
   "outputs": [
    {
     "output_type": "execute_result",
     "data": {
      "text/plain": [
       "     Pregnancies  Glucose  BloodPressure  SkinThickness     Insulin   BMI  \\\n",
       "0              6    148.0           72.0      35.000000   79.799479  33.6   \n",
       "1              1     85.0           66.0      29.000000   79.799479  26.6   \n",
       "2              8    183.0           64.0      20.536458   79.799479  23.3   \n",
       "3              1     89.0           66.0      23.000000   94.000000  28.1   \n",
       "4              0    137.0           40.0      35.000000  168.000000  43.1   \n",
       "..           ...      ...            ...            ...         ...   ...   \n",
       "763           10    101.0           76.0      48.000000  180.000000  32.9   \n",
       "764            2    122.0           70.0      27.000000   79.799479  36.8   \n",
       "765            5    121.0           72.0      23.000000  112.000000  26.2   \n",
       "766            1    126.0           60.0      20.536458   79.799479  30.1   \n",
       "767            1     93.0           70.0      31.000000   79.799479  30.4   \n",
       "\n",
       "     DiabetesPedigreeFunction  Age  Outcome  \n",
       "0                       0.627   50        1  \n",
       "1                       0.351   31        0  \n",
       "2                       0.672   32        1  \n",
       "3                       0.167   21        0  \n",
       "4                       2.288   33        1  \n",
       "..                        ...  ...      ...  \n",
       "763                     0.171   63        0  \n",
       "764                     0.340   27        0  \n",
       "765                     0.245   30        0  \n",
       "766                     0.349   47        1  \n",
       "767                     0.315   23        0  \n",
       "\n",
       "[768 rows x 9 columns]"
      ],
      "text/html": "<div>\n<style scoped>\n    .dataframe tbody tr th:only-of-type {\n        vertical-align: middle;\n    }\n\n    .dataframe tbody tr th {\n        vertical-align: top;\n    }\n\n    .dataframe thead th {\n        text-align: right;\n    }\n</style>\n<table border=\"1\" class=\"dataframe\">\n  <thead>\n    <tr style=\"text-align: right;\">\n      <th></th>\n      <th>Pregnancies</th>\n      <th>Glucose</th>\n      <th>BloodPressure</th>\n      <th>SkinThickness</th>\n      <th>Insulin</th>\n      <th>BMI</th>\n      <th>DiabetesPedigreeFunction</th>\n      <th>Age</th>\n      <th>Outcome</th>\n    </tr>\n  </thead>\n  <tbody>\n    <tr>\n      <th>0</th>\n      <td>6</td>\n      <td>148.0</td>\n      <td>72.0</td>\n      <td>35.000000</td>\n      <td>79.799479</td>\n      <td>33.6</td>\n      <td>0.627</td>\n      <td>50</td>\n      <td>1</td>\n    </tr>\n    <tr>\n      <th>1</th>\n      <td>1</td>\n      <td>85.0</td>\n      <td>66.0</td>\n      <td>29.000000</td>\n      <td>79.799479</td>\n      <td>26.6</td>\n      <td>0.351</td>\n      <td>31</td>\n      <td>0</td>\n    </tr>\n    <tr>\n      <th>2</th>\n      <td>8</td>\n      <td>183.0</td>\n      <td>64.0</td>\n      <td>20.536458</td>\n      <td>79.799479</td>\n      <td>23.3</td>\n      <td>0.672</td>\n      <td>32</td>\n      <td>1</td>\n    </tr>\n    <tr>\n      <th>3</th>\n      <td>1</td>\n      <td>89.0</td>\n      <td>66.0</td>\n      <td>23.000000</td>\n      <td>94.000000</td>\n      <td>28.1</td>\n      <td>0.167</td>\n      <td>21</td>\n      <td>0</td>\n    </tr>\n    <tr>\n      <th>4</th>\n      <td>0</td>\n      <td>137.0</td>\n      <td>40.0</td>\n      <td>35.000000</td>\n      <td>168.000000</td>\n      <td>43.1</td>\n      <td>2.288</td>\n      <td>33</td>\n      <td>1</td>\n    </tr>\n    <tr>\n      <th>...</th>\n      <td>...</td>\n      <td>...</td>\n      <td>...</td>\n      <td>...</td>\n      <td>...</td>\n      <td>...</td>\n      <td>...</td>\n      <td>...</td>\n      <td>...</td>\n    </tr>\n    <tr>\n      <th>763</th>\n      <td>10</td>\n      <td>101.0</td>\n      <td>76.0</td>\n      <td>48.000000</td>\n      <td>180.000000</td>\n      <td>32.9</td>\n      <td>0.171</td>\n      <td>63</td>\n      <td>0</td>\n    </tr>\n    <tr>\n      <th>764</th>\n      <td>2</td>\n      <td>122.0</td>\n      <td>70.0</td>\n      <td>27.000000</td>\n      <td>79.799479</td>\n      <td>36.8</td>\n      <td>0.340</td>\n      <td>27</td>\n      <td>0</td>\n    </tr>\n    <tr>\n      <th>765</th>\n      <td>5</td>\n      <td>121.0</td>\n      <td>72.0</td>\n      <td>23.000000</td>\n      <td>112.000000</td>\n      <td>26.2</td>\n      <td>0.245</td>\n      <td>30</td>\n      <td>0</td>\n    </tr>\n    <tr>\n      <th>766</th>\n      <td>1</td>\n      <td>126.0</td>\n      <td>60.0</td>\n      <td>20.536458</td>\n      <td>79.799479</td>\n      <td>30.1</td>\n      <td>0.349</td>\n      <td>47</td>\n      <td>1</td>\n    </tr>\n    <tr>\n      <th>767</th>\n      <td>1</td>\n      <td>93.0</td>\n      <td>70.0</td>\n      <td>31.000000</td>\n      <td>79.799479</td>\n      <td>30.4</td>\n      <td>0.315</td>\n      <td>23</td>\n      <td>0</td>\n    </tr>\n  </tbody>\n</table>\n<p>768 rows × 9 columns</p>\n</div>"
     },
     "metadata": {},
     "execution_count": 3
    }
   ],
   "source": [
    "diabetes_data"
   ]
  },
  {
   "cell_type": "code",
   "execution_count": 4,
   "metadata": {},
   "outputs": [
    {
     "output_type": "execute_result",
     "data": {
      "text/plain": [
       "0      1\n",
       "1      0\n",
       "2      1\n",
       "3      0\n",
       "4      1\n",
       "      ..\n",
       "763    0\n",
       "764    0\n",
       "765    0\n",
       "766    1\n",
       "767    0\n",
       "Name: Outcome, Length: 768, dtype: int64"
      ]
     },
     "metadata": {},
     "execution_count": 4
    }
   ],
   "source": [
    "diabetes_data.iloc[:, -1]"
   ]
  },
  {
   "cell_type": "code",
   "execution_count": 5,
   "metadata": {},
   "outputs": [
    {
     "output_type": "execute_result",
     "data": {
      "text/plain": [
       "     Pregnancies  Glucose  BloodPressure  SkinThickness     Insulin  \\\n",
       "51             1    101.0      50.000000      15.000000   36.000000   \n",
       "435            0    141.0      69.105469      20.536458   79.799479   \n",
       "16             0    118.0      84.000000      47.000000  230.000000   \n",
       "148            5    147.0      78.000000      20.536458   79.799479   \n",
       "246           10    122.0      68.000000      20.536458   79.799479   \n",
       "..           ...      ...            ...            ...         ...   \n",
       "494            3     80.0      69.105469      20.536458   79.799479   \n",
       "9              8    125.0      96.000000      20.536458   79.799479   \n",
       "677            0     93.0      60.000000      20.536458   79.799479   \n",
       "551            3     84.0      68.000000      30.000000  106.000000   \n",
       "432            1     80.0      74.000000      11.000000   60.000000   \n",
       "\n",
       "           BMI  DiabetesPedigreeFunction  Age  Outcome  \n",
       "51   24.200000                     0.526   26        0  \n",
       "435  42.400000                     0.205   29        1  \n",
       "16   45.800000                     0.551   31        1  \n",
       "148  33.700000                     0.218   65        0  \n",
       "246  31.200000                     0.258   41        0  \n",
       "..         ...                       ...  ...      ...  \n",
       "494  31.992578                     0.174   22        0  \n",
       "9    31.992578                     0.232   54        1  \n",
       "677  35.300000                     0.263   25        0  \n",
       "551  31.900000                     0.591   25        0  \n",
       "432  30.000000                     0.527   22        0  \n",
       "\n",
       "[576 rows x 9 columns]"
      ],
      "text/html": "<div>\n<style scoped>\n    .dataframe tbody tr th:only-of-type {\n        vertical-align: middle;\n    }\n\n    .dataframe tbody tr th {\n        vertical-align: top;\n    }\n\n    .dataframe thead th {\n        text-align: right;\n    }\n</style>\n<table border=\"1\" class=\"dataframe\">\n  <thead>\n    <tr style=\"text-align: right;\">\n      <th></th>\n      <th>Pregnancies</th>\n      <th>Glucose</th>\n      <th>BloodPressure</th>\n      <th>SkinThickness</th>\n      <th>Insulin</th>\n      <th>BMI</th>\n      <th>DiabetesPedigreeFunction</th>\n      <th>Age</th>\n      <th>Outcome</th>\n    </tr>\n  </thead>\n  <tbody>\n    <tr>\n      <th>51</th>\n      <td>1</td>\n      <td>101.0</td>\n      <td>50.000000</td>\n      <td>15.000000</td>\n      <td>36.000000</td>\n      <td>24.200000</td>\n      <td>0.526</td>\n      <td>26</td>\n      <td>0</td>\n    </tr>\n    <tr>\n      <th>435</th>\n      <td>0</td>\n      <td>141.0</td>\n      <td>69.105469</td>\n      <td>20.536458</td>\n      <td>79.799479</td>\n      <td>42.400000</td>\n      <td>0.205</td>\n      <td>29</td>\n      <td>1</td>\n    </tr>\n    <tr>\n      <th>16</th>\n      <td>0</td>\n      <td>118.0</td>\n      <td>84.000000</td>\n      <td>47.000000</td>\n      <td>230.000000</td>\n      <td>45.800000</td>\n      <td>0.551</td>\n      <td>31</td>\n      <td>1</td>\n    </tr>\n    <tr>\n      <th>148</th>\n      <td>5</td>\n      <td>147.0</td>\n      <td>78.000000</td>\n      <td>20.536458</td>\n      <td>79.799479</td>\n      <td>33.700000</td>\n      <td>0.218</td>\n      <td>65</td>\n      <td>0</td>\n    </tr>\n    <tr>\n      <th>246</th>\n      <td>10</td>\n      <td>122.0</td>\n      <td>68.000000</td>\n      <td>20.536458</td>\n      <td>79.799479</td>\n      <td>31.200000</td>\n      <td>0.258</td>\n      <td>41</td>\n      <td>0</td>\n    </tr>\n    <tr>\n      <th>...</th>\n      <td>...</td>\n      <td>...</td>\n      <td>...</td>\n      <td>...</td>\n      <td>...</td>\n      <td>...</td>\n      <td>...</td>\n      <td>...</td>\n      <td>...</td>\n    </tr>\n    <tr>\n      <th>494</th>\n      <td>3</td>\n      <td>80.0</td>\n      <td>69.105469</td>\n      <td>20.536458</td>\n      <td>79.799479</td>\n      <td>31.992578</td>\n      <td>0.174</td>\n      <td>22</td>\n      <td>0</td>\n    </tr>\n    <tr>\n      <th>9</th>\n      <td>8</td>\n      <td>125.0</td>\n      <td>96.000000</td>\n      <td>20.536458</td>\n      <td>79.799479</td>\n      <td>31.992578</td>\n      <td>0.232</td>\n      <td>54</td>\n      <td>1</td>\n    </tr>\n    <tr>\n      <th>677</th>\n      <td>0</td>\n      <td>93.0</td>\n      <td>60.000000</td>\n      <td>20.536458</td>\n      <td>79.799479</td>\n      <td>35.300000</td>\n      <td>0.263</td>\n      <td>25</td>\n      <td>0</td>\n    </tr>\n    <tr>\n      <th>551</th>\n      <td>3</td>\n      <td>84.0</td>\n      <td>68.000000</td>\n      <td>30.000000</td>\n      <td>106.000000</td>\n      <td>31.900000</td>\n      <td>0.591</td>\n      <td>25</td>\n      <td>0</td>\n    </tr>\n    <tr>\n      <th>432</th>\n      <td>1</td>\n      <td>80.0</td>\n      <td>74.000000</td>\n      <td>11.000000</td>\n      <td>60.000000</td>\n      <td>30.000000</td>\n      <td>0.527</td>\n      <td>22</td>\n      <td>0</td>\n    </tr>\n  </tbody>\n</table>\n<p>576 rows × 9 columns</p>\n</div>"
     },
     "metadata": {},
     "execution_count": 5
    }
   ],
   "source": [
    "X_train"
   ]
  },
  {
   "cell_type": "code",
   "execution_count": 6,
   "metadata": {},
   "outputs": [
    {
     "output_type": "execute_result",
     "data": {
      "text/plain": [
       "51     0\n",
       "435    1\n",
       "16     1\n",
       "148    0\n",
       "246    0\n",
       "      ..\n",
       "494    0\n",
       "9      1\n",
       "677    0\n",
       "551    0\n",
       "432    0\n",
       "Name: Outcome, Length: 576, dtype: int64"
      ]
     },
     "metadata": {},
     "execution_count": 6
    }
   ],
   "source": [
    "y_train"
   ]
  },
  {
   "cell_type": "code",
   "execution_count": 62,
   "metadata": {},
   "outputs": [
    {
     "output_type": "stream",
     "name": "stdout",
     "text": [
      "<class 'pandas.core.frame.DataFrame'>\nInt64Index: 192 entries, 41 to 136\nData columns (total 9 columns):\n #   Column                    Non-Null Count  Dtype  \n---  ------                    --------------  -----  \n 0   Pregnancies               192 non-null    int64  \n 1   Glucose                   192 non-null    float64\n 2   BloodPressure             192 non-null    float64\n 3   SkinThickness             192 non-null    float64\n 4   Insulin                   192 non-null    float64\n 5   BMI                       192 non-null    float64\n 6   DiabetesPedigreeFunction  192 non-null    float64\n 7   Age                       192 non-null    int64  \n 8   Outcome                   192 non-null    int64  \ndtypes: float64(6), int64(3)\nmemory usage: 15.0 KB\n"
     ]
    }
   ],
   "source": [
    "X_test.info()"
   ]
  },
  {
   "cell_type": "code",
   "execution_count": null,
   "metadata": {},
   "outputs": [],
   "source": []
  },
  {
   "source": [
    "### 유방암 데이터"
   ],
   "cell_type": "markdown",
   "metadata": {}
  },
  {
   "cell_type": "code",
   "execution_count": 2,
   "metadata": {},
   "outputs": [],
   "source": [
    "from sklearn.datasets import load_breast_cancer\n",
    "from sklearn.preprocessing import StandardScaler\n",
    "breast = load_breast_cancer()\n",
    "breast_df = pd.DataFrame(data=breast.data, columns=breast.feature_names)\n",
    "breast_df['target'] = breast.target\n",
    "X_train, X_test, y_train, y_test = train_test_split(\n",
    "    breast_df,breast_df['target'],test_size=0.25, random_state=2021\n",
    ")\n",
    "X_train.to_csv('static/data/breast_train.csv', index=False)\n",
    "X_test.to_csv('static/data/breast_test.csv', index=False)"
   ]
  },
  {
   "cell_type": "code",
   "execution_count": 3,
   "metadata": {},
   "outputs": [
    {
     "output_type": "execute_result",
     "data": {
      "text/plain": [
       "StandardScaler()"
      ]
     },
     "metadata": {},
     "execution_count": 3
    }
   ],
   "source": [
    "scale = StandardScaler()\n",
    "scale.fit(X_train)"
   ]
  },
  {
   "cell_type": "code",
   "execution_count": 4,
   "metadata": {},
   "outputs": [],
   "source": [
    "import joblib"
   ]
  },
  {
   "cell_type": "code",
   "execution_count": 5,
   "metadata": {},
   "outputs": [
    {
     "output_type": "execute_result",
     "data": {
      "text/plain": [
       "['static/model/breast_scale.pkl']"
      ]
     },
     "metadata": {},
     "execution_count": 5
    }
   ],
   "source": [
    "joblib.dump(scale, 'static/model/breast_scale.pkl')"
   ]
  },
  {
   "source": [
    "### Digits"
   ],
   "cell_type": "markdown",
   "metadata": {}
  },
  {
   "cell_type": "code",
   "execution_count": 10,
   "metadata": {},
   "outputs": [],
   "source": [
    "digits = sd.load_digits()\n",
    "df = pd.DataFrame(digits.data, columns=digits.feature_names)\n",
    "df['target'] = digits.target\n",
    "X_train, X_test, y_train, y_test = train_test_split(\n",
    "    df, digits.target, test_size=0.25, stratify=digits.target, random_state=2021\n",
    ")"
   ]
  },
  {
   "cell_type": "code",
   "execution_count": 11,
   "metadata": {},
   "outputs": [
    {
     "output_type": "execute_result",
     "data": {
      "text/plain": [
       "   index  pixel_0_0  pixel_0_1  pixel_0_2  pixel_0_3  pixel_0_4  pixel_0_5  \\\n",
       "0    667        0.0        0.0        4.0       16.0       15.0        4.0   \n",
       "1    971        0.0        0.0        5.0       15.0       14.0        3.0   \n",
       "2    914        0.0        0.0        7.0       14.0        9.0        0.0   \n",
       "3   1702        0.0        0.0        7.0       11.0       13.0        8.0   \n",
       "4   1356        0.0        0.0        0.0       12.0       14.0        5.0   \n",
       "\n",
       "   pixel_0_6  pixel_0_7  pixel_1_0  ...  pixel_6_7  pixel_7_0  pixel_7_1  \\\n",
       "0        0.0        0.0        0.0  ...        0.0        0.0        0.0   \n",
       "1        0.0        0.0        0.0  ...        1.0        0.0        0.0   \n",
       "2        0.0        0.0        0.0  ...        3.0        0.0        0.0   \n",
       "3        1.0        0.0        0.0  ...        0.0        0.0        1.0   \n",
       "4        0.0        0.0        0.0  ...        0.0        0.0        0.0   \n",
       "\n",
       "   pixel_7_2  pixel_7_3  pixel_7_4  pixel_7_5  pixel_7_6  pixel_7_7  target  \n",
       "0        3.0       12.0       14.0       11.0        0.0        0.0       1  \n",
       "1        4.0       11.0       13.0       16.0       11.0        0.0       9  \n",
       "2        5.0       15.0       16.0       16.0       12.0        1.0       9  \n",
       "3       10.0       14.0        2.0        0.0        0.0        0.0       5  \n",
       "4        1.0       10.0       14.0       15.0        2.0        0.0       9  \n",
       "\n",
       "[5 rows x 66 columns]"
      ],
      "text/html": "<div>\n<style scoped>\n    .dataframe tbody tr th:only-of-type {\n        vertical-align: middle;\n    }\n\n    .dataframe tbody tr th {\n        vertical-align: top;\n    }\n\n    .dataframe thead th {\n        text-align: right;\n    }\n</style>\n<table border=\"1\" class=\"dataframe\">\n  <thead>\n    <tr style=\"text-align: right;\">\n      <th></th>\n      <th>index</th>\n      <th>pixel_0_0</th>\n      <th>pixel_0_1</th>\n      <th>pixel_0_2</th>\n      <th>pixel_0_3</th>\n      <th>pixel_0_4</th>\n      <th>pixel_0_5</th>\n      <th>pixel_0_6</th>\n      <th>pixel_0_7</th>\n      <th>pixel_1_0</th>\n      <th>...</th>\n      <th>pixel_6_7</th>\n      <th>pixel_7_0</th>\n      <th>pixel_7_1</th>\n      <th>pixel_7_2</th>\n      <th>pixel_7_3</th>\n      <th>pixel_7_4</th>\n      <th>pixel_7_5</th>\n      <th>pixel_7_6</th>\n      <th>pixel_7_7</th>\n      <th>target</th>\n    </tr>\n  </thead>\n  <tbody>\n    <tr>\n      <th>0</th>\n      <td>667</td>\n      <td>0.0</td>\n      <td>0.0</td>\n      <td>4.0</td>\n      <td>16.0</td>\n      <td>15.0</td>\n      <td>4.0</td>\n      <td>0.0</td>\n      <td>0.0</td>\n      <td>0.0</td>\n      <td>...</td>\n      <td>0.0</td>\n      <td>0.0</td>\n      <td>0.0</td>\n      <td>3.0</td>\n      <td>12.0</td>\n      <td>14.0</td>\n      <td>11.0</td>\n      <td>0.0</td>\n      <td>0.0</td>\n      <td>1</td>\n    </tr>\n    <tr>\n      <th>1</th>\n      <td>971</td>\n      <td>0.0</td>\n      <td>0.0</td>\n      <td>5.0</td>\n      <td>15.0</td>\n      <td>14.0</td>\n      <td>3.0</td>\n      <td>0.0</td>\n      <td>0.0</td>\n      <td>0.0</td>\n      <td>...</td>\n      <td>1.0</td>\n      <td>0.0</td>\n      <td>0.0</td>\n      <td>4.0</td>\n      <td>11.0</td>\n      <td>13.0</td>\n      <td>16.0</td>\n      <td>11.0</td>\n      <td>0.0</td>\n      <td>9</td>\n    </tr>\n    <tr>\n      <th>2</th>\n      <td>914</td>\n      <td>0.0</td>\n      <td>0.0</td>\n      <td>7.0</td>\n      <td>14.0</td>\n      <td>9.0</td>\n      <td>0.0</td>\n      <td>0.0</td>\n      <td>0.0</td>\n      <td>0.0</td>\n      <td>...</td>\n      <td>3.0</td>\n      <td>0.0</td>\n      <td>0.0</td>\n      <td>5.0</td>\n      <td>15.0</td>\n      <td>16.0</td>\n      <td>16.0</td>\n      <td>12.0</td>\n      <td>1.0</td>\n      <td>9</td>\n    </tr>\n    <tr>\n      <th>3</th>\n      <td>1702</td>\n      <td>0.0</td>\n      <td>0.0</td>\n      <td>7.0</td>\n      <td>11.0</td>\n      <td>13.0</td>\n      <td>8.0</td>\n      <td>1.0</td>\n      <td>0.0</td>\n      <td>0.0</td>\n      <td>...</td>\n      <td>0.0</td>\n      <td>0.0</td>\n      <td>1.0</td>\n      <td>10.0</td>\n      <td>14.0</td>\n      <td>2.0</td>\n      <td>0.0</td>\n      <td>0.0</td>\n      <td>0.0</td>\n      <td>5</td>\n    </tr>\n    <tr>\n      <th>4</th>\n      <td>1356</td>\n      <td>0.0</td>\n      <td>0.0</td>\n      <td>0.0</td>\n      <td>12.0</td>\n      <td>14.0</td>\n      <td>5.0</td>\n      <td>0.0</td>\n      <td>0.0</td>\n      <td>0.0</td>\n      <td>...</td>\n      <td>0.0</td>\n      <td>0.0</td>\n      <td>0.0</td>\n      <td>1.0</td>\n      <td>10.0</td>\n      <td>14.0</td>\n      <td>15.0</td>\n      <td>2.0</td>\n      <td>0.0</td>\n      <td>9</td>\n    </tr>\n  </tbody>\n</table>\n<p>5 rows × 66 columns</p>\n</div>"
     },
     "metadata": {},
     "execution_count": 11
    }
   ],
   "source": [
    "X_test.reset_index(inplace=True)\n",
    "X_test.to_csv('static/data/digits_test.csv', index=False)\n",
    "df = pd.read_csv('static/data/digits_test.csv')\n",
    "df.head()"
   ]
  },
  {
   "cell_type": "code",
   "execution_count": 12,
   "metadata": {},
   "outputs": [],
   "source": [
    "X_train.to_csv('static/data/digits_train.csv', index=False)\n",
    "X_test.to_csv('static/data/digits_test.csv', index=False)"
   ]
  },
  {
   "cell_type": "code",
   "execution_count": 71,
   "metadata": {},
   "outputs": [],
   "source": [
    "titanic_df = pd.read_csv('../../Machine-Learning/00.data/titanic/train.csv')"
   ]
  },
  {
   "cell_type": "code",
   "execution_count": 72,
   "metadata": {},
   "outputs": [],
   "source": [
    "titanic_df = pd.concat([titanic_train,titanic_test],ignore_index=True)\n",
    "titanic_df['Age'].fillna(titanic_df['Age'].mean(), inplace=True)\n",
    "titanic_df['Cabin'].fillna('N',inplace=True)\n",
    "titanic_df['Embarked'].fillna('N',inplace=True)"
   ]
  },
  {
   "cell_type": "code",
   "execution_count": 73,
   "metadata": {},
   "outputs": [
    {
     "output_type": "execute_result",
     "data": {
      "text/plain": [
       "0       3\n",
       "1       7\n",
       "2       7\n",
       "3       7\n",
       "4       7\n",
       "       ..\n",
       "1304    7\n",
       "1305    7\n",
       "1306    2\n",
       "1307    7\n",
       "1308    0\n",
       "Name: Cabin, Length: 1309, dtype: int64"
      ]
     },
     "metadata": {},
     "execution_count": 73
    }
   ],
   "source": [
    "titanic_df['Cabin']"
   ]
  },
  {
   "cell_type": "code",
   "execution_count": 69,
   "metadata": {},
   "outputs": [
    {
     "output_type": "error",
     "ename": "AttributeError",
     "evalue": "Can only use .str accessor with string values!",
     "traceback": [
      "\u001b[0;31m---------------------------------------------------------------------------\u001b[0m",
      "\u001b[0;31mAttributeError\u001b[0m                            Traceback (most recent call last)",
      "\u001b[0;32m<ipython-input-69-070626c31a79>\u001b[0m in \u001b[0;36m<module>\u001b[0;34m\u001b[0m\n\u001b[0;32m----> 1\u001b[0;31m \u001b[0mtitanic_df\u001b[0m\u001b[0;34m[\u001b[0m\u001b[0;34m'Cabin'\u001b[0m\u001b[0;34m]\u001b[0m \u001b[0;34m=\u001b[0m \u001b[0mtitanic_df\u001b[0m\u001b[0;34m[\u001b[0m\u001b[0;34m'Cabin'\u001b[0m\u001b[0;34m]\u001b[0m\u001b[0;34m.\u001b[0m\u001b[0mstr\u001b[0m\u001b[0;34m[\u001b[0m\u001b[0;34m:\u001b[0m\u001b[0;36m1\u001b[0m\u001b[0;34m]\u001b[0m\u001b[0;34m\u001b[0m\u001b[0;34m\u001b[0m\u001b[0m\n\u001b[0m\u001b[1;32m      2\u001b[0m \u001b[0;32mfrom\u001b[0m \u001b[0msklearn\u001b[0m\u001b[0;34m.\u001b[0m\u001b[0mpreprocessing\u001b[0m \u001b[0;32mimport\u001b[0m \u001b[0mLabelEncoder\u001b[0m\u001b[0;34m\u001b[0m\u001b[0;34m\u001b[0m\u001b[0m\n\u001b[1;32m      3\u001b[0m \u001b[0;34m\u001b[0m\u001b[0m\n\u001b[1;32m      4\u001b[0m \u001b[0mfeatures\u001b[0m \u001b[0;34m=\u001b[0m \u001b[0;34m[\u001b[0m\u001b[0;34m'Cabin'\u001b[0m\u001b[0;34m,\u001b[0m \u001b[0;34m'Sex'\u001b[0m\u001b[0;34m,\u001b[0m \u001b[0;34m'Embarked'\u001b[0m\u001b[0;34m]\u001b[0m\u001b[0;34m\u001b[0m\u001b[0;34m\u001b[0m\u001b[0m\n\u001b[1;32m      5\u001b[0m \u001b[0;32mfor\u001b[0m \u001b[0mfeature\u001b[0m \u001b[0;32min\u001b[0m \u001b[0mfeatures\u001b[0m\u001b[0;34m:\u001b[0m\u001b[0;34m\u001b[0m\u001b[0;34m\u001b[0m\u001b[0m\n",
      "\u001b[0;32m~/opt/anaconda3/lib/python3.8/site-packages/pandas/core/generic.py\u001b[0m in \u001b[0;36m__getattr__\u001b[0;34m(self, name)\u001b[0m\n\u001b[1;32m   5268\u001b[0m             \u001b[0;32mor\u001b[0m \u001b[0mname\u001b[0m \u001b[0;32min\u001b[0m \u001b[0mself\u001b[0m\u001b[0;34m.\u001b[0m\u001b[0m_accessors\u001b[0m\u001b[0;34m\u001b[0m\u001b[0;34m\u001b[0m\u001b[0m\n\u001b[1;32m   5269\u001b[0m         ):\n\u001b[0;32m-> 5270\u001b[0;31m             \u001b[0;32mreturn\u001b[0m \u001b[0mobject\u001b[0m\u001b[0;34m.\u001b[0m\u001b[0m__getattribute__\u001b[0m\u001b[0;34m(\u001b[0m\u001b[0mself\u001b[0m\u001b[0;34m,\u001b[0m \u001b[0mname\u001b[0m\u001b[0;34m)\u001b[0m\u001b[0;34m\u001b[0m\u001b[0;34m\u001b[0m\u001b[0m\n\u001b[0m\u001b[1;32m   5271\u001b[0m         \u001b[0;32melse\u001b[0m\u001b[0;34m:\u001b[0m\u001b[0;34m\u001b[0m\u001b[0;34m\u001b[0m\u001b[0m\n\u001b[1;32m   5272\u001b[0m             \u001b[0;32mif\u001b[0m \u001b[0mself\u001b[0m\u001b[0;34m.\u001b[0m\u001b[0m_info_axis\u001b[0m\u001b[0;34m.\u001b[0m\u001b[0m_can_hold_identifiers_and_holds_name\u001b[0m\u001b[0;34m(\u001b[0m\u001b[0mname\u001b[0m\u001b[0;34m)\u001b[0m\u001b[0;34m:\u001b[0m\u001b[0;34m\u001b[0m\u001b[0;34m\u001b[0m\u001b[0m\n",
      "\u001b[0;32m~/opt/anaconda3/lib/python3.8/site-packages/pandas/core/accessor.py\u001b[0m in \u001b[0;36m__get__\u001b[0;34m(self, obj, cls)\u001b[0m\n\u001b[1;32m    185\u001b[0m             \u001b[0;31m# we're accessing the attribute of the class, i.e., Dataset.geo\u001b[0m\u001b[0;34m\u001b[0m\u001b[0;34m\u001b[0m\u001b[0;34m\u001b[0m\u001b[0m\n\u001b[1;32m    186\u001b[0m             \u001b[0;32mreturn\u001b[0m \u001b[0mself\u001b[0m\u001b[0;34m.\u001b[0m\u001b[0m_accessor\u001b[0m\u001b[0;34m\u001b[0m\u001b[0;34m\u001b[0m\u001b[0m\n\u001b[0;32m--> 187\u001b[0;31m         \u001b[0maccessor_obj\u001b[0m \u001b[0;34m=\u001b[0m \u001b[0mself\u001b[0m\u001b[0;34m.\u001b[0m\u001b[0m_accessor\u001b[0m\u001b[0;34m(\u001b[0m\u001b[0mobj\u001b[0m\u001b[0;34m)\u001b[0m\u001b[0;34m\u001b[0m\u001b[0;34m\u001b[0m\u001b[0m\n\u001b[0m\u001b[1;32m    188\u001b[0m         \u001b[0;31m# Replace the property with the accessor object. Inspired by:\u001b[0m\u001b[0;34m\u001b[0m\u001b[0;34m\u001b[0m\u001b[0;34m\u001b[0m\u001b[0m\n\u001b[1;32m    189\u001b[0m         \u001b[0;31m# http://www.pydanny.com/cached-property.html\u001b[0m\u001b[0;34m\u001b[0m\u001b[0;34m\u001b[0m\u001b[0;34m\u001b[0m\u001b[0m\n",
      "\u001b[0;32m~/opt/anaconda3/lib/python3.8/site-packages/pandas/core/strings.py\u001b[0m in \u001b[0;36m__init__\u001b[0;34m(self, data)\u001b[0m\n\u001b[1;32m   2039\u001b[0m \u001b[0;34m\u001b[0m\u001b[0m\n\u001b[1;32m   2040\u001b[0m     \u001b[0;32mdef\u001b[0m \u001b[0m__init__\u001b[0m\u001b[0;34m(\u001b[0m\u001b[0mself\u001b[0m\u001b[0;34m,\u001b[0m \u001b[0mdata\u001b[0m\u001b[0;34m)\u001b[0m\u001b[0;34m:\u001b[0m\u001b[0;34m\u001b[0m\u001b[0;34m\u001b[0m\u001b[0m\n\u001b[0;32m-> 2041\u001b[0;31m         \u001b[0mself\u001b[0m\u001b[0;34m.\u001b[0m\u001b[0m_inferred_dtype\u001b[0m \u001b[0;34m=\u001b[0m \u001b[0mself\u001b[0m\u001b[0;34m.\u001b[0m\u001b[0m_validate\u001b[0m\u001b[0;34m(\u001b[0m\u001b[0mdata\u001b[0m\u001b[0;34m)\u001b[0m\u001b[0;34m\u001b[0m\u001b[0;34m\u001b[0m\u001b[0m\n\u001b[0m\u001b[1;32m   2042\u001b[0m         \u001b[0mself\u001b[0m\u001b[0;34m.\u001b[0m\u001b[0m_is_categorical\u001b[0m \u001b[0;34m=\u001b[0m \u001b[0mis_categorical_dtype\u001b[0m\u001b[0;34m(\u001b[0m\u001b[0mdata\u001b[0m\u001b[0;34m)\u001b[0m\u001b[0;34m\u001b[0m\u001b[0;34m\u001b[0m\u001b[0m\n\u001b[1;32m   2043\u001b[0m         \u001b[0mself\u001b[0m\u001b[0;34m.\u001b[0m\u001b[0m_is_string\u001b[0m \u001b[0;34m=\u001b[0m \u001b[0mdata\u001b[0m\u001b[0;34m.\u001b[0m\u001b[0mdtype\u001b[0m\u001b[0;34m.\u001b[0m\u001b[0mname\u001b[0m \u001b[0;34m==\u001b[0m \u001b[0;34m\"string\"\u001b[0m\u001b[0;34m\u001b[0m\u001b[0;34m\u001b[0m\u001b[0m\n",
      "\u001b[0;32m~/opt/anaconda3/lib/python3.8/site-packages/pandas/core/strings.py\u001b[0m in \u001b[0;36m_validate\u001b[0;34m(data)\u001b[0m\n\u001b[1;32m   2096\u001b[0m \u001b[0;34m\u001b[0m\u001b[0m\n\u001b[1;32m   2097\u001b[0m         \u001b[0;32mif\u001b[0m \u001b[0minferred_dtype\u001b[0m \u001b[0;32mnot\u001b[0m \u001b[0;32min\u001b[0m \u001b[0mallowed_types\u001b[0m\u001b[0;34m:\u001b[0m\u001b[0;34m\u001b[0m\u001b[0;34m\u001b[0m\u001b[0m\n\u001b[0;32m-> 2098\u001b[0;31m             \u001b[0;32mraise\u001b[0m \u001b[0mAttributeError\u001b[0m\u001b[0;34m(\u001b[0m\u001b[0;34m\"Can only use .str accessor with string values!\"\u001b[0m\u001b[0;34m)\u001b[0m\u001b[0;34m\u001b[0m\u001b[0;34m\u001b[0m\u001b[0m\n\u001b[0m\u001b[1;32m   2099\u001b[0m         \u001b[0;32mreturn\u001b[0m \u001b[0minferred_dtype\u001b[0m\u001b[0;34m\u001b[0m\u001b[0;34m\u001b[0m\u001b[0m\n\u001b[1;32m   2100\u001b[0m \u001b[0;34m\u001b[0m\u001b[0m\n",
      "\u001b[0;31mAttributeError\u001b[0m: Can only use .str accessor with string values!"
     ]
    }
   ],
   "source": [
    "titanic_df['Cabin'] = titanic_df['Cabin'].str[:1]\n",
    "from sklearn.preprocessing import LabelEncoder\n",
    "\n",
    "features = ['Cabin', 'Sex', 'Embarked']\n",
    "for feature in features:\n",
    "    le = LabelEncoder()\n",
    "    titanic_df[feature] = le.fit_transform(titanic_df[feature])\n",
    "\n",
    "titanic_df.head(3)"
   ]
  },
  {
   "cell_type": "code",
   "execution_count": 48,
   "metadata": {},
   "outputs": [],
   "source": [
    "# Null 처리 함수\n",
    "def fillna(df):\n",
    "    df['Age'].fillna(df['Age'].mean(), inplace=True)\n",
    "    df['Cabin'].fillna('N', inplace=True)\n",
    "    df['Embarked'].fillna('N', inplace=True)\n",
    "    df['Fare'].fillna(0, inplace=True)\n",
    "    return df\n",
    "\n",
    "# 머신러닝 알고리즘에 불필요한 속성 제거\n",
    "def drop_features(df):\n",
    "    df.drop(['PassengerId','Name','Ticket'], axis=1, inplace=True)\n",
    "    return df\n",
    "\n",
    "# 레이블 인코딩 수행. \n",
    "def format_features(df):\n",
    "    df['Cabin'] = df['Cabin'].str[:1]\n",
    "    features = ['Cabin', 'Sex', 'Embarked']\n",
    "    for feature in features:\n",
    "        le = LabelEncoder()\n",
    "        df[feature] = le.fit_transform(df[feature])\n",
    "    return df\n",
    "\n",
    "# 앞에서 설정한 Data Preprocessing 함수 호출\n",
    "def transform_features(df):\n",
    "    df = fillna(df)\n",
    "    df = drop_features(df)\n",
    "    df = format_features(df)\n",
    "    return df"
   ]
  },
  {
   "cell_type": "code",
   "execution_count": 49,
   "metadata": {},
   "outputs": [
    {
     "output_type": "stream",
     "name": "stdout",
     "text": [
      "데이터 세트 Null 값 갯수  419\n"
     ]
    }
   ],
   "source": [
    "titanic_df['Age'].fillna(titanic_df['Age'].mean(), inplace=True)\n",
    "titanic_df['Cabin'].fillna('N',inplace=True)\n",
    "titanic_df['Embarked'].fillna('N',inplace=True)\n",
    "print('데이터 세트 Null 값 갯수 ', titanic_df.isnull().sum().sum())"
   ]
  },
  {
   "cell_type": "code",
   "execution_count": 50,
   "metadata": {},
   "outputs": [],
   "source": [
    "titanic_df['Age_cat'] = titanic_df['Age'].apply(lambda x : get_category(x))"
   ]
  },
  {
   "cell_type": "code",
   "execution_count": 51,
   "metadata": {},
   "outputs": [],
   "source": [
    "y_titanic_df = titanic_df['Survived']\n",
    "X_titanic_df = titanic_df.drop('Survived', axis=1)\n",
    "\n",
    "X_titanic_df = transform_features(X_titanic_df)"
   ]
  },
  {
   "cell_type": "code",
   "execution_count": 52,
   "metadata": {},
   "outputs": [],
   "source": [
    "X_train, X_test, y_train, y_test=train_test_split(\n",
    "    X_titanic_df, y_titanic_df, test_size=0.25, random_state=2021\n",
    ")"
   ]
  },
  {
   "cell_type": "code",
   "execution_count": 53,
   "metadata": {},
   "outputs": [],
   "source": [
    "titanic_train = pd.concat([X_train,y_train],axis=1)\n",
    "titanic_test = pd.concat([X_test,y_test],axis=1)"
   ]
  },
  {
   "cell_type": "code",
   "execution_count": null,
   "metadata": {},
   "outputs": [],
   "source": []
  },
  {
   "cell_type": "code",
   "execution_count": 58,
   "metadata": {},
   "outputs": [
    {
     "output_type": "execute_result",
     "data": {
      "text/plain": [
       "      Pclass  Sex        Age  SibSp  Parch      Fare  Cabin  Embarked  \\\n",
       "1245       3    0   0.170000      1      2   20.5750      7         3   \n",
       "745        1    1  70.000000      1      1   71.0000      1         3   \n",
       "544        1    1  50.000000      1      0  106.4250      2         0   \n",
       "1269       1    1  55.000000      0      0   50.0000      2         3   \n",
       "1040       2    1  30.000000      1      1   26.0000      7         3   \n",
       "...      ...  ...        ...    ...    ...       ...    ...       ...   \n",
       "697        3    0  29.881138      0      0    7.7333      7         2   \n",
       "448        3    0   5.000000      2      1   19.2583      7         0   \n",
       "351        1    1  29.881138      0      0   35.0000      2         3   \n",
       "476        2    1  34.000000      1      0   21.0000      7         3   \n",
       "1265       1    0  54.000000      1      1   81.8583      0         3   \n",
       "\n",
       "          Age_cat  Survived  \n",
       "1245         Baby       0.0  \n",
       "745       Elderly       0.0  \n",
       "544         Adult       0.0  \n",
       "1269        Adult       0.0  \n",
       "1040  Young Adult       0.0  \n",
       "...           ...       ...  \n",
       "697   Young Adult       1.0  \n",
       "448          Baby       1.0  \n",
       "351   Young Adult       0.0  \n",
       "476   Young Adult       0.0  \n",
       "1265        Adult       0.0  \n",
       "\n",
       "[328 rows x 10 columns]"
      ],
      "text/html": "<div>\n<style scoped>\n    .dataframe tbody tr th:only-of-type {\n        vertical-align: middle;\n    }\n\n    .dataframe tbody tr th {\n        vertical-align: top;\n    }\n\n    .dataframe thead th {\n        text-align: right;\n    }\n</style>\n<table border=\"1\" class=\"dataframe\">\n  <thead>\n    <tr style=\"text-align: right;\">\n      <th></th>\n      <th>Pclass</th>\n      <th>Sex</th>\n      <th>Age</th>\n      <th>SibSp</th>\n      <th>Parch</th>\n      <th>Fare</th>\n      <th>Cabin</th>\n      <th>Embarked</th>\n      <th>Age_cat</th>\n      <th>Survived</th>\n    </tr>\n  </thead>\n  <tbody>\n    <tr>\n      <th>1245</th>\n      <td>3</td>\n      <td>0</td>\n      <td>0.170000</td>\n      <td>1</td>\n      <td>2</td>\n      <td>20.5750</td>\n      <td>7</td>\n      <td>3</td>\n      <td>Baby</td>\n      <td>0.0</td>\n    </tr>\n    <tr>\n      <th>745</th>\n      <td>1</td>\n      <td>1</td>\n      <td>70.000000</td>\n      <td>1</td>\n      <td>1</td>\n      <td>71.0000</td>\n      <td>1</td>\n      <td>3</td>\n      <td>Elderly</td>\n      <td>0.0</td>\n    </tr>\n    <tr>\n      <th>544</th>\n      <td>1</td>\n      <td>1</td>\n      <td>50.000000</td>\n      <td>1</td>\n      <td>0</td>\n      <td>106.4250</td>\n      <td>2</td>\n      <td>0</td>\n      <td>Adult</td>\n      <td>0.0</td>\n    </tr>\n    <tr>\n      <th>1269</th>\n      <td>1</td>\n      <td>1</td>\n      <td>55.000000</td>\n      <td>0</td>\n      <td>0</td>\n      <td>50.0000</td>\n      <td>2</td>\n      <td>3</td>\n      <td>Adult</td>\n      <td>0.0</td>\n    </tr>\n    <tr>\n      <th>1040</th>\n      <td>2</td>\n      <td>1</td>\n      <td>30.000000</td>\n      <td>1</td>\n      <td>1</td>\n      <td>26.0000</td>\n      <td>7</td>\n      <td>3</td>\n      <td>Young Adult</td>\n      <td>0.0</td>\n    </tr>\n    <tr>\n      <th>...</th>\n      <td>...</td>\n      <td>...</td>\n      <td>...</td>\n      <td>...</td>\n      <td>...</td>\n      <td>...</td>\n      <td>...</td>\n      <td>...</td>\n      <td>...</td>\n      <td>...</td>\n    </tr>\n    <tr>\n      <th>697</th>\n      <td>3</td>\n      <td>0</td>\n      <td>29.881138</td>\n      <td>0</td>\n      <td>0</td>\n      <td>7.7333</td>\n      <td>7</td>\n      <td>2</td>\n      <td>Young Adult</td>\n      <td>1.0</td>\n    </tr>\n    <tr>\n      <th>448</th>\n      <td>3</td>\n      <td>0</td>\n      <td>5.000000</td>\n      <td>2</td>\n      <td>1</td>\n      <td>19.2583</td>\n      <td>7</td>\n      <td>0</td>\n      <td>Baby</td>\n      <td>1.0</td>\n    </tr>\n    <tr>\n      <th>351</th>\n      <td>1</td>\n      <td>1</td>\n      <td>29.881138</td>\n      <td>0</td>\n      <td>0</td>\n      <td>35.0000</td>\n      <td>2</td>\n      <td>3</td>\n      <td>Young Adult</td>\n      <td>0.0</td>\n    </tr>\n    <tr>\n      <th>476</th>\n      <td>2</td>\n      <td>1</td>\n      <td>34.000000</td>\n      <td>1</td>\n      <td>0</td>\n      <td>21.0000</td>\n      <td>7</td>\n      <td>3</td>\n      <td>Young Adult</td>\n      <td>0.0</td>\n    </tr>\n    <tr>\n      <th>1265</th>\n      <td>1</td>\n      <td>0</td>\n      <td>54.000000</td>\n      <td>1</td>\n      <td>1</td>\n      <td>81.8583</td>\n      <td>0</td>\n      <td>3</td>\n      <td>Adult</td>\n      <td>0.0</td>\n    </tr>\n  </tbody>\n</table>\n<p>328 rows × 10 columns</p>\n</div>"
     },
     "metadata": {},
     "execution_count": 58
    }
   ],
   "source": [
    "titanic_train.fillna(0)\n",
    "titanic_test.fillna(0)"
   ]
  },
  {
   "cell_type": "code",
   "execution_count": 60,
   "metadata": {},
   "outputs": [
    {
     "output_type": "execute_result",
     "data": {
      "text/plain": [
       "      Pclass  Sex        Age  SibSp  Parch      Fare  Cabin  Embarked  \\\n",
       "1245       3    0   0.170000      1      2   20.5750      7         3   \n",
       "745        1    1  70.000000      1      1   71.0000      1         3   \n",
       "544        1    1  50.000000      1      0  106.4250      2         0   \n",
       "1269       1    1  55.000000      0      0   50.0000      2         3   \n",
       "1040       2    1  30.000000      1      1   26.0000      7         3   \n",
       "...      ...  ...        ...    ...    ...       ...    ...       ...   \n",
       "697        3    0  29.881138      0      0    7.7333      7         2   \n",
       "448        3    0   5.000000      2      1   19.2583      7         0   \n",
       "351        1    1  29.881138      0      0   35.0000      2         3   \n",
       "476        2    1  34.000000      1      0   21.0000      7         3   \n",
       "1265       1    0  54.000000      1      1   81.8583      0         3   \n",
       "\n",
       "          Age_cat  Survived  \n",
       "1245         Baby       NaN  \n",
       "745       Elderly       0.0  \n",
       "544         Adult       0.0  \n",
       "1269        Adult       NaN  \n",
       "1040  Young Adult       NaN  \n",
       "...           ...       ...  \n",
       "697   Young Adult       1.0  \n",
       "448          Baby       1.0  \n",
       "351   Young Adult       0.0  \n",
       "476   Young Adult       0.0  \n",
       "1265        Adult       NaN  \n",
       "\n",
       "[328 rows x 10 columns]"
      ],
      "text/html": "<div>\n<style scoped>\n    .dataframe tbody tr th:only-of-type {\n        vertical-align: middle;\n    }\n\n    .dataframe tbody tr th {\n        vertical-align: top;\n    }\n\n    .dataframe thead th {\n        text-align: right;\n    }\n</style>\n<table border=\"1\" class=\"dataframe\">\n  <thead>\n    <tr style=\"text-align: right;\">\n      <th></th>\n      <th>Pclass</th>\n      <th>Sex</th>\n      <th>Age</th>\n      <th>SibSp</th>\n      <th>Parch</th>\n      <th>Fare</th>\n      <th>Cabin</th>\n      <th>Embarked</th>\n      <th>Age_cat</th>\n      <th>Survived</th>\n    </tr>\n  </thead>\n  <tbody>\n    <tr>\n      <th>1245</th>\n      <td>3</td>\n      <td>0</td>\n      <td>0.170000</td>\n      <td>1</td>\n      <td>2</td>\n      <td>20.5750</td>\n      <td>7</td>\n      <td>3</td>\n      <td>Baby</td>\n      <td>NaN</td>\n    </tr>\n    <tr>\n      <th>745</th>\n      <td>1</td>\n      <td>1</td>\n      <td>70.000000</td>\n      <td>1</td>\n      <td>1</td>\n      <td>71.0000</td>\n      <td>1</td>\n      <td>3</td>\n      <td>Elderly</td>\n      <td>0.0</td>\n    </tr>\n    <tr>\n      <th>544</th>\n      <td>1</td>\n      <td>1</td>\n      <td>50.000000</td>\n      <td>1</td>\n      <td>0</td>\n      <td>106.4250</td>\n      <td>2</td>\n      <td>0</td>\n      <td>Adult</td>\n      <td>0.0</td>\n    </tr>\n    <tr>\n      <th>1269</th>\n      <td>1</td>\n      <td>1</td>\n      <td>55.000000</td>\n      <td>0</td>\n      <td>0</td>\n      <td>50.0000</td>\n      <td>2</td>\n      <td>3</td>\n      <td>Adult</td>\n      <td>NaN</td>\n    </tr>\n    <tr>\n      <th>1040</th>\n      <td>2</td>\n      <td>1</td>\n      <td>30.000000</td>\n      <td>1</td>\n      <td>1</td>\n      <td>26.0000</td>\n      <td>7</td>\n      <td>3</td>\n      <td>Young Adult</td>\n      <td>NaN</td>\n    </tr>\n    <tr>\n      <th>...</th>\n      <td>...</td>\n      <td>...</td>\n      <td>...</td>\n      <td>...</td>\n      <td>...</td>\n      <td>...</td>\n      <td>...</td>\n      <td>...</td>\n      <td>...</td>\n      <td>...</td>\n    </tr>\n    <tr>\n      <th>697</th>\n      <td>3</td>\n      <td>0</td>\n      <td>29.881138</td>\n      <td>0</td>\n      <td>0</td>\n      <td>7.7333</td>\n      <td>7</td>\n      <td>2</td>\n      <td>Young Adult</td>\n      <td>1.0</td>\n    </tr>\n    <tr>\n      <th>448</th>\n      <td>3</td>\n      <td>0</td>\n      <td>5.000000</td>\n      <td>2</td>\n      <td>1</td>\n      <td>19.2583</td>\n      <td>7</td>\n      <td>0</td>\n      <td>Baby</td>\n      <td>1.0</td>\n    </tr>\n    <tr>\n      <th>351</th>\n      <td>1</td>\n      <td>1</td>\n      <td>29.881138</td>\n      <td>0</td>\n      <td>0</td>\n      <td>35.0000</td>\n      <td>2</td>\n      <td>3</td>\n      <td>Young Adult</td>\n      <td>0.0</td>\n    </tr>\n    <tr>\n      <th>476</th>\n      <td>2</td>\n      <td>1</td>\n      <td>34.000000</td>\n      <td>1</td>\n      <td>0</td>\n      <td>21.0000</td>\n      <td>7</td>\n      <td>3</td>\n      <td>Young Adult</td>\n      <td>0.0</td>\n    </tr>\n    <tr>\n      <th>1265</th>\n      <td>1</td>\n      <td>0</td>\n      <td>54.000000</td>\n      <td>1</td>\n      <td>1</td>\n      <td>81.8583</td>\n      <td>0</td>\n      <td>3</td>\n      <td>Adult</td>\n      <td>NaN</td>\n    </tr>\n  </tbody>\n</table>\n<p>328 rows × 10 columns</p>\n</div>"
     },
     "metadata": {},
     "execution_count": 60
    }
   ],
   "source": [
    "titanic_test"
   ]
  },
  {
   "cell_type": "code",
   "execution_count": 59,
   "metadata": {},
   "outputs": [],
   "source": [
    "X_train.to_csv('static/data/titanic_train.csv', index=False)\n",
    "X_test.to_csv('static/data/titanic_test.csv', index=False)"
   ]
  },
  {
   "cell_type": "code",
   "execution_count": null,
   "metadata": {},
   "outputs": [],
   "source": []
  }
 ]
}